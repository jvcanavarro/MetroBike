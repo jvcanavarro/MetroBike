{
 "cells": [
  {
   "cell_type": "markdown",
   "metadata": {},
   "source": [
    "# Discrete Simulation Final Project\n",
    "Authors: [Felipe Melo](https://github.com/FelipOliveira), [João Canavarro](https://github.com/jvcanavarro) and [Vitor Cantão](https://github.com/VitorCantao)."
   ]
  },
  {
   "cell_type": "markdown",
   "metadata": {},
   "source": [
    "***\n",
    "## Metro Bike [Dataset](https://bikeshare.metro.net/about/data/)\n",
    "*The Metro Bike Share system makes bikes available 24/7, 365 days a year in Downtown LA, Central LA, and North Hollywood (...). Metro Bike Share offers convenient round-the-clock access to a fleet of bicycles for short trips. Metro Bike Share is one of LA Metro's multiple public transportation options for Angelenos and visitors to get around.*"
   ]
  },
  {
   "cell_type": "code",
   "execution_count": 14,
   "metadata": {},
   "outputs": [],
   "source": [
    "import matplotlib.pyplot as plt\n",
    "import geopy.distance as gd\n",
    "import pandas as pd\n",
    "import numpy as np"
   ]
  },
  {
   "cell_type": "markdown",
   "metadata": {},
   "source": [
    "### Dataset Overview"
   ]
  },
  {
   "cell_type": "code",
   "execution_count": 52,
   "metadata": {},
   "outputs": [
    {
     "name": "stderr",
     "output_type": "stream",
     "text": [
      "/opt/anaconda/lib/python3.8/site-packages/IPython/core/interactiveshell.py:3146: DtypeWarning: Columns (10) have mixed types.Specify dtype option on import or set low_memory=False.\n",
      "  has_raised = await self.run_ast_nodes(code_ast.body, cell_name,\n"
     ]
    },
    {
     "data": {
      "text/html": [
       "<div>\n",
       "<style scoped>\n",
       "    .dataframe tbody tr th:only-of-type {\n",
       "        vertical-align: middle;\n",
       "    }\n",
       "\n",
       "    .dataframe tbody tr th {\n",
       "        vertical-align: top;\n",
       "    }\n",
       "\n",
       "    .dataframe thead th {\n",
       "        text-align: right;\n",
       "    }\n",
       "</style>\n",
       "<table border=\"1\" class=\"dataframe\">\n",
       "  <thead>\n",
       "    <tr style=\"text-align: right;\">\n",
       "      <th></th>\n",
       "      <th>trip_id</th>\n",
       "      <th>duration</th>\n",
       "      <th>start_time</th>\n",
       "      <th>end_time</th>\n",
       "      <th>start_station</th>\n",
       "      <th>start_lat</th>\n",
       "      <th>start_lon</th>\n",
       "      <th>end_station</th>\n",
       "      <th>end_lat</th>\n",
       "      <th>end_lon</th>\n",
       "      <th>bike_id</th>\n",
       "      <th>plan_duration</th>\n",
       "      <th>trip_route_category</th>\n",
       "      <th>passholder_type</th>\n",
       "      <th>bike_type</th>\n",
       "    </tr>\n",
       "  </thead>\n",
       "  <tbody>\n",
       "    <tr>\n",
       "      <th>0</th>\n",
       "      <td>134867493</td>\n",
       "      <td>25</td>\n",
       "      <td>1/1/2020 0:16</td>\n",
       "      <td>1/1/2020 0:41</td>\n",
       "      <td>3063</td>\n",
       "      <td>34.048038</td>\n",
       "      <td>-118.253738</td>\n",
       "      <td>4491</td>\n",
       "      <td>34.047440</td>\n",
       "      <td>-118.247940</td>\n",
       "      <td>18419</td>\n",
       "      <td>30</td>\n",
       "      <td>One Way</td>\n",
       "      <td>Monthly Pass</td>\n",
       "      <td>electric</td>\n",
       "    </tr>\n",
       "    <tr>\n",
       "      <th>1</th>\n",
       "      <td>134867799</td>\n",
       "      <td>35</td>\n",
       "      <td>1/1/2020 0:24</td>\n",
       "      <td>1/1/2020 0:59</td>\n",
       "      <td>4285</td>\n",
       "      <td>NaN</td>\n",
       "      <td>NaN</td>\n",
       "      <td>4354</td>\n",
       "      <td>34.017681</td>\n",
       "      <td>-118.409081</td>\n",
       "      <td>15661</td>\n",
       "      <td>1</td>\n",
       "      <td>One Way</td>\n",
       "      <td>One Day Pass</td>\n",
       "      <td>smart</td>\n",
       "    </tr>\n",
       "    <tr>\n",
       "      <th>2</th>\n",
       "      <td>134868104</td>\n",
       "      <td>37</td>\n",
       "      <td>1/1/2020 0:31</td>\n",
       "      <td>1/1/2020 1:08</td>\n",
       "      <td>4344</td>\n",
       "      <td>34.014309</td>\n",
       "      <td>-118.491341</td>\n",
       "      <td>4322</td>\n",
       "      <td>34.005871</td>\n",
       "      <td>-118.429161</td>\n",
       "      <td>15848</td>\n",
       "      <td>1</td>\n",
       "      <td>One Way</td>\n",
       "      <td>Walk-up</td>\n",
       "      <td>smart</td>\n",
       "    </tr>\n",
       "    <tr>\n",
       "      <th>3</th>\n",
       "      <td>134868103</td>\n",
       "      <td>36</td>\n",
       "      <td>1/1/2020 0:32</td>\n",
       "      <td>1/1/2020 1:08</td>\n",
       "      <td>4344</td>\n",
       "      <td>34.014309</td>\n",
       "      <td>-118.491341</td>\n",
       "      <td>4322</td>\n",
       "      <td>34.005871</td>\n",
       "      <td>-118.429161</td>\n",
       "      <td>16053</td>\n",
       "      <td>1</td>\n",
       "      <td>One Way</td>\n",
       "      <td>Walk-up</td>\n",
       "      <td>smart</td>\n",
       "    </tr>\n",
       "    <tr>\n",
       "      <th>4</th>\n",
       "      <td>134868102</td>\n",
       "      <td>35</td>\n",
       "      <td>1/1/2020 0:33</td>\n",
       "      <td>1/1/2020 1:08</td>\n",
       "      <td>4344</td>\n",
       "      <td>34.014309</td>\n",
       "      <td>-118.491341</td>\n",
       "      <td>4322</td>\n",
       "      <td>34.005871</td>\n",
       "      <td>-118.429161</td>\n",
       "      <td>15694</td>\n",
       "      <td>1</td>\n",
       "      <td>One Way</td>\n",
       "      <td>Walk-up</td>\n",
       "      <td>smart</td>\n",
       "    </tr>\n",
       "  </tbody>\n",
       "</table>\n",
       "</div>"
      ],
      "text/plain": [
       "     trip_id  duration     start_time       end_time  start_station  \\\n",
       "0  134867493        25  1/1/2020 0:16  1/1/2020 0:41           3063   \n",
       "1  134867799        35  1/1/2020 0:24  1/1/2020 0:59           4285   \n",
       "2  134868104        37  1/1/2020 0:31  1/1/2020 1:08           4344   \n",
       "3  134868103        36  1/1/2020 0:32  1/1/2020 1:08           4344   \n",
       "4  134868102        35  1/1/2020 0:33  1/1/2020 1:08           4344   \n",
       "\n",
       "   start_lat   start_lon  end_station    end_lat     end_lon bike_id  \\\n",
       "0  34.048038 -118.253738         4491  34.047440 -118.247940   18419   \n",
       "1        NaN         NaN         4354  34.017681 -118.409081   15661   \n",
       "2  34.014309 -118.491341         4322  34.005871 -118.429161   15848   \n",
       "3  34.014309 -118.491341         4322  34.005871 -118.429161   16053   \n",
       "4  34.014309 -118.491341         4322  34.005871 -118.429161   15694   \n",
       "\n",
       "   plan_duration trip_route_category passholder_type bike_type  \n",
       "0             30             One Way    Monthly Pass  electric  \n",
       "1              1             One Way    One Day Pass     smart  \n",
       "2              1             One Way         Walk-up     smart  \n",
       "3              1             One Way         Walk-up     smart  \n",
       "4              1             One Way         Walk-up     smart  "
      ]
     },
     "execution_count": 52,
     "metadata": {},
     "output_type": "execute_result"
    }
   ],
   "source": [
    "df = pd.read_csv('../metrobike-2020.csv')\n",
    "df.head()"
   ]
  },
  {
   "cell_type": "code",
   "execution_count": 16,
   "metadata": {},
   "outputs": [
    {
     "data": {
      "text/plain": [
       "209974"
      ]
     },
     "execution_count": 16,
     "metadata": {},
     "output_type": "execute_result"
    }
   ],
   "source": [
    "# Number of rides in 2020\n",
    "df.shape[0]"
   ]
  },
  {
   "cell_type": "code",
   "execution_count": 17,
   "metadata": {},
   "outputs": [
    {
     "data": {
      "text/plain": [
       "Index(['trip_id', 'duration', 'start_time', 'end_time', 'start_station',\n",
       "       'start_lat', 'start_lon', 'end_station', 'end_lat', 'end_lon',\n",
       "       'bike_id', 'plan_duration', 'trip_route_category', 'passholder_type',\n",
       "       'bike_type'],\n",
       "      dtype='object')"
      ]
     },
     "execution_count": 17,
     "metadata": {},
     "output_type": "execute_result"
    }
   ],
   "source": [
    "df.columns"
   ]
  },
  {
   "cell_type": "code",
   "execution_count": 18,
   "metadata": {},
   "outputs": [
    {
     "data": {
      "text/html": [
       "<div>\n",
       "<style scoped>\n",
       "    .dataframe tbody tr th:only-of-type {\n",
       "        vertical-align: middle;\n",
       "    }\n",
       "\n",
       "    .dataframe tbody tr th {\n",
       "        vertical-align: top;\n",
       "    }\n",
       "\n",
       "    .dataframe thead th {\n",
       "        text-align: right;\n",
       "    }\n",
       "</style>\n",
       "<table border=\"1\" class=\"dataframe\">\n",
       "  <thead>\n",
       "    <tr style=\"text-align: right;\">\n",
       "      <th></th>\n",
       "      <th>duration</th>\n",
       "      <th>start_time</th>\n",
       "      <th>end_time</th>\n",
       "      <th>start_station</th>\n",
       "      <th>start_lat</th>\n",
       "      <th>start_lon</th>\n",
       "      <th>end_station</th>\n",
       "      <th>end_lat</th>\n",
       "      <th>end_lon</th>\n",
       "      <th>bike_id</th>\n",
       "      <th>trip_route_category</th>\n",
       "      <th>bike_type</th>\n",
       "    </tr>\n",
       "  </thead>\n",
       "  <tbody>\n",
       "    <tr>\n",
       "      <th>0</th>\n",
       "      <td>25</td>\n",
       "      <td>1/1/2020 0:16</td>\n",
       "      <td>1/1/2020 0:41</td>\n",
       "      <td>3063</td>\n",
       "      <td>34.048038</td>\n",
       "      <td>-118.253738</td>\n",
       "      <td>4491</td>\n",
       "      <td>34.047440</td>\n",
       "      <td>-118.247940</td>\n",
       "      <td>18419</td>\n",
       "      <td>One Way</td>\n",
       "      <td>electric</td>\n",
       "    </tr>\n",
       "    <tr>\n",
       "      <th>1</th>\n",
       "      <td>35</td>\n",
       "      <td>1/1/2020 0:24</td>\n",
       "      <td>1/1/2020 0:59</td>\n",
       "      <td>4285</td>\n",
       "      <td>NaN</td>\n",
       "      <td>NaN</td>\n",
       "      <td>4354</td>\n",
       "      <td>34.017681</td>\n",
       "      <td>-118.409081</td>\n",
       "      <td>15661</td>\n",
       "      <td>One Way</td>\n",
       "      <td>smart</td>\n",
       "    </tr>\n",
       "    <tr>\n",
       "      <th>2</th>\n",
       "      <td>37</td>\n",
       "      <td>1/1/2020 0:31</td>\n",
       "      <td>1/1/2020 1:08</td>\n",
       "      <td>4344</td>\n",
       "      <td>34.014309</td>\n",
       "      <td>-118.491341</td>\n",
       "      <td>4322</td>\n",
       "      <td>34.005871</td>\n",
       "      <td>-118.429161</td>\n",
       "      <td>15848</td>\n",
       "      <td>One Way</td>\n",
       "      <td>smart</td>\n",
       "    </tr>\n",
       "    <tr>\n",
       "      <th>3</th>\n",
       "      <td>36</td>\n",
       "      <td>1/1/2020 0:32</td>\n",
       "      <td>1/1/2020 1:08</td>\n",
       "      <td>4344</td>\n",
       "      <td>34.014309</td>\n",
       "      <td>-118.491341</td>\n",
       "      <td>4322</td>\n",
       "      <td>34.005871</td>\n",
       "      <td>-118.429161</td>\n",
       "      <td>16053</td>\n",
       "      <td>One Way</td>\n",
       "      <td>smart</td>\n",
       "    </tr>\n",
       "    <tr>\n",
       "      <th>4</th>\n",
       "      <td>35</td>\n",
       "      <td>1/1/2020 0:33</td>\n",
       "      <td>1/1/2020 1:08</td>\n",
       "      <td>4344</td>\n",
       "      <td>34.014309</td>\n",
       "      <td>-118.491341</td>\n",
       "      <td>4322</td>\n",
       "      <td>34.005871</td>\n",
       "      <td>-118.429161</td>\n",
       "      <td>15694</td>\n",
       "      <td>One Way</td>\n",
       "      <td>smart</td>\n",
       "    </tr>\n",
       "  </tbody>\n",
       "</table>\n",
       "</div>"
      ],
      "text/plain": [
       "   duration     start_time       end_time  start_station  start_lat  \\\n",
       "0        25  1/1/2020 0:16  1/1/2020 0:41           3063  34.048038   \n",
       "1        35  1/1/2020 0:24  1/1/2020 0:59           4285        NaN   \n",
       "2        37  1/1/2020 0:31  1/1/2020 1:08           4344  34.014309   \n",
       "3        36  1/1/2020 0:32  1/1/2020 1:08           4344  34.014309   \n",
       "4        35  1/1/2020 0:33  1/1/2020 1:08           4344  34.014309   \n",
       "\n",
       "    start_lon  end_station    end_lat     end_lon bike_id trip_route_category  \\\n",
       "0 -118.253738         4491  34.047440 -118.247940   18419             One Way   \n",
       "1         NaN         4354  34.017681 -118.409081   15661             One Way   \n",
       "2 -118.491341         4322  34.005871 -118.429161   15848             One Way   \n",
       "3 -118.491341         4322  34.005871 -118.429161   16053             One Way   \n",
       "4 -118.491341         4322  34.005871 -118.429161   15694             One Way   \n",
       "\n",
       "  bike_type  \n",
       "0  electric  \n",
       "1     smart  \n",
       "2     smart  \n",
       "3     smart  \n",
       "4     smart  "
      ]
     },
     "execution_count": 18,
     "metadata": {},
     "output_type": "execute_result"
    }
   ],
   "source": [
    "# Remove unecessary columns\n",
    "columns = ['duration', 'start_time', 'end_time', 'start_station', 'start_lat', 'start_lon', 'end_station', 'end_lat', 'end_lon', 'bike_id', 'trip_route_category', 'bike_type']\n",
    "df = df[columns]\n",
    "df.head()"
   ]
  },
  {
   "cell_type": "markdown",
   "metadata": {},
   "source": [
    "####  According to Stations [Dataset](https://bikeshare.metro.net/wp-content/uploads/2021/01/metro-bike-share-stations-2021-01-01.csv):\n",
    "* `4285,Metro Bike Share Free Bikes,2/27/2019,Free Bikes,Active`\n",
    "* `4286,Metro Bike Share Out of Service Area Smart Bike,2/27/2019,Free Bikes,Active`\n",
    "* `3000,Virtual Station,7/7/2016,N/A,Active`\n",
    "\n",
    "Those stations doesn't possess geolocation information, which leads us to ignore then when calculating rides distances"
   ]
  },
  {
   "cell_type": "code",
   "execution_count": 64,
   "metadata": {},
   "outputs": [
    {
     "data": {
      "text/plain": [
       "array([], dtype=int64)"
      ]
     },
     "execution_count": 64,
     "metadata": {},
     "output_type": "execute_result"
    }
   ],
   "source": [
    "df_null = df[df.isnull().any(axis=1)]\n",
    "nan_stations = df_null.start_station[df_null['start_lat'].isnull()].unique()\n",
    "nan_stations"
   ]
  },
  {
   "cell_type": "code",
   "execution_count": 65,
   "metadata": {},
   "outputs": [],
   "source": [
    "# Remove stations without geolocation\n",
    "df = df.dropna()"
   ]
  },
  {
   "cell_type": "code",
   "execution_count": 66,
   "metadata": {},
   "outputs": [],
   "source": [
    "# Remove trips starting and ending at the same station\n",
    "df = df.loc[df.trip_route_category == 'One Way']"
   ]
  },
  {
   "cell_type": "code",
   "execution_count": 67,
   "metadata": {},
   "outputs": [
    {
     "name": "stdout",
     "output_type": "stream",
     "text": [
      "Number of bicycles:  3894\n",
      "Number of stations:  263\n"
     ]
    }
   ],
   "source": [
    "# Total bikes within all stations and Nº of stations\n",
    "print('Number of bicycles: ', len(df['bike_id'].unique()))\n",
    "print('Number of stations: ', df['start_station'].unique().shape[0])"
   ]
  },
  {
   "cell_type": "code",
   "execution_count": 68,
   "metadata": {},
   "outputs": [
    {
     "data": {
      "text/plain": [
       "standard    0.522733\n",
       "electric    0.406921\n",
       "smart       0.070346\n",
       "Name: bike_type, dtype: float64"
      ]
     },
     "execution_count": 68,
     "metadata": {},
     "output_type": "execute_result"
    }
   ],
   "source": [
    "# Percentage of rides by each model of bicycle\n",
    "df['bike_type'].value_counts(normalize=True)"
   ]
  },
  {
   "cell_type": "code",
   "execution_count": 69,
   "metadata": {},
   "outputs": [
    {
     "data": {
      "text/plain": [
       "26.045639739563143"
      ]
     },
     "execution_count": 69,
     "metadata": {},
     "output_type": "execute_result"
    }
   ],
   "source": [
    "# Mean duration of a bike travel\n",
    "df['duration'].mean()"
   ]
  },
  {
   "cell_type": "markdown",
   "metadata": {},
   "source": [
    "### Calculate distance using geolocation coordenates"
   ]
  },
  {
   "cell_type": "code",
   "execution_count": 70,
   "metadata": {},
   "outputs": [],
   "source": [
    "def get_distance(coords):\n",
    "    return gd.geodesic((coords[0], coords[1]), (coords[2], coords[3])).km"
   ]
  },
  {
   "cell_type": "code",
   "execution_count": 71,
   "metadata": {
    "tags": []
   },
   "outputs": [],
   "source": [
    "# Create new distance column\n",
    "columns = ['start_lat', 'start_lon', 'end_lat', 'end_lon']\n",
    "df['distance'] = df.apply(lambda x: get_distance(x[columns]), axis=1)"
   ]
  },
  {
   "cell_type": "code",
   "execution_count": null,
   "metadata": {},
   "outputs": [],
   "source": [
    "df.head()"
   ]
  },
  {
   "cell_type": "markdown",
   "metadata": {},
   "source": [
    "A better option was to filter unique pairs of start and end stations, then calculate the distances. It may be implemented in the future."
   ]
  },
  {
   "cell_type": "code",
   "execution_count": null,
   "metadata": {},
   "outputs": [],
   "source": [
    "df[['duration', 'distance']].describe()"
   ]
  },
  {
   "cell_type": "markdown",
   "metadata": {},
   "source": [
    "The duration and distance values of rides are very discrepant (see the standard deviation). Eventually, there are cases where people stay with the bike an entire day and then return then to a station, which doesn't reflect the real time they spending at the ride.\n",
    "In this sense, we decided to ignore those cases when calculating the mean speed of each bycicle model."
   ]
  },
  {
   "cell_type": "markdown",
   "metadata": {},
   "source": [
    "### Calculate the average speed of each bicycle model with different intervals of time and space\n"
   ]
  },
  {
   "cell_type": "code",
   "execution_count": null,
   "metadata": {},
   "outputs": [],
   "source": [
    "# Select only necessary columns\n",
    "time_space = df.iloc[:, [0, 11, 12]]\n",
    "time_space.head()"
   ]
  },
  {
   "cell_type": "code",
   "execution_count": null,
   "metadata": {},
   "outputs": [],
   "source": [
    "def get_speed(space, time, unit):\n",
    "\n",
    "    if unit == 'km/min': return space / time\n",
    "    if unit == 'km/h'  : return space / (time / 60)\n",
    "    if unit == 'm/s'   : return (space * 1000) / (time * 60)"
   ]
  },
  {
   "cell_type": "code",
   "execution_count": null,
   "metadata": {},
   "outputs": [],
   "source": [
    "unit = 'km/min'\n",
    "intervals = [(15, 3), (30, 6), (45, 9), (120, 12)]\n",
    "\n",
    "avg_speed = pd.DataFrame()\n",
    "for x, y in enumerate(intervals):\n",
    "    # Loc the intervals of duration and distance in order to calculate the speed of each model at these situations\n",
    "    if x == 0:\n",
    "        time_space_filtered = time_space.loc[(df.duration > 0) & (df.duration <= y[0]) \n",
    "                                           & (df.distance > 0) & (df.distance <= y[1])]\n",
    "    else:\n",
    "        time_space_filtered = time_space.loc[(df.duration > intervals[x-1][0]) & (df.duration <= y[0]) \n",
    "                                           & (df.distance > intervals[x-1][1]) & (df.distance <= y[1])]\n",
    "\n",
    "    time_space_filtered['speed'] = time_space_filtered.apply(lambda x: get_speed(x['distance'], x['duration'], unit=unit), axis=1)\n",
    "    bike_speed = time_space_filtered.groupby('bike_type').mean()\n",
    "    avg_speed[y] = bike_speed['speed']\n",
    "\n",
    "avg_speed"
   ]
  },
  {
   "cell_type": "markdown",
   "metadata": {},
   "source": [
    "We are only considering trips with duration and distance up to 120 minutes and 12 kilometers, respectively."
   ]
  },
  {
   "cell_type": "code",
   "execution_count": null,
   "metadata": {},
   "outputs": [],
   "source": [
    "title = 'Average speed of bicycle models for different intervals of time and travel distances'\n",
    "xlabel = 'Duration(min) / Distance(km)'\n",
    "\n",
    "ax = avg_speed.T.plot(kind='bar', figsize=(15, 7), xlabel=xlabel, ylabel='Speed in ' + unit, colormap='tab20b', rot=0, title=title)\n",
    "for p in ax.patches:                 \n",
    "    ax.annotate(round(p.get_height(),3), (p.get_x()+p.get_width()/2., p.get_height()), ha='center', va='center', xytext=(0, 10), textcoords='offset points')\n",
    "ax.grid(linestyle=':', axis='y')"
   ]
  },
  {
   "cell_type": "markdown",
   "metadata": {},
   "source": [
    "it is noticeable that electric bicycles have a certain \"advantage\" over ordinary ones as the distance and duration of the rides increases"
   ]
  },
  {
   "cell_type": "markdown",
   "metadata": {},
   "source": [
    "#### Normalize the frequency of rides for each unique pair of (start|end) station"
   ]
  },
  {
   "cell_type": "code",
   "execution_count": null,
   "metadata": {
    "tags": []
   },
   "outputs": [],
   "source": [
    "# Ignore rides that end at same station and calculate total ocurrences by each ride\n",
    "group = ['start_station', 'end_station', 'distance']\n",
    "stations = df.groupby(group).size().reset_index(name='occurs')\n",
    "\n",
    "# Normalize weights by each group (i.e. each start_station)\n",
    "stations['norm_rides'] = stations['occurs'] / stations.groupby('start_station')['occurs'].transform('sum')\n",
    "stations = stations.drop_duplicates(['start_station', 'end_station'])"
   ]
  },
  {
   "cell_type": "markdown",
   "metadata": {},
   "source": [
    "#### Create frequency and distance matrices"
   ]
  },
  {
   "cell_type": "code",
   "execution_count": null,
   "metadata": {},
   "outputs": [],
   "source": [
    "# Pivot to create rides frequency matrix\n",
    "freq_matrix = stations.pivot(index='start_station', columns='end_station', values='norm_rides').fillna(0)\n",
    "freq_matrix.head()"
   ]
  },
  {
   "cell_type": "code",
   "execution_count": null,
   "metadata": {},
   "outputs": [],
   "source": [
    "# Stations distance matrix\n",
    "distance_matrix = stations.pivot(index='start_station', columns='end_station', values='distance').fillna(0)\n",
    "distance_matrix.head()"
   ]
  },
  {
   "cell_type": "markdown",
   "metadata": {},
   "source": [
    "***\n",
    "#### Simulation\n"
   ]
  },
  {
   "cell_type": "code",
   "execution_count": null,
   "metadata": {},
   "outputs": [],
   "source": [
    "import simpy\n",
    "import random\n",
    "\n",
    "STATIONS = freq_matrix.index[0:4]\n",
    "destinations_matrix = freq_matrix.loc[STATIONS, STATIONS]\n",
    "BIKE_TYPE = df['bike_type'].unique()\n",
    "\n",
    "NUMBER_OF_RIDES = 24\n",
    "NUMBER_OF_BIKES = 36\n",
    "NUMBER_OF_STATIONS = len(STATIONS)\n",
    "NUMBER_OF_BIKES_PER_STATION = NUMBER_OF_BIKES // NUMBER_OF_STATIONS\n",
    "\n",
    "\n",
    "class BikeDock:\n",
    "    def __init__(self, env, init, capacity):\n",
    "        self.env = env\n",
    "        self._container = simpy.Container(self.env, init=init, capacity=capacity)\n",
    "\n",
    "    @property\n",
    "    def capacity(self):\n",
    "        return self._container.capacity\n",
    "\n",
    "    @property\n",
    "    def available_bikes(self):\n",
    "        return self._container.level\n",
    "\n",
    "    @property\n",
    "    def has_available(self):\n",
    "        return self._container.level > 0\n",
    "\n",
    "    @property\n",
    "    def is_full(self):\n",
    "        return self._container.level >= self._container.capacity\n",
    "\n",
    "    def rent_bike(self):\n",
    "        return self._container.get(1)\n",
    "\n",
    "    def return_bike(self):\n",
    "        return self._container.put(1)\n",
    "\n",
    "\n",
    "class Ride:\n",
    "    def __init__(self, env, start_station, end_station):\n",
    "        self.start_station = start_station\n",
    "        self.end_station = end_station\n",
    "        self.env = env\n",
    "\n",
    "    @property\n",
    "    def distance(self):\n",
    "        return distance_matrix[self.start_station.id][self.end_station.id]\n",
    "\n",
    "    @property\n",
    "    def duration(self):\n",
    "        standard_bike_velocity_mean = 0.12\n",
    "        return round(self.distance / standard_bike_velocity_mean)\n",
    "\n",
    "    def start(self):\n",
    "        env.process(self.start_station.get_bike())\n",
    "        yield env.timeout(self.duration)\n",
    "        env.process(self.end_station.put_bike())\n",
    "\n",
    "\n",
    "class Station(object):\n",
    "    def __init__(self, env, station_id):\n",
    "        self.env = env\n",
    "        self.id = station_id\n",
    "        self.dock = BikeDock(env, init=NUMBER_OF_BIKES_PER_STATION, capacity=NUMBER_OF_BIKES_PER_STATION * 2)\n",
    "        self.overflow_count = 0\n",
    "        self.client_wait_time = 0\n",
    "\n",
    "    def get_bike(self):\n",
    "        wait_time = 0\n",
    "        while (wait_time < 10):\n",
    "            if (self.dock.has_available):\n",
    "                print(f'Bike requested at station {self.id} - {self.dock.available_bikes - 1} / {self.dock.capacity}')\n",
    "                return self.dock.rent_bike()\n",
    "            else: \n",
    "                wait_time += 1\n",
    "                self.client_wait_time += 1\n",
    "                print(f'No more bikes at station {self.id}. Waiting {wait_time}...')\n",
    "                yield env.timeout(1)\n",
    "        print('#-#-#  I\\'m out of here! Trash company!  #-#-#')\n",
    "        \n",
    "\n",
    "    def put_bike(self):\n",
    "        if (self.dock.is_full):\n",
    "            self.overflow_count += 1\n",
    "\n",
    "        print(f'Bike arrived at station {self.id} - {self.dock.available_bikes + 1} / {self.dock.capacity}')\n",
    "        yield self.dock.return_bike()\n",
    "\n",
    "def cyclist_arrivals(env, stations):\n",
    "    random_station_index = random.randint(0, len(stations) - 1)\n",
    "    start_station = stations[random_station_index]\n",
    "\n",
    "    random_destination_index = random_weighted(destinations_matrix.loc[start_station.id])\n",
    "    final_station = stations[random_destination_index]\n",
    "    print(f'New Ciclist arrives! {start_station.id} -> {final_station.id}')\n",
    "\n",
    "    ride = Ride(env, start_station, final_station)\n",
    "    yield env.process(ride.start())\n",
    "\n",
    "stations = []\n",
    "def setup(env):\n",
    "    for station_id in STATIONS:\n",
    "        stations.append(Station(env, station_id))\n",
    "    while True:\n",
    "        yield env.timeout(random.randint(1, 5))\n",
    "        env.process(cyclist_arrivals(env, stations))\n",
    "\n",
    "env = simpy.Environment()\n",
    "env.process(setup(env))\n",
    "env.run(until=150)\n",
    "\n",
    "print('\\n\\n')\n",
    "total_wait_time = 0\n",
    "for station in stations:\n",
    "    total_wait_time += station.client_wait_time\n",
    "print(f'Total wait time: {total_wait_time}')"
   ]
  }
 ],
 "metadata": {
  "kernelspec": {
   "display_name": "Python 3",
   "language": "python",
   "name": "python3"
  },
  "language_info": {
   "codemirror_mode": {
    "name": "ipython",
    "version": 3
   },
   "file_extension": ".py",
   "mimetype": "text/x-python",
   "name": "python",
   "nbconvert_exporter": "python",
   "pygments_lexer": "ipython3",
   "version": "3.8.5"
  }
 },
 "nbformat": 4,
 "nbformat_minor": 2
}
