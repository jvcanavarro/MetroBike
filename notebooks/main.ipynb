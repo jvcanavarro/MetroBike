{
 "cells": [
  {
   "cell_type": "markdown",
   "metadata": {},
   "source": [
    "# Discrete Simulation Final Project\n",
    "Authors: [Felipe Melo](https://github.com/FelipOliveira), [João Canavarro](https://github.com/jvcanavarro) and [Vitor Cantão](https://github.com/VitorCantao)."
   ]
  },
  {
   "cell_type": "markdown",
   "metadata": {},
   "source": [
    "***\n",
    "## Metro Bike [Dataset](https://bikeshare.metro.net/about/data/)\n",
    "*The Metro Bike Share system makes bikes available 24/7, 365 days a year in Downtown LA, Central LA, and North Hollywood (...). Metro Bike Share offers convenient round-the-clock access to a fleet of bicycles for short trips. Metro Bike Share is one of LA Metro's multiple public transportation options for Angelenos and visitors to get around.*"
   ]
  },
  {
   "cell_type": "code",
   "execution_count": 1,
   "metadata": {},
   "outputs": [],
   "source": [
    "import matplotlib.pyplot as plt\n",
    "import geopy.distance as gd\n",
    "import pandas as pd\n",
    "import numpy as np"
   ]
  },
  {
   "cell_type": "markdown",
   "metadata": {},
   "source": [
    "### Dataset Overview"
   ]
  },
  {
   "cell_type": "code",
   "execution_count": 2,
   "metadata": {},
   "outputs": [
    {
     "output_type": "execute_result",
     "data": {
      "text/plain": [
       "     trip_id  duration     start_time       end_time  start_station  \\\n",
       "0  134867493        25  1/1/2020 0:16  1/1/2020 0:41           3063   \n",
       "1  134867799        35  1/1/2020 0:24  1/1/2020 0:59           4285   \n",
       "2  134868104        37  1/1/2020 0:31  1/1/2020 1:08           4344   \n",
       "3  134868103        36  1/1/2020 0:32  1/1/2020 1:08           4344   \n",
       "4  134868102        35  1/1/2020 0:33  1/1/2020 1:08           4344   \n",
       "\n",
       "   start_lat   start_lon  end_station    end_lat     end_lon bike_id  \\\n",
       "0  34.048038 -118.253738         4491  34.047440 -118.247940   18419   \n",
       "1        NaN         NaN         4354  34.017681 -118.409081   15661   \n",
       "2  34.014309 -118.491341         4322  34.005871 -118.429161   15848   \n",
       "3  34.014309 -118.491341         4322  34.005871 -118.429161   16053   \n",
       "4  34.014309 -118.491341         4322  34.005871 -118.429161   15694   \n",
       "\n",
       "   plan_duration trip_route_category passholder_type bike_type  \n",
       "0             30             One Way    Monthly Pass  electric  \n",
       "1              1             One Way    One Day Pass     smart  \n",
       "2              1             One Way         Walk-up     smart  \n",
       "3              1             One Way         Walk-up     smart  \n",
       "4              1             One Way         Walk-up     smart  "
      ],
      "text/html": "<div>\n<style scoped>\n    .dataframe tbody tr th:only-of-type {\n        vertical-align: middle;\n    }\n\n    .dataframe tbody tr th {\n        vertical-align: top;\n    }\n\n    .dataframe thead th {\n        text-align: right;\n    }\n</style>\n<table border=\"1\" class=\"dataframe\">\n  <thead>\n    <tr style=\"text-align: right;\">\n      <th></th>\n      <th>trip_id</th>\n      <th>duration</th>\n      <th>start_time</th>\n      <th>end_time</th>\n      <th>start_station</th>\n      <th>start_lat</th>\n      <th>start_lon</th>\n      <th>end_station</th>\n      <th>end_lat</th>\n      <th>end_lon</th>\n      <th>bike_id</th>\n      <th>plan_duration</th>\n      <th>trip_route_category</th>\n      <th>passholder_type</th>\n      <th>bike_type</th>\n    </tr>\n  </thead>\n  <tbody>\n    <tr>\n      <th>0</th>\n      <td>134867493</td>\n      <td>25</td>\n      <td>1/1/2020 0:16</td>\n      <td>1/1/2020 0:41</td>\n      <td>3063</td>\n      <td>34.048038</td>\n      <td>-118.253738</td>\n      <td>4491</td>\n      <td>34.047440</td>\n      <td>-118.247940</td>\n      <td>18419</td>\n      <td>30</td>\n      <td>One Way</td>\n      <td>Monthly Pass</td>\n      <td>electric</td>\n    </tr>\n    <tr>\n      <th>1</th>\n      <td>134867799</td>\n      <td>35</td>\n      <td>1/1/2020 0:24</td>\n      <td>1/1/2020 0:59</td>\n      <td>4285</td>\n      <td>NaN</td>\n      <td>NaN</td>\n      <td>4354</td>\n      <td>34.017681</td>\n      <td>-118.409081</td>\n      <td>15661</td>\n      <td>1</td>\n      <td>One Way</td>\n      <td>One Day Pass</td>\n      <td>smart</td>\n    </tr>\n    <tr>\n      <th>2</th>\n      <td>134868104</td>\n      <td>37</td>\n      <td>1/1/2020 0:31</td>\n      <td>1/1/2020 1:08</td>\n      <td>4344</td>\n      <td>34.014309</td>\n      <td>-118.491341</td>\n      <td>4322</td>\n      <td>34.005871</td>\n      <td>-118.429161</td>\n      <td>15848</td>\n      <td>1</td>\n      <td>One Way</td>\n      <td>Walk-up</td>\n      <td>smart</td>\n    </tr>\n    <tr>\n      <th>3</th>\n      <td>134868103</td>\n      <td>36</td>\n      <td>1/1/2020 0:32</td>\n      <td>1/1/2020 1:08</td>\n      <td>4344</td>\n      <td>34.014309</td>\n      <td>-118.491341</td>\n      <td>4322</td>\n      <td>34.005871</td>\n      <td>-118.429161</td>\n      <td>16053</td>\n      <td>1</td>\n      <td>One Way</td>\n      <td>Walk-up</td>\n      <td>smart</td>\n    </tr>\n    <tr>\n      <th>4</th>\n      <td>134868102</td>\n      <td>35</td>\n      <td>1/1/2020 0:33</td>\n      <td>1/1/2020 1:08</td>\n      <td>4344</td>\n      <td>34.014309</td>\n      <td>-118.491341</td>\n      <td>4322</td>\n      <td>34.005871</td>\n      <td>-118.429161</td>\n      <td>15694</td>\n      <td>1</td>\n      <td>One Way</td>\n      <td>Walk-up</td>\n      <td>smart</td>\n    </tr>\n  </tbody>\n</table>\n</div>"
     },
     "metadata": {},
     "execution_count": 2
    }
   ],
   "source": [
    "df = pd.read_csv('../metrobike-2020.csv')\n",
    "df.head()"
   ]
  },
  {
   "cell_type": "code",
   "execution_count": 3,
   "metadata": {},
   "outputs": [
    {
     "output_type": "execute_result",
     "data": {
      "text/plain": [
       "209974"
      ]
     },
     "metadata": {},
     "execution_count": 3
    }
   ],
   "source": [
    "# Number of rides in 2020\n",
    "df.shape[0]"
   ]
  },
  {
   "cell_type": "code",
   "execution_count": 4,
   "metadata": {},
   "outputs": [
    {
     "output_type": "execute_result",
     "data": {
      "text/plain": [
       "Index(['trip_id', 'duration', 'start_time', 'end_time', 'start_station',\n",
       "       'start_lat', 'start_lon', 'end_station', 'end_lat', 'end_lon',\n",
       "       'bike_id', 'plan_duration', 'trip_route_category', 'passholder_type',\n",
       "       'bike_type'],\n",
       "      dtype='object')"
      ]
     },
     "metadata": {},
     "execution_count": 4
    }
   ],
   "source": [
    "df.columns"
   ]
  },
  {
   "cell_type": "code",
   "execution_count": 5,
   "metadata": {},
   "outputs": [
    {
     "output_type": "execute_result",
     "data": {
      "text/plain": [
       "   duration     start_time       end_time  start_station  start_lat  \\\n",
       "0        25  1/1/2020 0:16  1/1/2020 0:41           3063  34.048038   \n",
       "1        35  1/1/2020 0:24  1/1/2020 0:59           4285        NaN   \n",
       "2        37  1/1/2020 0:31  1/1/2020 1:08           4344  34.014309   \n",
       "3        36  1/1/2020 0:32  1/1/2020 1:08           4344  34.014309   \n",
       "4        35  1/1/2020 0:33  1/1/2020 1:08           4344  34.014309   \n",
       "\n",
       "    start_lon  end_station    end_lat     end_lon bike_id bike_type  \n",
       "0 -118.253738         4491  34.047440 -118.247940   18419  electric  \n",
       "1         NaN         4354  34.017681 -118.409081   15661     smart  \n",
       "2 -118.491341         4322  34.005871 -118.429161   15848     smart  \n",
       "3 -118.491341         4322  34.005871 -118.429161   16053     smart  \n",
       "4 -118.491341         4322  34.005871 -118.429161   15694     smart  "
      ],
      "text/html": "<div>\n<style scoped>\n    .dataframe tbody tr th:only-of-type {\n        vertical-align: middle;\n    }\n\n    .dataframe tbody tr th {\n        vertical-align: top;\n    }\n\n    .dataframe thead th {\n        text-align: right;\n    }\n</style>\n<table border=\"1\" class=\"dataframe\">\n  <thead>\n    <tr style=\"text-align: right;\">\n      <th></th>\n      <th>duration</th>\n      <th>start_time</th>\n      <th>end_time</th>\n      <th>start_station</th>\n      <th>start_lat</th>\n      <th>start_lon</th>\n      <th>end_station</th>\n      <th>end_lat</th>\n      <th>end_lon</th>\n      <th>bike_id</th>\n      <th>bike_type</th>\n    </tr>\n  </thead>\n  <tbody>\n    <tr>\n      <th>0</th>\n      <td>25</td>\n      <td>1/1/2020 0:16</td>\n      <td>1/1/2020 0:41</td>\n      <td>3063</td>\n      <td>34.048038</td>\n      <td>-118.253738</td>\n      <td>4491</td>\n      <td>34.047440</td>\n      <td>-118.247940</td>\n      <td>18419</td>\n      <td>electric</td>\n    </tr>\n    <tr>\n      <th>1</th>\n      <td>35</td>\n      <td>1/1/2020 0:24</td>\n      <td>1/1/2020 0:59</td>\n      <td>4285</td>\n      <td>NaN</td>\n      <td>NaN</td>\n      <td>4354</td>\n      <td>34.017681</td>\n      <td>-118.409081</td>\n      <td>15661</td>\n      <td>smart</td>\n    </tr>\n    <tr>\n      <th>2</th>\n      <td>37</td>\n      <td>1/1/2020 0:31</td>\n      <td>1/1/2020 1:08</td>\n      <td>4344</td>\n      <td>34.014309</td>\n      <td>-118.491341</td>\n      <td>4322</td>\n      <td>34.005871</td>\n      <td>-118.429161</td>\n      <td>15848</td>\n      <td>smart</td>\n    </tr>\n    <tr>\n      <th>3</th>\n      <td>36</td>\n      <td>1/1/2020 0:32</td>\n      <td>1/1/2020 1:08</td>\n      <td>4344</td>\n      <td>34.014309</td>\n      <td>-118.491341</td>\n      <td>4322</td>\n      <td>34.005871</td>\n      <td>-118.429161</td>\n      <td>16053</td>\n      <td>smart</td>\n    </tr>\n    <tr>\n      <th>4</th>\n      <td>35</td>\n      <td>1/1/2020 0:33</td>\n      <td>1/1/2020 1:08</td>\n      <td>4344</td>\n      <td>34.014309</td>\n      <td>-118.491341</td>\n      <td>4322</td>\n      <td>34.005871</td>\n      <td>-118.429161</td>\n      <td>15694</td>\n      <td>smart</td>\n    </tr>\n  </tbody>\n</table>\n</div>"
     },
     "metadata": {},
     "execution_count": 5
    }
   ],
   "source": [
    "# Remove unecessary columns\n",
    "columns = ['duration', 'start_time', 'end_time', 'start_station', 'start_lat', 'start_lon', 'end_station', 'end_lat', 'end_lon', 'bike_id', 'bike_type']\n",
    "df = df[columns]\n",
    "df.head()"
   ]
  },
  {
   "cell_type": "markdown",
   "metadata": {},
   "source": [
    "####  According to Stations [Dataset](https://bikeshare.metro.net/wp-content/uploads/2021/01/metro-bike-share-stations-2021-01-01.csv):\n",
    "* `4285,Metro Bike Share Free Bikes,2/27/2019,Free Bikes,Active`\n",
    "* `4286,Metro Bike Share Out of Service Area Smart Bike,2/27/2019,Free Bikes,Active`\n",
    "* `3000,Virtual Station,7/7/2016,N/A,Active`\n",
    "\n",
    "Those stations doesn't possess geolocation information, which leads us to ignore them when calculating rides distances"
   ]
  },
  {
   "cell_type": "code",
   "execution_count": 6,
   "metadata": {},
   "outputs": [
    {
     "output_type": "execute_result",
     "data": {
      "text/plain": [
       "array([4285, 4286, 3000], dtype=int64)"
      ]
     },
     "metadata": {},
     "execution_count": 6
    }
   ],
   "source": [
    "df_null = df[df.isnull().any(axis=1)]\n",
    "nan_stations = df_null.start_station[df_null['start_lat'].isnull()].unique()\n",
    "nan_stations"
   ]
  },
  {
   "cell_type": "code",
   "execution_count": 7,
   "metadata": {},
   "outputs": [],
   "source": [
    "# Remove stations without geolocation\n",
    "df = df.dropna()"
   ]
  },
  {
   "cell_type": "code",
   "execution_count": 8,
   "metadata": {},
   "outputs": [
    {
     "output_type": "stream",
     "name": "stdout",
     "text": [
      "Number of bicycles:  3983\nNumber of stations:  263\n"
     ]
    }
   ],
   "source": [
    "# Total bikes within all stations and Nº of stations\n",
    "print('Number of bicycles: ', len(df['bike_id'].unique()))\n",
    "print('Number of stations: ', df['start_station'].unique().shape[0])"
   ]
  },
  {
   "cell_type": "code",
   "execution_count": 9,
   "metadata": {},
   "outputs": [
    {
     "output_type": "execute_result",
     "data": {
      "text/plain": [
       "standard    0.511699\n",
       "electric    0.394669\n",
       "smart       0.093633\n",
       "Name: bike_type, dtype: float64"
      ]
     },
     "metadata": {},
     "execution_count": 9
    }
   ],
   "source": [
    "# Percentage of rides by each model of bicycle\n",
    "df['bike_type'].value_counts(normalize=True)"
   ]
  },
  {
   "cell_type": "code",
   "execution_count": 10,
   "metadata": {},
   "outputs": [
    {
     "output_type": "execute_result",
     "data": {
      "text/plain": [
       "31.95790634851989"
      ]
     },
     "metadata": {},
     "execution_count": 10
    }
   ],
   "source": [
    "# Mean duration of a bike travel\n",
    "df['duration'].mean()"
   ]
  },
  {
   "cell_type": "markdown",
   "metadata": {},
   "source": [
    "### Calculate distance using geolocation coordenates"
   ]
  },
  {
   "cell_type": "code",
   "execution_count": 11,
   "metadata": {},
   "outputs": [],
   "source": [
    "def get_distance(coords):\n",
    "    return gd.geodesic((coords[0], coords[1]), (coords[2], coords[3])).km"
   ]
  },
  {
   "cell_type": "code",
   "execution_count": 12,
   "metadata": {
    "tags": []
   },
   "outputs": [],
   "source": [
    "# Create new distance column\n",
    "columns = ['start_lat', 'start_lon', 'end_lat', 'end_lon']\n",
    "df['distance'] = df.apply(lambda x: get_distance(x[columns]), axis=1)"
   ]
  },
  {
   "cell_type": "code",
   "execution_count": 13,
   "metadata": {},
   "outputs": [
    {
     "output_type": "execute_result",
     "data": {
      "text/plain": [
       "   duration     start_time       end_time  start_station  start_lat  \\\n",
       "0        25  1/1/2020 0:16  1/1/2020 0:41           3063  34.048038   \n",
       "2        37  1/1/2020 0:31  1/1/2020 1:08           4344  34.014309   \n",
       "3        36  1/1/2020 0:32  1/1/2020 1:08           4344  34.014309   \n",
       "4        35  1/1/2020 0:33  1/1/2020 1:08           4344  34.014309   \n",
       "5        18  1/1/2020 0:35  1/1/2020 0:53           4472  34.092602   \n",
       "\n",
       "    start_lon  end_station    end_lat     end_lon bike_id bike_type  distance  \n",
       "0 -118.253738         4491  34.047440 -118.247940   18419  electric  0.539441  \n",
       "2 -118.491341         4322  34.005871 -118.429161   15848     smart  5.819566  \n",
       "3 -118.491341         4322  34.005871 -118.429161   16053     smart  5.819566  \n",
       "4 -118.491341         4322  34.005871 -118.429161   15694     smart  5.819566  \n",
       "5 -118.280930         4306  34.057652 -118.292183   18937  electric  4.013519  "
      ],
      "text/html": "<div>\n<style scoped>\n    .dataframe tbody tr th:only-of-type {\n        vertical-align: middle;\n    }\n\n    .dataframe tbody tr th {\n        vertical-align: top;\n    }\n\n    .dataframe thead th {\n        text-align: right;\n    }\n</style>\n<table border=\"1\" class=\"dataframe\">\n  <thead>\n    <tr style=\"text-align: right;\">\n      <th></th>\n      <th>duration</th>\n      <th>start_time</th>\n      <th>end_time</th>\n      <th>start_station</th>\n      <th>start_lat</th>\n      <th>start_lon</th>\n      <th>end_station</th>\n      <th>end_lat</th>\n      <th>end_lon</th>\n      <th>bike_id</th>\n      <th>bike_type</th>\n      <th>distance</th>\n    </tr>\n  </thead>\n  <tbody>\n    <tr>\n      <th>0</th>\n      <td>25</td>\n      <td>1/1/2020 0:16</td>\n      <td>1/1/2020 0:41</td>\n      <td>3063</td>\n      <td>34.048038</td>\n      <td>-118.253738</td>\n      <td>4491</td>\n      <td>34.047440</td>\n      <td>-118.247940</td>\n      <td>18419</td>\n      <td>electric</td>\n      <td>0.539441</td>\n    </tr>\n    <tr>\n      <th>2</th>\n      <td>37</td>\n      <td>1/1/2020 0:31</td>\n      <td>1/1/2020 1:08</td>\n      <td>4344</td>\n      <td>34.014309</td>\n      <td>-118.491341</td>\n      <td>4322</td>\n      <td>34.005871</td>\n      <td>-118.429161</td>\n      <td>15848</td>\n      <td>smart</td>\n      <td>5.819566</td>\n    </tr>\n    <tr>\n      <th>3</th>\n      <td>36</td>\n      <td>1/1/2020 0:32</td>\n      <td>1/1/2020 1:08</td>\n      <td>4344</td>\n      <td>34.014309</td>\n      <td>-118.491341</td>\n      <td>4322</td>\n      <td>34.005871</td>\n      <td>-118.429161</td>\n      <td>16053</td>\n      <td>smart</td>\n      <td>5.819566</td>\n    </tr>\n    <tr>\n      <th>4</th>\n      <td>35</td>\n      <td>1/1/2020 0:33</td>\n      <td>1/1/2020 1:08</td>\n      <td>4344</td>\n      <td>34.014309</td>\n      <td>-118.491341</td>\n      <td>4322</td>\n      <td>34.005871</td>\n      <td>-118.429161</td>\n      <td>15694</td>\n      <td>smart</td>\n      <td>5.819566</td>\n    </tr>\n    <tr>\n      <th>5</th>\n      <td>18</td>\n      <td>1/1/2020 0:35</td>\n      <td>1/1/2020 0:53</td>\n      <td>4472</td>\n      <td>34.092602</td>\n      <td>-118.280930</td>\n      <td>4306</td>\n      <td>34.057652</td>\n      <td>-118.292183</td>\n      <td>18937</td>\n      <td>electric</td>\n      <td>4.013519</td>\n    </tr>\n  </tbody>\n</table>\n</div>"
     },
     "metadata": {},
     "execution_count": 13
    }
   ],
   "source": [
    "df.head()"
   ]
  },
  {
   "cell_type": "markdown",
   "metadata": {},
   "source": [
    "A better option was to filter unique pairs of start and end stations, then calculate the distances. It may be implemented in the future."
   ]
  },
  {
   "cell_type": "code",
   "execution_count": 14,
   "metadata": {},
   "outputs": [
    {
     "output_type": "execute_result",
     "data": {
      "text/plain": [
       "            duration       distance\n",
       "count  159549.000000  159549.000000\n",
       "mean       31.957906       2.855966\n",
       "std        96.622064     125.211155\n",
       "min         1.000000       0.000000\n",
       "25%         7.000000       0.401246\n",
       "50%        14.000000       0.915194\n",
       "75%        26.000000       1.711136\n",
       "max      1440.000000    9812.232301"
      ],
      "text/html": "<div>\n<style scoped>\n    .dataframe tbody tr th:only-of-type {\n        vertical-align: middle;\n    }\n\n    .dataframe tbody tr th {\n        vertical-align: top;\n    }\n\n    .dataframe thead th {\n        text-align: right;\n    }\n</style>\n<table border=\"1\" class=\"dataframe\">\n  <thead>\n    <tr style=\"text-align: right;\">\n      <th></th>\n      <th>duration</th>\n      <th>distance</th>\n    </tr>\n  </thead>\n  <tbody>\n    <tr>\n      <th>count</th>\n      <td>159549.000000</td>\n      <td>159549.000000</td>\n    </tr>\n    <tr>\n      <th>mean</th>\n      <td>31.957906</td>\n      <td>2.855966</td>\n    </tr>\n    <tr>\n      <th>std</th>\n      <td>96.622064</td>\n      <td>125.211155</td>\n    </tr>\n    <tr>\n      <th>min</th>\n      <td>1.000000</td>\n      <td>0.000000</td>\n    </tr>\n    <tr>\n      <th>25%</th>\n      <td>7.000000</td>\n      <td>0.401246</td>\n    </tr>\n    <tr>\n      <th>50%</th>\n      <td>14.000000</td>\n      <td>0.915194</td>\n    </tr>\n    <tr>\n      <th>75%</th>\n      <td>26.000000</td>\n      <td>1.711136</td>\n    </tr>\n    <tr>\n      <th>max</th>\n      <td>1440.000000</td>\n      <td>9812.232301</td>\n    </tr>\n  </tbody>\n</table>\n</div>"
     },
     "metadata": {},
     "execution_count": 14
    }
   ],
   "source": [
    "df[['duration', 'distance']].describe()"
   ]
  },
  {
   "cell_type": "markdown",
   "metadata": {},
   "source": [
    "The duration and distance values of rides are very discrepant (see the standard deviation), specially because some rides start and end at same station. Eventually there are cases where people stay with the bike an entire day and then return then to a station, which doesn't reflect the real time they spending at the ride.\n",
    "In this sense, we decided to ignore those cases when calculating the mean speed of each bycicle model."
   ]
  },
  {
   "cell_type": "markdown",
   "metadata": {},
   "source": [
    "### Calculate the average speed of each bicycle model with different intervals of time and space\n"
   ]
  },
  {
   "cell_type": "code",
   "execution_count": 15,
   "metadata": {},
   "outputs": [
    {
     "output_type": "execute_result",
     "data": {
      "text/plain": [
       "   duration bike_type  distance\n",
       "0        25  electric  0.539441\n",
       "2        37     smart  5.819566\n",
       "3        36     smart  5.819566\n",
       "4        35     smart  5.819566\n",
       "5        18  electric  4.013519"
      ],
      "text/html": "<div>\n<style scoped>\n    .dataframe tbody tr th:only-of-type {\n        vertical-align: middle;\n    }\n\n    .dataframe tbody tr th {\n        vertical-align: top;\n    }\n\n    .dataframe thead th {\n        text-align: right;\n    }\n</style>\n<table border=\"1\" class=\"dataframe\">\n  <thead>\n    <tr style=\"text-align: right;\">\n      <th></th>\n      <th>duration</th>\n      <th>bike_type</th>\n      <th>distance</th>\n    </tr>\n  </thead>\n  <tbody>\n    <tr>\n      <th>0</th>\n      <td>25</td>\n      <td>electric</td>\n      <td>0.539441</td>\n    </tr>\n    <tr>\n      <th>2</th>\n      <td>37</td>\n      <td>smart</td>\n      <td>5.819566</td>\n    </tr>\n    <tr>\n      <th>3</th>\n      <td>36</td>\n      <td>smart</td>\n      <td>5.819566</td>\n    </tr>\n    <tr>\n      <th>4</th>\n      <td>35</td>\n      <td>smart</td>\n      <td>5.819566</td>\n    </tr>\n    <tr>\n      <th>5</th>\n      <td>18</td>\n      <td>electric</td>\n      <td>4.013519</td>\n    </tr>\n  </tbody>\n</table>\n</div>"
     },
     "metadata": {},
     "execution_count": 15
    }
   ],
   "source": [
    "# Select only necessary columns\n",
    "time_space = df.iloc[:, [0, 10, 11]]\n",
    "time_space.head()"
   ]
  },
  {
   "cell_type": "code",
   "execution_count": 16,
   "metadata": {},
   "outputs": [],
   "source": [
    "def get_speed(space, time, unit):\n",
    "\n",
    "    if unit == 'km/min': return space / time\n",
    "    if unit == 'km/h'  : return space / (time / 60)\n",
    "    if unit == 'm/s'   : return (space * 1000) / (time * 60)"
   ]
  },
  {
   "cell_type": "code",
   "execution_count": 17,
   "metadata": {},
   "outputs": [
    {
     "output_type": "execute_result",
     "data": {
      "text/plain": [
       "            (15, 3)   (30, 6)   (45, 9)  (120, 12)\n",
       "bike_type                                         \n",
       "electric   0.150663  0.189687  0.195431   0.172981\n",
       "smart      0.154922  0.170135  0.184358   0.114980\n",
       "standard   0.145599  0.175797  0.185172   0.154657"
      ],
      "text/html": "<div>\n<style scoped>\n    .dataframe tbody tr th:only-of-type {\n        vertical-align: middle;\n    }\n\n    .dataframe tbody tr th {\n        vertical-align: top;\n    }\n\n    .dataframe thead th {\n        text-align: right;\n    }\n</style>\n<table border=\"1\" class=\"dataframe\">\n  <thead>\n    <tr style=\"text-align: right;\">\n      <th></th>\n      <th>(15, 3)</th>\n      <th>(30, 6)</th>\n      <th>(45, 9)</th>\n      <th>(120, 12)</th>\n    </tr>\n    <tr>\n      <th>bike_type</th>\n      <th></th>\n      <th></th>\n      <th></th>\n      <th></th>\n    </tr>\n  </thead>\n  <tbody>\n    <tr>\n      <th>electric</th>\n      <td>0.150663</td>\n      <td>0.189687</td>\n      <td>0.195431</td>\n      <td>0.172981</td>\n    </tr>\n    <tr>\n      <th>smart</th>\n      <td>0.154922</td>\n      <td>0.170135</td>\n      <td>0.184358</td>\n      <td>0.114980</td>\n    </tr>\n    <tr>\n      <th>standard</th>\n      <td>0.145599</td>\n      <td>0.175797</td>\n      <td>0.185172</td>\n      <td>0.154657</td>\n    </tr>\n  </tbody>\n</table>\n</div>"
     },
     "metadata": {},
     "execution_count": 17
    }
   ],
   "source": [
    "unit = 'km/min'\n",
    "intervals = [(15, 3), (30, 6), (45, 9), (120, 12)]\n",
    "\n",
    "avg_speed = pd.DataFrame()\n",
    "for x, y in enumerate(intervals):\n",
    "    # Loc the intervals of duration and distance in order to calculate the speed of each model at these situations\n",
    "    if x == 0:\n",
    "        time_space_filtered = time_space.loc[(df.duration > 0) & (df.duration <= y[0]) \n",
    "                                           & (df.distance > 0) & (df.distance <= y[1])]\n",
    "    else:\n",
    "        time_space_filtered = time_space.loc[(df.duration > intervals[x-1][0]) & (df.duration <= y[0]) \n",
    "                                           & (df.distance > intervals[x-1][1]) & (df.distance <= y[1])]\n",
    "\n",
    "    time_space_filtered['speed'] = time_space_filtered.apply(lambda x: get_speed(x['distance'], x['duration'], unit=unit), axis=1)\n",
    "    bike_speed = time_space_filtered.groupby('bike_type').mean()\n",
    "    avg_speed[y] = bike_speed['speed']\n",
    "\n",
    "avg_speed"
   ]
  },
  {
   "cell_type": "code",
   "execution_count": 18,
   "metadata": {},
   "outputs": [
    {
     "output_type": "display_data",
     "data": {
      "text/plain": "<Figure size 1080x504 with 1 Axes>",
      "image/svg+xml": "<?xml version=\"1.0\" encoding=\"utf-8\" standalone=\"no\"?>\r\n<!DOCTYPE svg PUBLIC \"-//W3C//DTD SVG 1.1//EN\"\r\n  \"http://www.w3.org/Graphics/SVG/1.1/DTD/svg11.dtd\">\r\n<!-- Created with matplotlib (https://matplotlib.org/) -->\r\n<svg height=\"440.394375pt\" version=\"1.1\" viewBox=\"0 0 900.70625 440.394375\" width=\"900.70625pt\" xmlns=\"http://www.w3.org/2000/svg\" xmlns:xlink=\"http://www.w3.org/1999/xlink\">\r\n <metadata>\r\n  <rdf:RDF xmlns:cc=\"http://creativecommons.org/ns#\" xmlns:dc=\"http://purl.org/dc/elements/1.1/\" xmlns:rdf=\"http://www.w3.org/1999/02/22-rdf-syntax-ns#\">\r\n   <cc:Work>\r\n    <dc:type rdf:resource=\"http://purl.org/dc/dcmitype/StillImage\"/>\r\n    <dc:date>2021-02-05T19:11:04.693375</dc:date>\r\n    <dc:format>image/svg+xml</dc:format>\r\n    <dc:creator>\r\n     <cc:Agent>\r\n      <dc:title>Matplotlib v3.3.4, https://matplotlib.org/</dc:title>\r\n     </cc:Agent>\r\n    </dc:creator>\r\n   </cc:Work>\r\n  </rdf:RDF>\r\n </metadata>\r\n <defs>\r\n  <style type=\"text/css\">*{stroke-linecap:butt;stroke-linejoin:round;}</style>\r\n </defs>\r\n <g id=\"figure_1\">\r\n  <g id=\"patch_1\">\r\n   <path d=\"M 0 440.394375 \r\nL 900.70625 440.394375 \r\nL 900.70625 0 \r\nL 0 0 \r\nz\r\n\" style=\"fill:none;\"/>\r\n  </g>\r\n  <g id=\"axes_1\">\r\n   <g id=\"patch_2\">\r\n    <path d=\"M 56.50625 402.838125 \r\nL 893.50625 402.838125 \r\nL 893.50625 22.318125 \r\nL 56.50625 22.318125 \r\nz\r\n\" style=\"fill:#ffffff;\"/>\r\n   </g>\r\n   <g id=\"patch_3\">\r\n    <path clip-path=\"url(#p5f183fad82)\" d=\"M 108.81875 402.838125 \r\nL 143.69375 402.838125 \r\nL 143.69375 123.45408 \r\nL 108.81875 123.45408 \r\nz\r\n\" style=\"fill:#393b79;\"/>\r\n   </g>\r\n   <g id=\"patch_4\">\r\n    <path clip-path=\"url(#p5f183fad82)\" d=\"M 318.06875 402.838125 \r\nL 352.94375 402.838125 \r\nL 352.94375 51.089276 \r\nL 318.06875 51.089276 \r\nz\r\n\" style=\"fill:#393b79;\"/>\r\n   </g>\r\n   <g id=\"patch_5\">\r\n    <path clip-path=\"url(#p5f183fad82)\" d=\"M 527.31875 402.838125 \r\nL 562.19375 402.838125 \r\nL 562.19375 40.438125 \r\nL 527.31875 40.438125 \r\nz\r\n\" style=\"fill:#393b79;\"/>\r\n   </g>\r\n   <g id=\"patch_6\">\r\n    <path clip-path=\"url(#p5f183fad82)\" d=\"M 736.56875 402.838125 \r\nL 771.44375 402.838125 \r\nL 771.44375 82.068543 \r\nL 736.56875 82.068543 \r\nz\r\n\" style=\"fill:#393b79;\"/>\r\n   </g>\r\n   <g id=\"patch_7\">\r\n    <path clip-path=\"url(#p5f183fad82)\" d=\"M 143.69375 402.838125 \r\nL 178.56875 402.838125 \r\nL 178.56875 115.555763 \r\nL 143.69375 115.555763 \r\nz\r\n\" style=\"fill:#e7ba52;\"/>\r\n   </g>\r\n   <g id=\"patch_8\">\r\n    <path clip-path=\"url(#p5f183fad82)\" d=\"M 352.94375 402.838125 \r\nL 387.81875 402.838125 \r\nL 387.81875 87.345458 \r\nL 352.94375 87.345458 \r\nz\r\n\" style=\"fill:#e7ba52;\"/>\r\n   </g>\r\n   <g id=\"patch_9\">\r\n    <path clip-path=\"url(#p5f183fad82)\" d=\"M 562.19375 402.838125 \r\nL 597.06875 402.838125 \r\nL 597.06875 60.970734 \r\nL 562.19375 60.970734 \r\nz\r\n\" style=\"fill:#e7ba52;\"/>\r\n   </g>\r\n   <g id=\"patch_10\">\r\n    <path clip-path=\"url(#p5f183fad82)\" d=\"M 771.44375 402.838125 \r\nL 806.31875 402.838125 \r\nL 806.31875 189.623282 \r\nL 771.44375 189.623282 \r\nz\r\n\" style=\"fill:#e7ba52;\"/>\r\n   </g>\r\n   <g id=\"patch_11\">\r\n    <path clip-path=\"url(#p5f183fad82)\" d=\"M 178.56875 402.838125 \r\nL 213.44375 402.838125 \r\nL 213.44375 132.845184 \r\nL 178.56875 132.845184 \r\nz\r\n\" style=\"fill:#de9ed6;\"/>\r\n   </g>\r\n   <g id=\"patch_12\">\r\n    <path clip-path=\"url(#p5f183fad82)\" d=\"M 387.81875 402.838125 \r\nL 422.69375 402.838125 \r\nL 422.69375 76.845998 \r\nL 387.81875 76.845998 \r\nz\r\n\" style=\"fill:#de9ed6;\"/>\r\n   </g>\r\n   <g id=\"patch_13\">\r\n    <path clip-path=\"url(#p5f183fad82)\" d=\"M 597.06875 402.838125 \r\nL 631.94375 402.838125 \r\nL 631.94375 59.46203 \r\nL 597.06875 59.46203 \r\nz\r\n\" style=\"fill:#de9ed6;\"/>\r\n   </g>\r\n   <g id=\"patch_14\">\r\n    <path clip-path=\"url(#p5f183fad82)\" d=\"M 806.31875 402.838125 \r\nL 841.19375 402.838125 \r\nL 841.19375 116.046701 \r\nL 806.31875 116.046701 \r\nz\r\n\" style=\"fill:#de9ed6;\"/>\r\n   </g>\r\n   <g id=\"matplotlib.axis_1\">\r\n    <g id=\"xtick_1\">\r\n     <g id=\"line2d_1\">\r\n      <defs>\r\n       <path d=\"M 0 0 \r\nL 0 3.5 \r\n\" id=\"m12bcc7cd6e\" style=\"stroke:#000000;stroke-width:0.8;\"/>\r\n      </defs>\r\n      <g>\r\n       <use style=\"stroke:#000000;stroke-width:0.8;\" x=\"161.13125\" xlink:href=\"#m12bcc7cd6e\" y=\"402.838125\"/>\r\n      </g>\r\n     </g>\r\n     <g id=\"text_1\">\r\n      <!-- (15, 3) -->\r\n      <g transform=\"translate(144.507813 417.436562)scale(0.1 -0.1)\">\r\n       <defs>\r\n        <path d=\"M 31 75.875 \r\nQ 24.46875 64.65625 21.28125 53.65625 \r\nQ 18.109375 42.671875 18.109375 31.390625 \r\nQ 18.109375 20.125 21.3125 9.0625 \r\nQ 24.515625 -2 31 -13.1875 \r\nL 23.1875 -13.1875 \r\nQ 15.875 -1.703125 12.234375 9.375 \r\nQ 8.59375 20.453125 8.59375 31.390625 \r\nQ 8.59375 42.28125 12.203125 53.3125 \r\nQ 15.828125 64.359375 23.1875 75.875 \r\nz\r\n\" id=\"DejaVuSans-40\"/>\r\n        <path d=\"M 12.40625 8.296875 \r\nL 28.515625 8.296875 \r\nL 28.515625 63.921875 \r\nL 10.984375 60.40625 \r\nL 10.984375 69.390625 \r\nL 28.421875 72.90625 \r\nL 38.28125 72.90625 \r\nL 38.28125 8.296875 \r\nL 54.390625 8.296875 \r\nL 54.390625 0 \r\nL 12.40625 0 \r\nz\r\n\" id=\"DejaVuSans-49\"/>\r\n        <path d=\"M 10.796875 72.90625 \r\nL 49.515625 72.90625 \r\nL 49.515625 64.59375 \r\nL 19.828125 64.59375 \r\nL 19.828125 46.734375 \r\nQ 21.96875 47.46875 24.109375 47.828125 \r\nQ 26.265625 48.1875 28.421875 48.1875 \r\nQ 40.625 48.1875 47.75 41.5 \r\nQ 54.890625 34.8125 54.890625 23.390625 \r\nQ 54.890625 11.625 47.5625 5.09375 \r\nQ 40.234375 -1.421875 26.90625 -1.421875 \r\nQ 22.3125 -1.421875 17.546875 -0.640625 \r\nQ 12.796875 0.140625 7.71875 1.703125 \r\nL 7.71875 11.625 \r\nQ 12.109375 9.234375 16.796875 8.0625 \r\nQ 21.484375 6.890625 26.703125 6.890625 \r\nQ 35.15625 6.890625 40.078125 11.328125 \r\nQ 45.015625 15.765625 45.015625 23.390625 \r\nQ 45.015625 31 40.078125 35.4375 \r\nQ 35.15625 39.890625 26.703125 39.890625 \r\nQ 22.75 39.890625 18.8125 39.015625 \r\nQ 14.890625 38.140625 10.796875 36.28125 \r\nz\r\n\" id=\"DejaVuSans-53\"/>\r\n        <path d=\"M 11.71875 12.40625 \r\nL 22.015625 12.40625 \r\nL 22.015625 4 \r\nL 14.015625 -11.625 \r\nL 7.71875 -11.625 \r\nL 11.71875 4 \r\nz\r\n\" id=\"DejaVuSans-44\"/>\r\n        <path id=\"DejaVuSans-32\"/>\r\n        <path d=\"M 40.578125 39.3125 \r\nQ 47.65625 37.796875 51.625 33 \r\nQ 55.609375 28.21875 55.609375 21.1875 \r\nQ 55.609375 10.40625 48.1875 4.484375 \r\nQ 40.765625 -1.421875 27.09375 -1.421875 \r\nQ 22.515625 -1.421875 17.65625 -0.515625 \r\nQ 12.796875 0.390625 7.625 2.203125 \r\nL 7.625 11.71875 \r\nQ 11.71875 9.328125 16.59375 8.109375 \r\nQ 21.484375 6.890625 26.8125 6.890625 \r\nQ 36.078125 6.890625 40.9375 10.546875 \r\nQ 45.796875 14.203125 45.796875 21.1875 \r\nQ 45.796875 27.640625 41.28125 31.265625 \r\nQ 36.765625 34.90625 28.71875 34.90625 \r\nL 20.21875 34.90625 \r\nL 20.21875 43.015625 \r\nL 29.109375 43.015625 \r\nQ 36.375 43.015625 40.234375 45.921875 \r\nQ 44.09375 48.828125 44.09375 54.296875 \r\nQ 44.09375 59.90625 40.109375 62.90625 \r\nQ 36.140625 65.921875 28.71875 65.921875 \r\nQ 24.65625 65.921875 20.015625 65.03125 \r\nQ 15.375 64.15625 9.8125 62.3125 \r\nL 9.8125 71.09375 \r\nQ 15.4375 72.65625 20.34375 73.4375 \r\nQ 25.25 74.21875 29.59375 74.21875 \r\nQ 40.828125 74.21875 47.359375 69.109375 \r\nQ 53.90625 64.015625 53.90625 55.328125 \r\nQ 53.90625 49.265625 50.4375 45.09375 \r\nQ 46.96875 40.921875 40.578125 39.3125 \r\nz\r\n\" id=\"DejaVuSans-51\"/>\r\n        <path d=\"M 8.015625 75.875 \r\nL 15.828125 75.875 \r\nQ 23.140625 64.359375 26.78125 53.3125 \r\nQ 30.421875 42.28125 30.421875 31.390625 \r\nQ 30.421875 20.453125 26.78125 9.375 \r\nQ 23.140625 -1.703125 15.828125 -13.1875 \r\nL 8.015625 -13.1875 \r\nQ 14.5 -2 17.703125 9.0625 \r\nQ 20.90625 20.125 20.90625 31.390625 \r\nQ 20.90625 42.671875 17.703125 53.65625 \r\nQ 14.5 64.65625 8.015625 75.875 \r\nz\r\n\" id=\"DejaVuSans-41\"/>\r\n       </defs>\r\n       <use xlink:href=\"#DejaVuSans-40\"/>\r\n       <use x=\"39.013672\" xlink:href=\"#DejaVuSans-49\"/>\r\n       <use x=\"102.636719\" xlink:href=\"#DejaVuSans-53\"/>\r\n       <use x=\"166.259766\" xlink:href=\"#DejaVuSans-44\"/>\r\n       <use x=\"198.046875\" xlink:href=\"#DejaVuSans-32\"/>\r\n       <use x=\"229.833984\" xlink:href=\"#DejaVuSans-51\"/>\r\n       <use x=\"293.457031\" xlink:href=\"#DejaVuSans-41\"/>\r\n      </g>\r\n     </g>\r\n    </g>\r\n    <g id=\"xtick_2\">\r\n     <g id=\"line2d_2\">\r\n      <g>\r\n       <use style=\"stroke:#000000;stroke-width:0.8;\" x=\"370.38125\" xlink:href=\"#m12bcc7cd6e\" y=\"402.838125\"/>\r\n      </g>\r\n     </g>\r\n     <g id=\"text_2\">\r\n      <!-- (30, 6) -->\r\n      <g transform=\"translate(353.757812 417.436562)scale(0.1 -0.1)\">\r\n       <defs>\r\n        <path d=\"M 31.78125 66.40625 \r\nQ 24.171875 66.40625 20.328125 58.90625 \r\nQ 16.5 51.421875 16.5 36.375 \r\nQ 16.5 21.390625 20.328125 13.890625 \r\nQ 24.171875 6.390625 31.78125 6.390625 \r\nQ 39.453125 6.390625 43.28125 13.890625 \r\nQ 47.125 21.390625 47.125 36.375 \r\nQ 47.125 51.421875 43.28125 58.90625 \r\nQ 39.453125 66.40625 31.78125 66.40625 \r\nz\r\nM 31.78125 74.21875 \r\nQ 44.046875 74.21875 50.515625 64.515625 \r\nQ 56.984375 54.828125 56.984375 36.375 \r\nQ 56.984375 17.96875 50.515625 8.265625 \r\nQ 44.046875 -1.421875 31.78125 -1.421875 \r\nQ 19.53125 -1.421875 13.0625 8.265625 \r\nQ 6.59375 17.96875 6.59375 36.375 \r\nQ 6.59375 54.828125 13.0625 64.515625 \r\nQ 19.53125 74.21875 31.78125 74.21875 \r\nz\r\n\" id=\"DejaVuSans-48\"/>\r\n        <path d=\"M 33.015625 40.375 \r\nQ 26.375 40.375 22.484375 35.828125 \r\nQ 18.609375 31.296875 18.609375 23.390625 \r\nQ 18.609375 15.53125 22.484375 10.953125 \r\nQ 26.375 6.390625 33.015625 6.390625 \r\nQ 39.65625 6.390625 43.53125 10.953125 \r\nQ 47.40625 15.53125 47.40625 23.390625 \r\nQ 47.40625 31.296875 43.53125 35.828125 \r\nQ 39.65625 40.375 33.015625 40.375 \r\nz\r\nM 52.59375 71.296875 \r\nL 52.59375 62.3125 \r\nQ 48.875 64.0625 45.09375 64.984375 \r\nQ 41.3125 65.921875 37.59375 65.921875 \r\nQ 27.828125 65.921875 22.671875 59.328125 \r\nQ 17.53125 52.734375 16.796875 39.40625 \r\nQ 19.671875 43.65625 24.015625 45.921875 \r\nQ 28.375 48.1875 33.59375 48.1875 \r\nQ 44.578125 48.1875 50.953125 41.515625 \r\nQ 57.328125 34.859375 57.328125 23.390625 \r\nQ 57.328125 12.15625 50.6875 5.359375 \r\nQ 44.046875 -1.421875 33.015625 -1.421875 \r\nQ 20.359375 -1.421875 13.671875 8.265625 \r\nQ 6.984375 17.96875 6.984375 36.375 \r\nQ 6.984375 53.65625 15.1875 63.9375 \r\nQ 23.390625 74.21875 37.203125 74.21875 \r\nQ 40.921875 74.21875 44.703125 73.484375 \r\nQ 48.484375 72.75 52.59375 71.296875 \r\nz\r\n\" id=\"DejaVuSans-54\"/>\r\n       </defs>\r\n       <use xlink:href=\"#DejaVuSans-40\"/>\r\n       <use x=\"39.013672\" xlink:href=\"#DejaVuSans-51\"/>\r\n       <use x=\"102.636719\" xlink:href=\"#DejaVuSans-48\"/>\r\n       <use x=\"166.259766\" xlink:href=\"#DejaVuSans-44\"/>\r\n       <use x=\"198.046875\" xlink:href=\"#DejaVuSans-32\"/>\r\n       <use x=\"229.833984\" xlink:href=\"#DejaVuSans-54\"/>\r\n       <use x=\"293.457031\" xlink:href=\"#DejaVuSans-41\"/>\r\n      </g>\r\n     </g>\r\n    </g>\r\n    <g id=\"xtick_3\">\r\n     <g id=\"line2d_3\">\r\n      <g>\r\n       <use style=\"stroke:#000000;stroke-width:0.8;\" x=\"579.63125\" xlink:href=\"#m12bcc7cd6e\" y=\"402.838125\"/>\r\n      </g>\r\n     </g>\r\n     <g id=\"text_3\">\r\n      <!-- (45, 9) -->\r\n      <g transform=\"translate(563.007812 417.436562)scale(0.1 -0.1)\">\r\n       <defs>\r\n        <path d=\"M 37.796875 64.3125 \r\nL 12.890625 25.390625 \r\nL 37.796875 25.390625 \r\nz\r\nM 35.203125 72.90625 \r\nL 47.609375 72.90625 \r\nL 47.609375 25.390625 \r\nL 58.015625 25.390625 \r\nL 58.015625 17.1875 \r\nL 47.609375 17.1875 \r\nL 47.609375 0 \r\nL 37.796875 0 \r\nL 37.796875 17.1875 \r\nL 4.890625 17.1875 \r\nL 4.890625 26.703125 \r\nz\r\n\" id=\"DejaVuSans-52\"/>\r\n        <path d=\"M 10.984375 1.515625 \r\nL 10.984375 10.5 \r\nQ 14.703125 8.734375 18.5 7.8125 \r\nQ 22.3125 6.890625 25.984375 6.890625 \r\nQ 35.75 6.890625 40.890625 13.453125 \r\nQ 46.046875 20.015625 46.78125 33.40625 \r\nQ 43.953125 29.203125 39.59375 26.953125 \r\nQ 35.25 24.703125 29.984375 24.703125 \r\nQ 19.046875 24.703125 12.671875 31.3125 \r\nQ 6.296875 37.9375 6.296875 49.421875 \r\nQ 6.296875 60.640625 12.9375 67.421875 \r\nQ 19.578125 74.21875 30.609375 74.21875 \r\nQ 43.265625 74.21875 49.921875 64.515625 \r\nQ 56.59375 54.828125 56.59375 36.375 \r\nQ 56.59375 19.140625 48.40625 8.859375 \r\nQ 40.234375 -1.421875 26.421875 -1.421875 \r\nQ 22.703125 -1.421875 18.890625 -0.6875 \r\nQ 15.09375 0.046875 10.984375 1.515625 \r\nz\r\nM 30.609375 32.421875 \r\nQ 37.25 32.421875 41.125 36.953125 \r\nQ 45.015625 41.5 45.015625 49.421875 \r\nQ 45.015625 57.28125 41.125 61.84375 \r\nQ 37.25 66.40625 30.609375 66.40625 \r\nQ 23.96875 66.40625 20.09375 61.84375 \r\nQ 16.21875 57.28125 16.21875 49.421875 \r\nQ 16.21875 41.5 20.09375 36.953125 \r\nQ 23.96875 32.421875 30.609375 32.421875 \r\nz\r\n\" id=\"DejaVuSans-57\"/>\r\n       </defs>\r\n       <use xlink:href=\"#DejaVuSans-40\"/>\r\n       <use x=\"39.013672\" xlink:href=\"#DejaVuSans-52\"/>\r\n       <use x=\"102.636719\" xlink:href=\"#DejaVuSans-53\"/>\r\n       <use x=\"166.259766\" xlink:href=\"#DejaVuSans-44\"/>\r\n       <use x=\"198.046875\" xlink:href=\"#DejaVuSans-32\"/>\r\n       <use x=\"229.833984\" xlink:href=\"#DejaVuSans-57\"/>\r\n       <use x=\"293.457031\" xlink:href=\"#DejaVuSans-41\"/>\r\n      </g>\r\n     </g>\r\n    </g>\r\n    <g id=\"xtick_4\">\r\n     <g id=\"line2d_4\">\r\n      <g>\r\n       <use style=\"stroke:#000000;stroke-width:0.8;\" x=\"788.88125\" xlink:href=\"#m12bcc7cd6e\" y=\"402.838125\"/>\r\n      </g>\r\n     </g>\r\n     <g id=\"text_4\">\r\n      <!-- (120, 12) -->\r\n      <g transform=\"translate(765.895313 417.436562)scale(0.1 -0.1)\">\r\n       <defs>\r\n        <path d=\"M 19.1875 8.296875 \r\nL 53.609375 8.296875 \r\nL 53.609375 0 \r\nL 7.328125 0 \r\nL 7.328125 8.296875 \r\nQ 12.9375 14.109375 22.625 23.890625 \r\nQ 32.328125 33.6875 34.8125 36.53125 \r\nQ 39.546875 41.84375 41.421875 45.53125 \r\nQ 43.3125 49.21875 43.3125 52.78125 \r\nQ 43.3125 58.59375 39.234375 62.25 \r\nQ 35.15625 65.921875 28.609375 65.921875 \r\nQ 23.96875 65.921875 18.8125 64.3125 \r\nQ 13.671875 62.703125 7.8125 59.421875 \r\nL 7.8125 69.390625 \r\nQ 13.765625 71.78125 18.9375 73 \r\nQ 24.125 74.21875 28.421875 74.21875 \r\nQ 39.75 74.21875 46.484375 68.546875 \r\nQ 53.21875 62.890625 53.21875 53.421875 \r\nQ 53.21875 48.921875 51.53125 44.890625 \r\nQ 49.859375 40.875 45.40625 35.40625 \r\nQ 44.1875 33.984375 37.640625 27.21875 \r\nQ 31.109375 20.453125 19.1875 8.296875 \r\nz\r\n\" id=\"DejaVuSans-50\"/>\r\n       </defs>\r\n       <use xlink:href=\"#DejaVuSans-40\"/>\r\n       <use x=\"39.013672\" xlink:href=\"#DejaVuSans-49\"/>\r\n       <use x=\"102.636719\" xlink:href=\"#DejaVuSans-50\"/>\r\n       <use x=\"166.259766\" xlink:href=\"#DejaVuSans-48\"/>\r\n       <use x=\"229.882812\" xlink:href=\"#DejaVuSans-44\"/>\r\n       <use x=\"261.669922\" xlink:href=\"#DejaVuSans-32\"/>\r\n       <use x=\"293.457031\" xlink:href=\"#DejaVuSans-49\"/>\r\n       <use x=\"357.080078\" xlink:href=\"#DejaVuSans-50\"/>\r\n       <use x=\"420.703125\" xlink:href=\"#DejaVuSans-41\"/>\r\n      </g>\r\n     </g>\r\n    </g>\r\n    <g id=\"text_5\">\r\n     <!-- Duration(min) / Distance(km) -->\r\n     <g transform=\"translate(401.56875 431.114687)scale(0.1 -0.1)\">\r\n      <defs>\r\n       <path d=\"M 19.671875 64.796875 \r\nL 19.671875 8.109375 \r\nL 31.59375 8.109375 \r\nQ 46.6875 8.109375 53.6875 14.9375 \r\nQ 60.6875 21.78125 60.6875 36.53125 \r\nQ 60.6875 51.171875 53.6875 57.984375 \r\nQ 46.6875 64.796875 31.59375 64.796875 \r\nz\r\nM 9.8125 72.90625 \r\nL 30.078125 72.90625 \r\nQ 51.265625 72.90625 61.171875 64.09375 \r\nQ 71.09375 55.28125 71.09375 36.53125 \r\nQ 71.09375 17.671875 61.125 8.828125 \r\nQ 51.171875 0 30.078125 0 \r\nL 9.8125 0 \r\nz\r\n\" id=\"DejaVuSans-68\"/>\r\n       <path d=\"M 8.5 21.578125 \r\nL 8.5 54.6875 \r\nL 17.484375 54.6875 \r\nL 17.484375 21.921875 \r\nQ 17.484375 14.15625 20.5 10.265625 \r\nQ 23.53125 6.390625 29.59375 6.390625 \r\nQ 36.859375 6.390625 41.078125 11.03125 \r\nQ 45.3125 15.671875 45.3125 23.6875 \r\nL 45.3125 54.6875 \r\nL 54.296875 54.6875 \r\nL 54.296875 0 \r\nL 45.3125 0 \r\nL 45.3125 8.40625 \r\nQ 42.046875 3.421875 37.71875 1 \r\nQ 33.40625 -1.421875 27.6875 -1.421875 \r\nQ 18.265625 -1.421875 13.375 4.4375 \r\nQ 8.5 10.296875 8.5 21.578125 \r\nz\r\nM 31.109375 56 \r\nz\r\n\" id=\"DejaVuSans-117\"/>\r\n       <path d=\"M 41.109375 46.296875 \r\nQ 39.59375 47.171875 37.8125 47.578125 \r\nQ 36.03125 48 33.890625 48 \r\nQ 26.265625 48 22.1875 43.046875 \r\nQ 18.109375 38.09375 18.109375 28.8125 \r\nL 18.109375 0 \r\nL 9.078125 0 \r\nL 9.078125 54.6875 \r\nL 18.109375 54.6875 \r\nL 18.109375 46.1875 \r\nQ 20.953125 51.171875 25.484375 53.578125 \r\nQ 30.03125 56 36.53125 56 \r\nQ 37.453125 56 38.578125 55.875 \r\nQ 39.703125 55.765625 41.0625 55.515625 \r\nz\r\n\" id=\"DejaVuSans-114\"/>\r\n       <path d=\"M 34.28125 27.484375 \r\nQ 23.390625 27.484375 19.1875 25 \r\nQ 14.984375 22.515625 14.984375 16.5 \r\nQ 14.984375 11.71875 18.140625 8.90625 \r\nQ 21.296875 6.109375 26.703125 6.109375 \r\nQ 34.1875 6.109375 38.703125 11.40625 \r\nQ 43.21875 16.703125 43.21875 25.484375 \r\nL 43.21875 27.484375 \r\nz\r\nM 52.203125 31.203125 \r\nL 52.203125 0 \r\nL 43.21875 0 \r\nL 43.21875 8.296875 \r\nQ 40.140625 3.328125 35.546875 0.953125 \r\nQ 30.953125 -1.421875 24.3125 -1.421875 \r\nQ 15.921875 -1.421875 10.953125 3.296875 \r\nQ 6 8.015625 6 15.921875 \r\nQ 6 25.140625 12.171875 29.828125 \r\nQ 18.359375 34.515625 30.609375 34.515625 \r\nL 43.21875 34.515625 \r\nL 43.21875 35.40625 \r\nQ 43.21875 41.609375 39.140625 45 \r\nQ 35.0625 48.390625 27.6875 48.390625 \r\nQ 23 48.390625 18.546875 47.265625 \r\nQ 14.109375 46.140625 10.015625 43.890625 \r\nL 10.015625 52.203125 \r\nQ 14.9375 54.109375 19.578125 55.046875 \r\nQ 24.21875 56 28.609375 56 \r\nQ 40.484375 56 46.34375 49.84375 \r\nQ 52.203125 43.703125 52.203125 31.203125 \r\nz\r\n\" id=\"DejaVuSans-97\"/>\r\n       <path d=\"M 18.3125 70.21875 \r\nL 18.3125 54.6875 \r\nL 36.8125 54.6875 \r\nL 36.8125 47.703125 \r\nL 18.3125 47.703125 \r\nL 18.3125 18.015625 \r\nQ 18.3125 11.328125 20.140625 9.421875 \r\nQ 21.96875 7.515625 27.59375 7.515625 \r\nL 36.8125 7.515625 \r\nL 36.8125 0 \r\nL 27.59375 0 \r\nQ 17.1875 0 13.234375 3.875 \r\nQ 9.28125 7.765625 9.28125 18.015625 \r\nL 9.28125 47.703125 \r\nL 2.6875 47.703125 \r\nL 2.6875 54.6875 \r\nL 9.28125 54.6875 \r\nL 9.28125 70.21875 \r\nz\r\n\" id=\"DejaVuSans-116\"/>\r\n       <path d=\"M 9.421875 54.6875 \r\nL 18.40625 54.6875 \r\nL 18.40625 0 \r\nL 9.421875 0 \r\nz\r\nM 9.421875 75.984375 \r\nL 18.40625 75.984375 \r\nL 18.40625 64.59375 \r\nL 9.421875 64.59375 \r\nz\r\n\" id=\"DejaVuSans-105\"/>\r\n       <path d=\"M 30.609375 48.390625 \r\nQ 23.390625 48.390625 19.1875 42.75 \r\nQ 14.984375 37.109375 14.984375 27.296875 \r\nQ 14.984375 17.484375 19.15625 11.84375 \r\nQ 23.34375 6.203125 30.609375 6.203125 \r\nQ 37.796875 6.203125 41.984375 11.859375 \r\nQ 46.1875 17.53125 46.1875 27.296875 \r\nQ 46.1875 37.015625 41.984375 42.703125 \r\nQ 37.796875 48.390625 30.609375 48.390625 \r\nz\r\nM 30.609375 56 \r\nQ 42.328125 56 49.015625 48.375 \r\nQ 55.71875 40.765625 55.71875 27.296875 \r\nQ 55.71875 13.875 49.015625 6.21875 \r\nQ 42.328125 -1.421875 30.609375 -1.421875 \r\nQ 18.84375 -1.421875 12.171875 6.21875 \r\nQ 5.515625 13.875 5.515625 27.296875 \r\nQ 5.515625 40.765625 12.171875 48.375 \r\nQ 18.84375 56 30.609375 56 \r\nz\r\n\" id=\"DejaVuSans-111\"/>\r\n       <path d=\"M 54.890625 33.015625 \r\nL 54.890625 0 \r\nL 45.90625 0 \r\nL 45.90625 32.71875 \r\nQ 45.90625 40.484375 42.875 44.328125 \r\nQ 39.84375 48.1875 33.796875 48.1875 \r\nQ 26.515625 48.1875 22.3125 43.546875 \r\nQ 18.109375 38.921875 18.109375 30.90625 \r\nL 18.109375 0 \r\nL 9.078125 0 \r\nL 9.078125 54.6875 \r\nL 18.109375 54.6875 \r\nL 18.109375 46.1875 \r\nQ 21.34375 51.125 25.703125 53.5625 \r\nQ 30.078125 56 35.796875 56 \r\nQ 45.21875 56 50.046875 50.171875 \r\nQ 54.890625 44.34375 54.890625 33.015625 \r\nz\r\n\" id=\"DejaVuSans-110\"/>\r\n       <path d=\"M 52 44.1875 \r\nQ 55.375 50.25 60.0625 53.125 \r\nQ 64.75 56 71.09375 56 \r\nQ 79.640625 56 84.28125 50.015625 \r\nQ 88.921875 44.046875 88.921875 33.015625 \r\nL 88.921875 0 \r\nL 79.890625 0 \r\nL 79.890625 32.71875 \r\nQ 79.890625 40.578125 77.09375 44.375 \r\nQ 74.3125 48.1875 68.609375 48.1875 \r\nQ 61.625 48.1875 57.5625 43.546875 \r\nQ 53.515625 38.921875 53.515625 30.90625 \r\nL 53.515625 0 \r\nL 44.484375 0 \r\nL 44.484375 32.71875 \r\nQ 44.484375 40.625 41.703125 44.40625 \r\nQ 38.921875 48.1875 33.109375 48.1875 \r\nQ 26.21875 48.1875 22.15625 43.53125 \r\nQ 18.109375 38.875 18.109375 30.90625 \r\nL 18.109375 0 \r\nL 9.078125 0 \r\nL 9.078125 54.6875 \r\nL 18.109375 54.6875 \r\nL 18.109375 46.1875 \r\nQ 21.1875 51.21875 25.484375 53.609375 \r\nQ 29.78125 56 35.6875 56 \r\nQ 41.65625 56 45.828125 52.96875 \r\nQ 50 49.953125 52 44.1875 \r\nz\r\n\" id=\"DejaVuSans-109\"/>\r\n       <path d=\"M 25.390625 72.90625 \r\nL 33.6875 72.90625 \r\nL 8.296875 -9.28125 \r\nL 0 -9.28125 \r\nz\r\n\" id=\"DejaVuSans-47\"/>\r\n       <path d=\"M 44.28125 53.078125 \r\nL 44.28125 44.578125 \r\nQ 40.484375 46.53125 36.375 47.5 \r\nQ 32.28125 48.484375 27.875 48.484375 \r\nQ 21.1875 48.484375 17.84375 46.4375 \r\nQ 14.5 44.390625 14.5 40.28125 \r\nQ 14.5 37.15625 16.890625 35.375 \r\nQ 19.28125 33.59375 26.515625 31.984375 \r\nL 29.59375 31.296875 \r\nQ 39.15625 29.25 43.1875 25.515625 \r\nQ 47.21875 21.78125 47.21875 15.09375 \r\nQ 47.21875 7.46875 41.1875 3.015625 \r\nQ 35.15625 -1.421875 24.609375 -1.421875 \r\nQ 20.21875 -1.421875 15.453125 -0.5625 \r\nQ 10.6875 0.296875 5.421875 2 \r\nL 5.421875 11.28125 \r\nQ 10.40625 8.6875 15.234375 7.390625 \r\nQ 20.0625 6.109375 24.8125 6.109375 \r\nQ 31.15625 6.109375 34.5625 8.28125 \r\nQ 37.984375 10.453125 37.984375 14.40625 \r\nQ 37.984375 18.0625 35.515625 20.015625 \r\nQ 33.0625 21.96875 24.703125 23.78125 \r\nL 21.578125 24.515625 \r\nQ 13.234375 26.265625 9.515625 29.90625 \r\nQ 5.8125 33.546875 5.8125 39.890625 \r\nQ 5.8125 47.609375 11.28125 51.796875 \r\nQ 16.75 56 26.8125 56 \r\nQ 31.78125 56 36.171875 55.265625 \r\nQ 40.578125 54.546875 44.28125 53.078125 \r\nz\r\n\" id=\"DejaVuSans-115\"/>\r\n       <path d=\"M 48.78125 52.59375 \r\nL 48.78125 44.1875 \r\nQ 44.96875 46.296875 41.140625 47.34375 \r\nQ 37.3125 48.390625 33.40625 48.390625 \r\nQ 24.65625 48.390625 19.8125 42.84375 \r\nQ 14.984375 37.3125 14.984375 27.296875 \r\nQ 14.984375 17.28125 19.8125 11.734375 \r\nQ 24.65625 6.203125 33.40625 6.203125 \r\nQ 37.3125 6.203125 41.140625 7.25 \r\nQ 44.96875 8.296875 48.78125 10.40625 \r\nL 48.78125 2.09375 \r\nQ 45.015625 0.34375 40.984375 -0.53125 \r\nQ 36.96875 -1.421875 32.421875 -1.421875 \r\nQ 20.0625 -1.421875 12.78125 6.34375 \r\nQ 5.515625 14.109375 5.515625 27.296875 \r\nQ 5.515625 40.671875 12.859375 48.328125 \r\nQ 20.21875 56 33.015625 56 \r\nQ 37.15625 56 41.109375 55.140625 \r\nQ 45.0625 54.296875 48.78125 52.59375 \r\nz\r\n\" id=\"DejaVuSans-99\"/>\r\n       <path d=\"M 56.203125 29.59375 \r\nL 56.203125 25.203125 \r\nL 14.890625 25.203125 \r\nQ 15.484375 15.921875 20.484375 11.0625 \r\nQ 25.484375 6.203125 34.421875 6.203125 \r\nQ 39.59375 6.203125 44.453125 7.46875 \r\nQ 49.3125 8.734375 54.109375 11.28125 \r\nL 54.109375 2.78125 \r\nQ 49.265625 0.734375 44.1875 -0.34375 \r\nQ 39.109375 -1.421875 33.890625 -1.421875 \r\nQ 20.796875 -1.421875 13.15625 6.1875 \r\nQ 5.515625 13.8125 5.515625 26.8125 \r\nQ 5.515625 40.234375 12.765625 48.109375 \r\nQ 20.015625 56 32.328125 56 \r\nQ 43.359375 56 49.78125 48.890625 \r\nQ 56.203125 41.796875 56.203125 29.59375 \r\nz\r\nM 47.21875 32.234375 \r\nQ 47.125 39.59375 43.09375 43.984375 \r\nQ 39.0625 48.390625 32.421875 48.390625 \r\nQ 24.90625 48.390625 20.390625 44.140625 \r\nQ 15.875 39.890625 15.1875 32.171875 \r\nz\r\n\" id=\"DejaVuSans-101\"/>\r\n       <path d=\"M 9.078125 75.984375 \r\nL 18.109375 75.984375 \r\nL 18.109375 31.109375 \r\nL 44.921875 54.6875 \r\nL 56.390625 54.6875 \r\nL 27.390625 29.109375 \r\nL 57.625 0 \r\nL 45.90625 0 \r\nL 18.109375 26.703125 \r\nL 18.109375 0 \r\nL 9.078125 0 \r\nz\r\n\" id=\"DejaVuSans-107\"/>\r\n      </defs>\r\n      <use xlink:href=\"#DejaVuSans-68\"/>\r\n      <use x=\"77.001953\" xlink:href=\"#DejaVuSans-117\"/>\r\n      <use x=\"140.380859\" xlink:href=\"#DejaVuSans-114\"/>\r\n      <use x=\"181.494141\" xlink:href=\"#DejaVuSans-97\"/>\r\n      <use x=\"242.773438\" xlink:href=\"#DejaVuSans-116\"/>\r\n      <use x=\"281.982422\" xlink:href=\"#DejaVuSans-105\"/>\r\n      <use x=\"309.765625\" xlink:href=\"#DejaVuSans-111\"/>\r\n      <use x=\"370.947266\" xlink:href=\"#DejaVuSans-110\"/>\r\n      <use x=\"434.326172\" xlink:href=\"#DejaVuSans-40\"/>\r\n      <use x=\"473.339844\" xlink:href=\"#DejaVuSans-109\"/>\r\n      <use x=\"570.751953\" xlink:href=\"#DejaVuSans-105\"/>\r\n      <use x=\"598.535156\" xlink:href=\"#DejaVuSans-110\"/>\r\n      <use x=\"661.914062\" xlink:href=\"#DejaVuSans-41\"/>\r\n      <use x=\"700.927734\" xlink:href=\"#DejaVuSans-32\"/>\r\n      <use x=\"732.714844\" xlink:href=\"#DejaVuSans-47\"/>\r\n      <use x=\"766.40625\" xlink:href=\"#DejaVuSans-32\"/>\r\n      <use x=\"798.193359\" xlink:href=\"#DejaVuSans-68\"/>\r\n      <use x=\"875.195312\" xlink:href=\"#DejaVuSans-105\"/>\r\n      <use x=\"902.978516\" xlink:href=\"#DejaVuSans-115\"/>\r\n      <use x=\"955.078125\" xlink:href=\"#DejaVuSans-116\"/>\r\n      <use x=\"994.287109\" xlink:href=\"#DejaVuSans-97\"/>\r\n      <use x=\"1055.566406\" xlink:href=\"#DejaVuSans-110\"/>\r\n      <use x=\"1118.945312\" xlink:href=\"#DejaVuSans-99\"/>\r\n      <use x=\"1173.925781\" xlink:href=\"#DejaVuSans-101\"/>\r\n      <use x=\"1235.449219\" xlink:href=\"#DejaVuSans-40\"/>\r\n      <use x=\"1274.462891\" xlink:href=\"#DejaVuSans-107\"/>\r\n      <use x=\"1332.373047\" xlink:href=\"#DejaVuSans-109\"/>\r\n      <use x=\"1429.785156\" xlink:href=\"#DejaVuSans-41\"/>\r\n     </g>\r\n    </g>\r\n   </g>\r\n   <g id=\"matplotlib.axis_2\">\r\n    <g id=\"ytick_1\">\r\n     <g id=\"line2d_5\">\r\n      <path clip-path=\"url(#p5f183fad82)\" d=\"M 56.50625 402.838125 \r\nL 893.50625 402.838125 \r\n\" style=\"fill:none;stroke:#b0b0b0;stroke-dasharray:0.8,1.32;stroke-dashoffset:0;stroke-width:0.8;\"/>\r\n     </g>\r\n     <g id=\"line2d_6\">\r\n      <defs>\r\n       <path d=\"M 0 0 \r\nL -3.5 0 \r\n\" id=\"m5f9e61e915\" style=\"stroke:#000000;stroke-width:0.8;\"/>\r\n      </defs>\r\n      <g>\r\n       <use style=\"stroke:#000000;stroke-width:0.8;\" x=\"56.50625\" xlink:href=\"#m5f9e61e915\" y=\"402.838125\"/>\r\n      </g>\r\n     </g>\r\n     <g id=\"text_6\">\r\n      <!-- 0.000 -->\r\n      <g transform=\"translate(20.878125 406.637344)scale(0.1 -0.1)\">\r\n       <defs>\r\n        <path d=\"M 10.6875 12.40625 \r\nL 21 12.40625 \r\nL 21 0 \r\nL 10.6875 0 \r\nz\r\n\" id=\"DejaVuSans-46\"/>\r\n       </defs>\r\n       <use xlink:href=\"#DejaVuSans-48\"/>\r\n       <use x=\"63.623047\" xlink:href=\"#DejaVuSans-46\"/>\r\n       <use x=\"95.410156\" xlink:href=\"#DejaVuSans-48\"/>\r\n       <use x=\"159.033203\" xlink:href=\"#DejaVuSans-48\"/>\r\n       <use x=\"222.65625\" xlink:href=\"#DejaVuSans-48\"/>\r\n      </g>\r\n     </g>\r\n    </g>\r\n    <g id=\"ytick_2\">\r\n     <g id=\"line2d_7\">\r\n      <path clip-path=\"url(#p5f183fad82)\" d=\"M 56.50625 356.478984 \r\nL 893.50625 356.478984 \r\n\" style=\"fill:none;stroke:#b0b0b0;stroke-dasharray:0.8,1.32;stroke-dashoffset:0;stroke-width:0.8;\"/>\r\n     </g>\r\n     <g id=\"line2d_8\">\r\n      <g>\r\n       <use style=\"stroke:#000000;stroke-width:0.8;\" x=\"56.50625\" xlink:href=\"#m5f9e61e915\" y=\"356.478984\"/>\r\n      </g>\r\n     </g>\r\n     <g id=\"text_7\">\r\n      <!-- 0.025 -->\r\n      <g transform=\"translate(20.878125 360.278203)scale(0.1 -0.1)\">\r\n       <use xlink:href=\"#DejaVuSans-48\"/>\r\n       <use x=\"63.623047\" xlink:href=\"#DejaVuSans-46\"/>\r\n       <use x=\"95.410156\" xlink:href=\"#DejaVuSans-48\"/>\r\n       <use x=\"159.033203\" xlink:href=\"#DejaVuSans-50\"/>\r\n       <use x=\"222.65625\" xlink:href=\"#DejaVuSans-53\"/>\r\n      </g>\r\n     </g>\r\n    </g>\r\n    <g id=\"ytick_3\">\r\n     <g id=\"line2d_9\">\r\n      <path clip-path=\"url(#p5f183fad82)\" d=\"M 56.50625 310.119844 \r\nL 893.50625 310.119844 \r\n\" style=\"fill:none;stroke:#b0b0b0;stroke-dasharray:0.8,1.32;stroke-dashoffset:0;stroke-width:0.8;\"/>\r\n     </g>\r\n     <g id=\"line2d_10\">\r\n      <g>\r\n       <use style=\"stroke:#000000;stroke-width:0.8;\" x=\"56.50625\" xlink:href=\"#m5f9e61e915\" y=\"310.119844\"/>\r\n      </g>\r\n     </g>\r\n     <g id=\"text_8\">\r\n      <!-- 0.050 -->\r\n      <g transform=\"translate(20.878125 313.919062)scale(0.1 -0.1)\">\r\n       <use xlink:href=\"#DejaVuSans-48\"/>\r\n       <use x=\"63.623047\" xlink:href=\"#DejaVuSans-46\"/>\r\n       <use x=\"95.410156\" xlink:href=\"#DejaVuSans-48\"/>\r\n       <use x=\"159.033203\" xlink:href=\"#DejaVuSans-53\"/>\r\n       <use x=\"222.65625\" xlink:href=\"#DejaVuSans-48\"/>\r\n      </g>\r\n     </g>\r\n    </g>\r\n    <g id=\"ytick_4\">\r\n     <g id=\"line2d_11\">\r\n      <path clip-path=\"url(#p5f183fad82)\" d=\"M 56.50625 263.760703 \r\nL 893.50625 263.760703 \r\n\" style=\"fill:none;stroke:#b0b0b0;stroke-dasharray:0.8,1.32;stroke-dashoffset:0;stroke-width:0.8;\"/>\r\n     </g>\r\n     <g id=\"line2d_12\">\r\n      <g>\r\n       <use style=\"stroke:#000000;stroke-width:0.8;\" x=\"56.50625\" xlink:href=\"#m5f9e61e915\" y=\"263.760703\"/>\r\n      </g>\r\n     </g>\r\n     <g id=\"text_9\">\r\n      <!-- 0.075 -->\r\n      <g transform=\"translate(20.878125 267.559922)scale(0.1 -0.1)\">\r\n       <defs>\r\n        <path d=\"M 8.203125 72.90625 \r\nL 55.078125 72.90625 \r\nL 55.078125 68.703125 \r\nL 28.609375 0 \r\nL 18.3125 0 \r\nL 43.21875 64.59375 \r\nL 8.203125 64.59375 \r\nz\r\n\" id=\"DejaVuSans-55\"/>\r\n       </defs>\r\n       <use xlink:href=\"#DejaVuSans-48\"/>\r\n       <use x=\"63.623047\" xlink:href=\"#DejaVuSans-46\"/>\r\n       <use x=\"95.410156\" xlink:href=\"#DejaVuSans-48\"/>\r\n       <use x=\"159.033203\" xlink:href=\"#DejaVuSans-55\"/>\r\n       <use x=\"222.65625\" xlink:href=\"#DejaVuSans-53\"/>\r\n      </g>\r\n     </g>\r\n    </g>\r\n    <g id=\"ytick_5\">\r\n     <g id=\"line2d_13\">\r\n      <path clip-path=\"url(#p5f183fad82)\" d=\"M 56.50625 217.401562 \r\nL 893.50625 217.401562 \r\n\" style=\"fill:none;stroke:#b0b0b0;stroke-dasharray:0.8,1.32;stroke-dashoffset:0;stroke-width:0.8;\"/>\r\n     </g>\r\n     <g id=\"line2d_14\">\r\n      <g>\r\n       <use style=\"stroke:#000000;stroke-width:0.8;\" x=\"56.50625\" xlink:href=\"#m5f9e61e915\" y=\"217.401562\"/>\r\n      </g>\r\n     </g>\r\n     <g id=\"text_10\">\r\n      <!-- 0.100 -->\r\n      <g transform=\"translate(20.878125 221.200781)scale(0.1 -0.1)\">\r\n       <use xlink:href=\"#DejaVuSans-48\"/>\r\n       <use x=\"63.623047\" xlink:href=\"#DejaVuSans-46\"/>\r\n       <use x=\"95.410156\" xlink:href=\"#DejaVuSans-49\"/>\r\n       <use x=\"159.033203\" xlink:href=\"#DejaVuSans-48\"/>\r\n       <use x=\"222.65625\" xlink:href=\"#DejaVuSans-48\"/>\r\n      </g>\r\n     </g>\r\n    </g>\r\n    <g id=\"ytick_6\">\r\n     <g id=\"line2d_15\">\r\n      <path clip-path=\"url(#p5f183fad82)\" d=\"M 56.50625 171.042421 \r\nL 893.50625 171.042421 \r\n\" style=\"fill:none;stroke:#b0b0b0;stroke-dasharray:0.8,1.32;stroke-dashoffset:0;stroke-width:0.8;\"/>\r\n     </g>\r\n     <g id=\"line2d_16\">\r\n      <g>\r\n       <use style=\"stroke:#000000;stroke-width:0.8;\" x=\"56.50625\" xlink:href=\"#m5f9e61e915\" y=\"171.042421\"/>\r\n      </g>\r\n     </g>\r\n     <g id=\"text_11\">\r\n      <!-- 0.125 -->\r\n      <g transform=\"translate(20.878125 174.84164)scale(0.1 -0.1)\">\r\n       <use xlink:href=\"#DejaVuSans-48\"/>\r\n       <use x=\"63.623047\" xlink:href=\"#DejaVuSans-46\"/>\r\n       <use x=\"95.410156\" xlink:href=\"#DejaVuSans-49\"/>\r\n       <use x=\"159.033203\" xlink:href=\"#DejaVuSans-50\"/>\r\n       <use x=\"222.65625\" xlink:href=\"#DejaVuSans-53\"/>\r\n      </g>\r\n     </g>\r\n    </g>\r\n    <g id=\"ytick_7\">\r\n     <g id=\"line2d_17\">\r\n      <path clip-path=\"url(#p5f183fad82)\" d=\"M 56.50625 124.683281 \r\nL 893.50625 124.683281 \r\n\" style=\"fill:none;stroke:#b0b0b0;stroke-dasharray:0.8,1.32;stroke-dashoffset:0;stroke-width:0.8;\"/>\r\n     </g>\r\n     <g id=\"line2d_18\">\r\n      <g>\r\n       <use style=\"stroke:#000000;stroke-width:0.8;\" x=\"56.50625\" xlink:href=\"#m5f9e61e915\" y=\"124.683281\"/>\r\n      </g>\r\n     </g>\r\n     <g id=\"text_12\">\r\n      <!-- 0.150 -->\r\n      <g transform=\"translate(20.878125 128.482499)scale(0.1 -0.1)\">\r\n       <use xlink:href=\"#DejaVuSans-48\"/>\r\n       <use x=\"63.623047\" xlink:href=\"#DejaVuSans-46\"/>\r\n       <use x=\"95.410156\" xlink:href=\"#DejaVuSans-49\"/>\r\n       <use x=\"159.033203\" xlink:href=\"#DejaVuSans-53\"/>\r\n       <use x=\"222.65625\" xlink:href=\"#DejaVuSans-48\"/>\r\n      </g>\r\n     </g>\r\n    </g>\r\n    <g id=\"ytick_8\">\r\n     <g id=\"line2d_19\">\r\n      <path clip-path=\"url(#p5f183fad82)\" d=\"M 56.50625 78.32414 \r\nL 893.50625 78.32414 \r\n\" style=\"fill:none;stroke:#b0b0b0;stroke-dasharray:0.8,1.32;stroke-dashoffset:0;stroke-width:0.8;\"/>\r\n     </g>\r\n     <g id=\"line2d_20\">\r\n      <g>\r\n       <use style=\"stroke:#000000;stroke-width:0.8;\" x=\"56.50625\" xlink:href=\"#m5f9e61e915\" y=\"78.32414\"/>\r\n      </g>\r\n     </g>\r\n     <g id=\"text_13\">\r\n      <!-- 0.175 -->\r\n      <g transform=\"translate(20.878125 82.123359)scale(0.1 -0.1)\">\r\n       <use xlink:href=\"#DejaVuSans-48\"/>\r\n       <use x=\"63.623047\" xlink:href=\"#DejaVuSans-46\"/>\r\n       <use x=\"95.410156\" xlink:href=\"#DejaVuSans-49\"/>\r\n       <use x=\"159.033203\" xlink:href=\"#DejaVuSans-55\"/>\r\n       <use x=\"222.65625\" xlink:href=\"#DejaVuSans-53\"/>\r\n      </g>\r\n     </g>\r\n    </g>\r\n    <g id=\"ytick_9\">\r\n     <g id=\"line2d_21\">\r\n      <path clip-path=\"url(#p5f183fad82)\" d=\"M 56.50625 31.964999 \r\nL 893.50625 31.964999 \r\n\" style=\"fill:none;stroke:#b0b0b0;stroke-dasharray:0.8,1.32;stroke-dashoffset:0;stroke-width:0.8;\"/>\r\n     </g>\r\n     <g id=\"line2d_22\">\r\n      <g>\r\n       <use style=\"stroke:#000000;stroke-width:0.8;\" x=\"56.50625\" xlink:href=\"#m5f9e61e915\" y=\"31.964999\"/>\r\n      </g>\r\n     </g>\r\n     <g id=\"text_14\">\r\n      <!-- 0.200 -->\r\n      <g transform=\"translate(20.878125 35.764218)scale(0.1 -0.1)\">\r\n       <use xlink:href=\"#DejaVuSans-48\"/>\r\n       <use x=\"63.623047\" xlink:href=\"#DejaVuSans-46\"/>\r\n       <use x=\"95.410156\" xlink:href=\"#DejaVuSans-50\"/>\r\n       <use x=\"159.033203\" xlink:href=\"#DejaVuSans-48\"/>\r\n       <use x=\"222.65625\" xlink:href=\"#DejaVuSans-48\"/>\r\n      </g>\r\n     </g>\r\n    </g>\r\n    <g id=\"text_15\">\r\n     <!-- Speed in km/min -->\r\n     <g transform=\"translate(14.798438 254.867969)rotate(-90)scale(0.1 -0.1)\">\r\n      <defs>\r\n       <path d=\"M 53.515625 70.515625 \r\nL 53.515625 60.890625 \r\nQ 47.90625 63.578125 42.921875 64.890625 \r\nQ 37.9375 66.21875 33.296875 66.21875 \r\nQ 25.25 66.21875 20.875 63.09375 \r\nQ 16.5 59.96875 16.5 54.203125 \r\nQ 16.5 49.359375 19.40625 46.890625 \r\nQ 22.3125 44.4375 30.421875 42.921875 \r\nL 36.375 41.703125 \r\nQ 47.40625 39.59375 52.65625 34.296875 \r\nQ 57.90625 29 57.90625 20.125 \r\nQ 57.90625 9.515625 50.796875 4.046875 \r\nQ 43.703125 -1.421875 29.984375 -1.421875 \r\nQ 24.8125 -1.421875 18.96875 -0.25 \r\nQ 13.140625 0.921875 6.890625 3.21875 \r\nL 6.890625 13.375 \r\nQ 12.890625 10.015625 18.65625 8.296875 \r\nQ 24.421875 6.59375 29.984375 6.59375 \r\nQ 38.421875 6.59375 43.015625 9.90625 \r\nQ 47.609375 13.234375 47.609375 19.390625 \r\nQ 47.609375 24.75 44.3125 27.78125 \r\nQ 41.015625 30.8125 33.5 32.328125 \r\nL 27.484375 33.5 \r\nQ 16.453125 35.6875 11.515625 40.375 \r\nQ 6.59375 45.0625 6.59375 53.421875 \r\nQ 6.59375 63.09375 13.40625 68.65625 \r\nQ 20.21875 74.21875 32.171875 74.21875 \r\nQ 37.3125 74.21875 42.625 73.28125 \r\nQ 47.953125 72.359375 53.515625 70.515625 \r\nz\r\n\" id=\"DejaVuSans-83\"/>\r\n       <path d=\"M 18.109375 8.203125 \r\nL 18.109375 -20.796875 \r\nL 9.078125 -20.796875 \r\nL 9.078125 54.6875 \r\nL 18.109375 54.6875 \r\nL 18.109375 46.390625 \r\nQ 20.953125 51.265625 25.265625 53.625 \r\nQ 29.59375 56 35.59375 56 \r\nQ 45.5625 56 51.78125 48.09375 \r\nQ 58.015625 40.1875 58.015625 27.296875 \r\nQ 58.015625 14.40625 51.78125 6.484375 \r\nQ 45.5625 -1.421875 35.59375 -1.421875 \r\nQ 29.59375 -1.421875 25.265625 0.953125 \r\nQ 20.953125 3.328125 18.109375 8.203125 \r\nz\r\nM 48.6875 27.296875 \r\nQ 48.6875 37.203125 44.609375 42.84375 \r\nQ 40.53125 48.484375 33.40625 48.484375 \r\nQ 26.265625 48.484375 22.1875 42.84375 \r\nQ 18.109375 37.203125 18.109375 27.296875 \r\nQ 18.109375 17.390625 22.1875 11.75 \r\nQ 26.265625 6.109375 33.40625 6.109375 \r\nQ 40.53125 6.109375 44.609375 11.75 \r\nQ 48.6875 17.390625 48.6875 27.296875 \r\nz\r\n\" id=\"DejaVuSans-112\"/>\r\n       <path d=\"M 45.40625 46.390625 \r\nL 45.40625 75.984375 \r\nL 54.390625 75.984375 \r\nL 54.390625 0 \r\nL 45.40625 0 \r\nL 45.40625 8.203125 \r\nQ 42.578125 3.328125 38.25 0.953125 \r\nQ 33.9375 -1.421875 27.875 -1.421875 \r\nQ 17.96875 -1.421875 11.734375 6.484375 \r\nQ 5.515625 14.40625 5.515625 27.296875 \r\nQ 5.515625 40.1875 11.734375 48.09375 \r\nQ 17.96875 56 27.875 56 \r\nQ 33.9375 56 38.25 53.625 \r\nQ 42.578125 51.265625 45.40625 46.390625 \r\nz\r\nM 14.796875 27.296875 \r\nQ 14.796875 17.390625 18.875 11.75 \r\nQ 22.953125 6.109375 30.078125 6.109375 \r\nQ 37.203125 6.109375 41.296875 11.75 \r\nQ 45.40625 17.390625 45.40625 27.296875 \r\nQ 45.40625 37.203125 41.296875 42.84375 \r\nQ 37.203125 48.484375 30.078125 48.484375 \r\nQ 22.953125 48.484375 18.875 42.84375 \r\nQ 14.796875 37.203125 14.796875 27.296875 \r\nz\r\n\" id=\"DejaVuSans-100\"/>\r\n      </defs>\r\n      <use xlink:href=\"#DejaVuSans-83\"/>\r\n      <use x=\"63.476562\" xlink:href=\"#DejaVuSans-112\"/>\r\n      <use x=\"126.953125\" xlink:href=\"#DejaVuSans-101\"/>\r\n      <use x=\"188.476562\" xlink:href=\"#DejaVuSans-101\"/>\r\n      <use x=\"250\" xlink:href=\"#DejaVuSans-100\"/>\r\n      <use x=\"313.476562\" xlink:href=\"#DejaVuSans-32\"/>\r\n      <use x=\"345.263672\" xlink:href=\"#DejaVuSans-105\"/>\r\n      <use x=\"373.046875\" xlink:href=\"#DejaVuSans-110\"/>\r\n      <use x=\"436.425781\" xlink:href=\"#DejaVuSans-32\"/>\r\n      <use x=\"468.212891\" xlink:href=\"#DejaVuSans-107\"/>\r\n      <use x=\"526.123047\" xlink:href=\"#DejaVuSans-109\"/>\r\n      <use x=\"623.535156\" xlink:href=\"#DejaVuSans-47\"/>\r\n      <use x=\"657.226562\" xlink:href=\"#DejaVuSans-109\"/>\r\n      <use x=\"754.638672\" xlink:href=\"#DejaVuSans-105\"/>\r\n      <use x=\"782.421875\" xlink:href=\"#DejaVuSans-110\"/>\r\n     </g>\r\n    </g>\r\n   </g>\r\n   <g id=\"patch_15\">\r\n    <path d=\"M 56.50625 402.838125 \r\nL 56.50625 22.318125 \r\n\" style=\"fill:none;stroke:#000000;stroke-linecap:square;stroke-linejoin:miter;stroke-width:0.8;\"/>\r\n   </g>\r\n   <g id=\"patch_16\">\r\n    <path d=\"M 893.50625 402.838125 \r\nL 893.50625 22.318125 \r\n\" style=\"fill:none;stroke:#000000;stroke-linecap:square;stroke-linejoin:miter;stroke-width:0.8;\"/>\r\n   </g>\r\n   <g id=\"patch_17\">\r\n    <path d=\"M 56.50625 402.838125 \r\nL 893.50625 402.838125 \r\n\" style=\"fill:none;stroke:#000000;stroke-linecap:square;stroke-linejoin:miter;stroke-width:0.8;\"/>\r\n   </g>\r\n   <g id=\"patch_18\">\r\n    <path d=\"M 56.50625 22.318125 \r\nL 893.50625 22.318125 \r\n\" style=\"fill:none;stroke:#000000;stroke-linecap:square;stroke-linejoin:miter;stroke-width:0.8;\"/>\r\n   </g>\r\n   <g id=\"text_16\">\r\n    <!-- 0.151 -->\r\n    <g transform=\"translate(111.942188 116.213455)scale(0.1 -0.1)\">\r\n     <use xlink:href=\"#DejaVuSans-48\"/>\r\n     <use x=\"63.623047\" xlink:href=\"#DejaVuSans-46\"/>\r\n     <use x=\"95.410156\" xlink:href=\"#DejaVuSans-49\"/>\r\n     <use x=\"159.033203\" xlink:href=\"#DejaVuSans-53\"/>\r\n     <use x=\"222.65625\" xlink:href=\"#DejaVuSans-49\"/>\r\n    </g>\r\n   </g>\r\n   <g id=\"text_17\">\r\n    <!-- 0.19 -->\r\n    <g transform=\"translate(324.373438 43.848651)scale(0.1 -0.1)\">\r\n     <use xlink:href=\"#DejaVuSans-48\"/>\r\n     <use x=\"63.623047\" xlink:href=\"#DejaVuSans-46\"/>\r\n     <use x=\"95.410156\" xlink:href=\"#DejaVuSans-49\"/>\r\n     <use x=\"159.033203\" xlink:href=\"#DejaVuSans-57\"/>\r\n    </g>\r\n   </g>\r\n   <g id=\"text_18\">\r\n    <!-- 0.195 -->\r\n    <g transform=\"translate(530.442188 33.1975)scale(0.1 -0.1)\">\r\n     <use xlink:href=\"#DejaVuSans-48\"/>\r\n     <use x=\"63.623047\" xlink:href=\"#DejaVuSans-46\"/>\r\n     <use x=\"95.410156\" xlink:href=\"#DejaVuSans-49\"/>\r\n     <use x=\"159.033203\" xlink:href=\"#DejaVuSans-57\"/>\r\n     <use x=\"222.65625\" xlink:href=\"#DejaVuSans-53\"/>\r\n    </g>\r\n   </g>\r\n   <g id=\"text_19\">\r\n    <!-- 0.173 -->\r\n    <g transform=\"translate(739.692188 74.827918)scale(0.1 -0.1)\">\r\n     <use xlink:href=\"#DejaVuSans-48\"/>\r\n     <use x=\"63.623047\" xlink:href=\"#DejaVuSans-46\"/>\r\n     <use x=\"95.410156\" xlink:href=\"#DejaVuSans-49\"/>\r\n     <use x=\"159.033203\" xlink:href=\"#DejaVuSans-55\"/>\r\n     <use x=\"222.65625\" xlink:href=\"#DejaVuSans-51\"/>\r\n    </g>\r\n   </g>\r\n   <g id=\"text_20\">\r\n    <!-- 0.155 -->\r\n    <g transform=\"translate(146.817188 108.315138)scale(0.1 -0.1)\">\r\n     <use xlink:href=\"#DejaVuSans-48\"/>\r\n     <use x=\"63.623047\" xlink:href=\"#DejaVuSans-46\"/>\r\n     <use x=\"95.410156\" xlink:href=\"#DejaVuSans-49\"/>\r\n     <use x=\"159.033203\" xlink:href=\"#DejaVuSans-53\"/>\r\n     <use x=\"222.65625\" xlink:href=\"#DejaVuSans-53\"/>\r\n    </g>\r\n   </g>\r\n   <g id=\"text_21\">\r\n    <!-- 0.17 -->\r\n    <g transform=\"translate(359.248438 80.104833)scale(0.1 -0.1)\">\r\n     <use xlink:href=\"#DejaVuSans-48\"/>\r\n     <use x=\"63.623047\" xlink:href=\"#DejaVuSans-46\"/>\r\n     <use x=\"95.410156\" xlink:href=\"#DejaVuSans-49\"/>\r\n     <use x=\"159.033203\" xlink:href=\"#DejaVuSans-55\"/>\r\n    </g>\r\n   </g>\r\n   <g id=\"text_22\">\r\n    <!-- 0.184 -->\r\n    <g transform=\"translate(565.317188 53.730109)scale(0.1 -0.1)\">\r\n     <defs>\r\n      <path d=\"M 31.78125 34.625 \r\nQ 24.75 34.625 20.71875 30.859375 \r\nQ 16.703125 27.09375 16.703125 20.515625 \r\nQ 16.703125 13.921875 20.71875 10.15625 \r\nQ 24.75 6.390625 31.78125 6.390625 \r\nQ 38.8125 6.390625 42.859375 10.171875 \r\nQ 46.921875 13.96875 46.921875 20.515625 \r\nQ 46.921875 27.09375 42.890625 30.859375 \r\nQ 38.875 34.625 31.78125 34.625 \r\nz\r\nM 21.921875 38.8125 \r\nQ 15.578125 40.375 12.03125 44.71875 \r\nQ 8.5 49.078125 8.5 55.328125 \r\nQ 8.5 64.0625 14.71875 69.140625 \r\nQ 20.953125 74.21875 31.78125 74.21875 \r\nQ 42.671875 74.21875 48.875 69.140625 \r\nQ 55.078125 64.0625 55.078125 55.328125 \r\nQ 55.078125 49.078125 51.53125 44.71875 \r\nQ 48 40.375 41.703125 38.8125 \r\nQ 48.828125 37.15625 52.796875 32.3125 \r\nQ 56.78125 27.484375 56.78125 20.515625 \r\nQ 56.78125 9.90625 50.3125 4.234375 \r\nQ 43.84375 -1.421875 31.78125 -1.421875 \r\nQ 19.734375 -1.421875 13.25 4.234375 \r\nQ 6.78125 9.90625 6.78125 20.515625 \r\nQ 6.78125 27.484375 10.78125 32.3125 \r\nQ 14.796875 37.15625 21.921875 38.8125 \r\nz\r\nM 18.3125 54.390625 \r\nQ 18.3125 48.734375 21.84375 45.5625 \r\nQ 25.390625 42.390625 31.78125 42.390625 \r\nQ 38.140625 42.390625 41.71875 45.5625 \r\nQ 45.3125 48.734375 45.3125 54.390625 \r\nQ 45.3125 60.0625 41.71875 63.234375 \r\nQ 38.140625 66.40625 31.78125 66.40625 \r\nQ 25.390625 66.40625 21.84375 63.234375 \r\nQ 18.3125 60.0625 18.3125 54.390625 \r\nz\r\n\" id=\"DejaVuSans-56\"/>\r\n     </defs>\r\n     <use xlink:href=\"#DejaVuSans-48\"/>\r\n     <use x=\"63.623047\" xlink:href=\"#DejaVuSans-46\"/>\r\n     <use x=\"95.410156\" xlink:href=\"#DejaVuSans-49\"/>\r\n     <use x=\"159.033203\" xlink:href=\"#DejaVuSans-56\"/>\r\n     <use x=\"222.65625\" xlink:href=\"#DejaVuSans-52\"/>\r\n    </g>\r\n   </g>\r\n   <g id=\"text_23\">\r\n    <!-- 0.115 -->\r\n    <g transform=\"translate(774.567188 182.382657)scale(0.1 -0.1)\">\r\n     <use xlink:href=\"#DejaVuSans-48\"/>\r\n     <use x=\"63.623047\" xlink:href=\"#DejaVuSans-46\"/>\r\n     <use x=\"95.410156\" xlink:href=\"#DejaVuSans-49\"/>\r\n     <use x=\"159.033203\" xlink:href=\"#DejaVuSans-49\"/>\r\n     <use x=\"222.65625\" xlink:href=\"#DejaVuSans-53\"/>\r\n    </g>\r\n   </g>\r\n   <g id=\"text_24\">\r\n    <!-- 0.146 -->\r\n    <g transform=\"translate(181.692188 125.604559)scale(0.1 -0.1)\">\r\n     <use xlink:href=\"#DejaVuSans-48\"/>\r\n     <use x=\"63.623047\" xlink:href=\"#DejaVuSans-46\"/>\r\n     <use x=\"95.410156\" xlink:href=\"#DejaVuSans-49\"/>\r\n     <use x=\"159.033203\" xlink:href=\"#DejaVuSans-52\"/>\r\n     <use x=\"222.65625\" xlink:href=\"#DejaVuSans-54\"/>\r\n    </g>\r\n   </g>\r\n   <g id=\"text_25\">\r\n    <!-- 0.176 -->\r\n    <g transform=\"translate(390.942188 69.605373)scale(0.1 -0.1)\">\r\n     <use xlink:href=\"#DejaVuSans-48\"/>\r\n     <use x=\"63.623047\" xlink:href=\"#DejaVuSans-46\"/>\r\n     <use x=\"95.410156\" xlink:href=\"#DejaVuSans-49\"/>\r\n     <use x=\"159.033203\" xlink:href=\"#DejaVuSans-55\"/>\r\n     <use x=\"222.65625\" xlink:href=\"#DejaVuSans-54\"/>\r\n    </g>\r\n   </g>\r\n   <g id=\"text_26\">\r\n    <!-- 0.185 -->\r\n    <g transform=\"translate(600.192187 52.221405)scale(0.1 -0.1)\">\r\n     <use xlink:href=\"#DejaVuSans-48\"/>\r\n     <use x=\"63.623047\" xlink:href=\"#DejaVuSans-46\"/>\r\n     <use x=\"95.410156\" xlink:href=\"#DejaVuSans-49\"/>\r\n     <use x=\"159.033203\" xlink:href=\"#DejaVuSans-56\"/>\r\n     <use x=\"222.65625\" xlink:href=\"#DejaVuSans-53\"/>\r\n    </g>\r\n   </g>\r\n   <g id=\"text_27\">\r\n    <!-- 0.155 -->\r\n    <g transform=\"translate(809.442188 108.806076)scale(0.1 -0.1)\">\r\n     <use xlink:href=\"#DejaVuSans-48\"/>\r\n     <use x=\"63.623047\" xlink:href=\"#DejaVuSans-46\"/>\r\n     <use x=\"95.410156\" xlink:href=\"#DejaVuSans-49\"/>\r\n     <use x=\"159.033203\" xlink:href=\"#DejaVuSans-53\"/>\r\n     <use x=\"222.65625\" xlink:href=\"#DejaVuSans-53\"/>\r\n    </g>\r\n   </g>\r\n   <g id=\"text_28\">\r\n    <!-- Average speed of bicycle models for different intervals of time and travel distances -->\r\n    <g transform=\"translate(224.376875 16.318125)scale(0.12 -0.12)\">\r\n     <defs>\r\n      <path d=\"M 34.1875 63.1875 \r\nL 20.796875 26.90625 \r\nL 47.609375 26.90625 \r\nz\r\nM 28.609375 72.90625 \r\nL 39.796875 72.90625 \r\nL 67.578125 0 \r\nL 57.328125 0 \r\nL 50.6875 18.703125 \r\nL 17.828125 18.703125 \r\nL 11.1875 0 \r\nL 0.78125 0 \r\nz\r\n\" id=\"DejaVuSans-65\"/>\r\n      <path d=\"M 2.984375 54.6875 \r\nL 12.5 54.6875 \r\nL 29.59375 8.796875 \r\nL 46.6875 54.6875 \r\nL 56.203125 54.6875 \r\nL 35.6875 0 \r\nL 23.484375 0 \r\nz\r\n\" id=\"DejaVuSans-118\"/>\r\n      <path d=\"M 45.40625 27.984375 \r\nQ 45.40625 37.75 41.375 43.109375 \r\nQ 37.359375 48.484375 30.078125 48.484375 \r\nQ 22.859375 48.484375 18.828125 43.109375 \r\nQ 14.796875 37.75 14.796875 27.984375 \r\nQ 14.796875 18.265625 18.828125 12.890625 \r\nQ 22.859375 7.515625 30.078125 7.515625 \r\nQ 37.359375 7.515625 41.375 12.890625 \r\nQ 45.40625 18.265625 45.40625 27.984375 \r\nz\r\nM 54.390625 6.78125 \r\nQ 54.390625 -7.171875 48.1875 -13.984375 \r\nQ 42 -20.796875 29.203125 -20.796875 \r\nQ 24.46875 -20.796875 20.265625 -20.09375 \r\nQ 16.0625 -19.390625 12.109375 -17.921875 \r\nL 12.109375 -9.1875 \r\nQ 16.0625 -11.328125 19.921875 -12.34375 \r\nQ 23.78125 -13.375 27.78125 -13.375 \r\nQ 36.625 -13.375 41.015625 -8.765625 \r\nQ 45.40625 -4.15625 45.40625 5.171875 \r\nL 45.40625 9.625 \r\nQ 42.625 4.78125 38.28125 2.390625 \r\nQ 33.9375 0 27.875 0 \r\nQ 17.828125 0 11.671875 7.65625 \r\nQ 5.515625 15.328125 5.515625 27.984375 \r\nQ 5.515625 40.671875 11.671875 48.328125 \r\nQ 17.828125 56 27.875 56 \r\nQ 33.9375 56 38.28125 53.609375 \r\nQ 42.625 51.21875 45.40625 46.390625 \r\nL 45.40625 54.6875 \r\nL 54.390625 54.6875 \r\nz\r\n\" id=\"DejaVuSans-103\"/>\r\n      <path d=\"M 37.109375 75.984375 \r\nL 37.109375 68.5 \r\nL 28.515625 68.5 \r\nQ 23.6875 68.5 21.796875 66.546875 \r\nQ 19.921875 64.59375 19.921875 59.515625 \r\nL 19.921875 54.6875 \r\nL 34.71875 54.6875 \r\nL 34.71875 47.703125 \r\nL 19.921875 47.703125 \r\nL 19.921875 0 \r\nL 10.890625 0 \r\nL 10.890625 47.703125 \r\nL 2.296875 47.703125 \r\nL 2.296875 54.6875 \r\nL 10.890625 54.6875 \r\nL 10.890625 58.5 \r\nQ 10.890625 67.625 15.140625 71.796875 \r\nQ 19.390625 75.984375 28.609375 75.984375 \r\nz\r\n\" id=\"DejaVuSans-102\"/>\r\n      <path d=\"M 48.6875 27.296875 \r\nQ 48.6875 37.203125 44.609375 42.84375 \r\nQ 40.53125 48.484375 33.40625 48.484375 \r\nQ 26.265625 48.484375 22.1875 42.84375 \r\nQ 18.109375 37.203125 18.109375 27.296875 \r\nQ 18.109375 17.390625 22.1875 11.75 \r\nQ 26.265625 6.109375 33.40625 6.109375 \r\nQ 40.53125 6.109375 44.609375 11.75 \r\nQ 48.6875 17.390625 48.6875 27.296875 \r\nz\r\nM 18.109375 46.390625 \r\nQ 20.953125 51.265625 25.265625 53.625 \r\nQ 29.59375 56 35.59375 56 \r\nQ 45.5625 56 51.78125 48.09375 \r\nQ 58.015625 40.1875 58.015625 27.296875 \r\nQ 58.015625 14.40625 51.78125 6.484375 \r\nQ 45.5625 -1.421875 35.59375 -1.421875 \r\nQ 29.59375 -1.421875 25.265625 0.953125 \r\nQ 20.953125 3.328125 18.109375 8.203125 \r\nL 18.109375 0 \r\nL 9.078125 0 \r\nL 9.078125 75.984375 \r\nL 18.109375 75.984375 \r\nz\r\n\" id=\"DejaVuSans-98\"/>\r\n      <path d=\"M 32.171875 -5.078125 \r\nQ 28.375 -14.84375 24.75 -17.8125 \r\nQ 21.140625 -20.796875 15.09375 -20.796875 \r\nL 7.90625 -20.796875 \r\nL 7.90625 -13.28125 \r\nL 13.1875 -13.28125 \r\nQ 16.890625 -13.28125 18.9375 -11.515625 \r\nQ 21 -9.765625 23.484375 -3.21875 \r\nL 25.09375 0.875 \r\nL 2.984375 54.6875 \r\nL 12.5 54.6875 \r\nL 29.59375 11.921875 \r\nL 46.6875 54.6875 \r\nL 56.203125 54.6875 \r\nz\r\n\" id=\"DejaVuSans-121\"/>\r\n      <path d=\"M 9.421875 75.984375 \r\nL 18.40625 75.984375 \r\nL 18.40625 0 \r\nL 9.421875 0 \r\nz\r\n\" id=\"DejaVuSans-108\"/>\r\n     </defs>\r\n     <use xlink:href=\"#DejaVuSans-65\"/>\r\n     <use x=\"62.533203\" xlink:href=\"#DejaVuSans-118\"/>\r\n     <use x=\"121.712891\" xlink:href=\"#DejaVuSans-101\"/>\r\n     <use x=\"183.236328\" xlink:href=\"#DejaVuSans-114\"/>\r\n     <use x=\"224.349609\" xlink:href=\"#DejaVuSans-97\"/>\r\n     <use x=\"285.628906\" xlink:href=\"#DejaVuSans-103\"/>\r\n     <use x=\"349.105469\" xlink:href=\"#DejaVuSans-101\"/>\r\n     <use x=\"410.628906\" xlink:href=\"#DejaVuSans-32\"/>\r\n     <use x=\"442.416016\" xlink:href=\"#DejaVuSans-115\"/>\r\n     <use x=\"494.515625\" xlink:href=\"#DejaVuSans-112\"/>\r\n     <use x=\"557.992188\" xlink:href=\"#DejaVuSans-101\"/>\r\n     <use x=\"619.515625\" xlink:href=\"#DejaVuSans-101\"/>\r\n     <use x=\"681.039062\" xlink:href=\"#DejaVuSans-100\"/>\r\n     <use x=\"744.515625\" xlink:href=\"#DejaVuSans-32\"/>\r\n     <use x=\"776.302734\" xlink:href=\"#DejaVuSans-111\"/>\r\n     <use x=\"837.484375\" xlink:href=\"#DejaVuSans-102\"/>\r\n     <use x=\"872.689453\" xlink:href=\"#DejaVuSans-32\"/>\r\n     <use x=\"904.476562\" xlink:href=\"#DejaVuSans-98\"/>\r\n     <use x=\"967.953125\" xlink:href=\"#DejaVuSans-105\"/>\r\n     <use x=\"995.736328\" xlink:href=\"#DejaVuSans-99\"/>\r\n     <use x=\"1050.716797\" xlink:href=\"#DejaVuSans-121\"/>\r\n     <use x=\"1109.896484\" xlink:href=\"#DejaVuSans-99\"/>\r\n     <use x=\"1164.876953\" xlink:href=\"#DejaVuSans-108\"/>\r\n     <use x=\"1192.660156\" xlink:href=\"#DejaVuSans-101\"/>\r\n     <use x=\"1254.183594\" xlink:href=\"#DejaVuSans-32\"/>\r\n     <use x=\"1285.970703\" xlink:href=\"#DejaVuSans-109\"/>\r\n     <use x=\"1383.382812\" xlink:href=\"#DejaVuSans-111\"/>\r\n     <use x=\"1444.564453\" xlink:href=\"#DejaVuSans-100\"/>\r\n     <use x=\"1508.041016\" xlink:href=\"#DejaVuSans-101\"/>\r\n     <use x=\"1569.564453\" xlink:href=\"#DejaVuSans-108\"/>\r\n     <use x=\"1597.347656\" xlink:href=\"#DejaVuSans-115\"/>\r\n     <use x=\"1649.447266\" xlink:href=\"#DejaVuSans-32\"/>\r\n     <use x=\"1681.234375\" xlink:href=\"#DejaVuSans-102\"/>\r\n     <use x=\"1716.439453\" xlink:href=\"#DejaVuSans-111\"/>\r\n     <use x=\"1777.621094\" xlink:href=\"#DejaVuSans-114\"/>\r\n     <use x=\"1818.734375\" xlink:href=\"#DejaVuSans-32\"/>\r\n     <use x=\"1850.521484\" xlink:href=\"#DejaVuSans-100\"/>\r\n     <use x=\"1913.998047\" xlink:href=\"#DejaVuSans-105\"/>\r\n     <use x=\"1941.78125\" xlink:href=\"#DejaVuSans-102\"/>\r\n     <use x=\"1976.986328\" xlink:href=\"#DejaVuSans-102\"/>\r\n     <use x=\"2012.191406\" xlink:href=\"#DejaVuSans-101\"/>\r\n     <use x=\"2073.714844\" xlink:href=\"#DejaVuSans-114\"/>\r\n     <use x=\"2112.578125\" xlink:href=\"#DejaVuSans-101\"/>\r\n     <use x=\"2174.101562\" xlink:href=\"#DejaVuSans-110\"/>\r\n     <use x=\"2237.480469\" xlink:href=\"#DejaVuSans-116\"/>\r\n     <use x=\"2276.689453\" xlink:href=\"#DejaVuSans-32\"/>\r\n     <use x=\"2308.476562\" xlink:href=\"#DejaVuSans-105\"/>\r\n     <use x=\"2336.259766\" xlink:href=\"#DejaVuSans-110\"/>\r\n     <use x=\"2399.638672\" xlink:href=\"#DejaVuSans-116\"/>\r\n     <use x=\"2438.847656\" xlink:href=\"#DejaVuSans-101\"/>\r\n     <use x=\"2500.371094\" xlink:href=\"#DejaVuSans-114\"/>\r\n     <use x=\"2541.484375\" xlink:href=\"#DejaVuSans-118\"/>\r\n     <use x=\"2600.664062\" xlink:href=\"#DejaVuSans-97\"/>\r\n     <use x=\"2661.943359\" xlink:href=\"#DejaVuSans-108\"/>\r\n     <use x=\"2689.726562\" xlink:href=\"#DejaVuSans-115\"/>\r\n     <use x=\"2741.826172\" xlink:href=\"#DejaVuSans-32\"/>\r\n     <use x=\"2773.613281\" xlink:href=\"#DejaVuSans-111\"/>\r\n     <use x=\"2834.794922\" xlink:href=\"#DejaVuSans-102\"/>\r\n     <use x=\"2870\" xlink:href=\"#DejaVuSans-32\"/>\r\n     <use x=\"2901.787109\" xlink:href=\"#DejaVuSans-116\"/>\r\n     <use x=\"2940.996094\" xlink:href=\"#DejaVuSans-105\"/>\r\n     <use x=\"2968.779297\" xlink:href=\"#DejaVuSans-109\"/>\r\n     <use x=\"3066.191406\" xlink:href=\"#DejaVuSans-101\"/>\r\n     <use x=\"3127.714844\" xlink:href=\"#DejaVuSans-32\"/>\r\n     <use x=\"3159.501953\" xlink:href=\"#DejaVuSans-97\"/>\r\n     <use x=\"3220.78125\" xlink:href=\"#DejaVuSans-110\"/>\r\n     <use x=\"3284.160156\" xlink:href=\"#DejaVuSans-100\"/>\r\n     <use x=\"3347.636719\" xlink:href=\"#DejaVuSans-32\"/>\r\n     <use x=\"3379.423828\" xlink:href=\"#DejaVuSans-116\"/>\r\n     <use x=\"3418.632812\" xlink:href=\"#DejaVuSans-114\"/>\r\n     <use x=\"3459.746094\" xlink:href=\"#DejaVuSans-97\"/>\r\n     <use x=\"3521.025391\" xlink:href=\"#DejaVuSans-118\"/>\r\n     <use x=\"3580.205078\" xlink:href=\"#DejaVuSans-101\"/>\r\n     <use x=\"3641.728516\" xlink:href=\"#DejaVuSans-108\"/>\r\n     <use x=\"3669.511719\" xlink:href=\"#DejaVuSans-32\"/>\r\n     <use x=\"3701.298828\" xlink:href=\"#DejaVuSans-100\"/>\r\n     <use x=\"3764.775391\" xlink:href=\"#DejaVuSans-105\"/>\r\n     <use x=\"3792.558594\" xlink:href=\"#DejaVuSans-115\"/>\r\n     <use x=\"3844.658203\" xlink:href=\"#DejaVuSans-116\"/>\r\n     <use x=\"3883.867188\" xlink:href=\"#DejaVuSans-97\"/>\r\n     <use x=\"3945.146484\" xlink:href=\"#DejaVuSans-110\"/>\r\n     <use x=\"4008.525391\" xlink:href=\"#DejaVuSans-99\"/>\r\n     <use x=\"4063.505859\" xlink:href=\"#DejaVuSans-101\"/>\r\n     <use x=\"4125.029297\" xlink:href=\"#DejaVuSans-115\"/>\r\n    </g>\r\n   </g>\r\n   <g id=\"legend_1\">\r\n    <g id=\"patch_19\">\r\n     <path d=\"M 810.15 89.30875 \r\nL 886.50625 89.30875 \r\nQ 888.50625 89.30875 888.50625 87.30875 \r\nL 888.50625 29.318125 \r\nQ 888.50625 27.318125 886.50625 27.318125 \r\nL 810.15 27.318125 \r\nQ 808.15 27.318125 808.15 29.318125 \r\nL 808.15 87.30875 \r\nQ 808.15 89.30875 810.15 89.30875 \r\nz\r\n\" style=\"fill:#ffffff;opacity:0.8;stroke:#cccccc;stroke-linejoin:miter;\"/>\r\n    </g>\r\n    <g id=\"text_29\">\r\n     <!-- bike_type -->\r\n     <g transform=\"translate(824.303906 38.916562)scale(0.1 -0.1)\">\r\n      <defs>\r\n       <path d=\"M 50.984375 -16.609375 \r\nL 50.984375 -23.578125 \r\nL -0.984375 -23.578125 \r\nL -0.984375 -16.609375 \r\nz\r\n\" id=\"DejaVuSans-95\"/>\r\n      </defs>\r\n      <use xlink:href=\"#DejaVuSans-98\"/>\r\n      <use x=\"63.476562\" xlink:href=\"#DejaVuSans-105\"/>\r\n      <use x=\"91.259766\" xlink:href=\"#DejaVuSans-107\"/>\r\n      <use x=\"145.544922\" xlink:href=\"#DejaVuSans-101\"/>\r\n      <use x=\"207.068359\" xlink:href=\"#DejaVuSans-95\"/>\r\n      <use x=\"257.068359\" xlink:href=\"#DejaVuSans-116\"/>\r\n      <use x=\"296.277344\" xlink:href=\"#DejaVuSans-121\"/>\r\n      <use x=\"355.457031\" xlink:href=\"#DejaVuSans-112\"/>\r\n      <use x=\"418.933594\" xlink:href=\"#DejaVuSans-101\"/>\r\n     </g>\r\n    </g>\r\n    <g id=\"patch_20\">\r\n     <path d=\"M 812.15 53.872813 \r\nL 832.15 53.872813 \r\nL 832.15 46.872813 \r\nL 812.15 46.872813 \r\nz\r\n\" style=\"fill:#393b79;\"/>\r\n    </g>\r\n    <g id=\"text_30\">\r\n     <!-- electric -->\r\n     <g transform=\"translate(840.15 53.872813)scale(0.1 -0.1)\">\r\n      <use xlink:href=\"#DejaVuSans-101\"/>\r\n      <use x=\"61.523438\" xlink:href=\"#DejaVuSans-108\"/>\r\n      <use x=\"89.306641\" xlink:href=\"#DejaVuSans-101\"/>\r\n      <use x=\"150.830078\" xlink:href=\"#DejaVuSans-99\"/>\r\n      <use x=\"205.810547\" xlink:href=\"#DejaVuSans-116\"/>\r\n      <use x=\"245.019531\" xlink:href=\"#DejaVuSans-114\"/>\r\n      <use x=\"286.132812\" xlink:href=\"#DejaVuSans-105\"/>\r\n      <use x=\"313.916016\" xlink:href=\"#DejaVuSans-99\"/>\r\n     </g>\r\n    </g>\r\n    <g id=\"patch_21\">\r\n     <path d=\"M 812.15 68.550938 \r\nL 832.15 68.550938 \r\nL 832.15 61.550938 \r\nL 812.15 61.550938 \r\nz\r\n\" style=\"fill:#e7ba52;\"/>\r\n    </g>\r\n    <g id=\"text_31\">\r\n     <!-- smart -->\r\n     <g transform=\"translate(840.15 68.550938)scale(0.1 -0.1)\">\r\n      <use xlink:href=\"#DejaVuSans-115\"/>\r\n      <use x=\"52.099609\" xlink:href=\"#DejaVuSans-109\"/>\r\n      <use x=\"149.511719\" xlink:href=\"#DejaVuSans-97\"/>\r\n      <use x=\"210.791016\" xlink:href=\"#DejaVuSans-114\"/>\r\n      <use x=\"251.904297\" xlink:href=\"#DejaVuSans-116\"/>\r\n     </g>\r\n    </g>\r\n    <g id=\"patch_22\">\r\n     <path d=\"M 812.15 83.229062 \r\nL 832.15 83.229062 \r\nL 832.15 76.229062 \r\nL 812.15 76.229062 \r\nz\r\n\" style=\"fill:#de9ed6;\"/>\r\n    </g>\r\n    <g id=\"text_32\">\r\n     <!-- standard -->\r\n     <g transform=\"translate(840.15 83.229062)scale(0.1 -0.1)\">\r\n      <use xlink:href=\"#DejaVuSans-115\"/>\r\n      <use x=\"52.099609\" xlink:href=\"#DejaVuSans-116\"/>\r\n      <use x=\"91.308594\" xlink:href=\"#DejaVuSans-97\"/>\r\n      <use x=\"152.587891\" xlink:href=\"#DejaVuSans-110\"/>\r\n      <use x=\"215.966797\" xlink:href=\"#DejaVuSans-100\"/>\r\n      <use x=\"279.443359\" xlink:href=\"#DejaVuSans-97\"/>\r\n      <use x=\"340.722656\" xlink:href=\"#DejaVuSans-114\"/>\r\n      <use x=\"380.085938\" xlink:href=\"#DejaVuSans-100\"/>\r\n     </g>\r\n    </g>\r\n   </g>\r\n  </g>\r\n </g>\r\n <defs>\r\n  <clipPath id=\"p5f183fad82\">\r\n   <rect height=\"380.52\" width=\"837\" x=\"56.50625\" y=\"22.318125\"/>\r\n  </clipPath>\r\n </defs>\r\n</svg>\r\n",
      "image/png": "[encoded data removed]"
     },
     "metadata": {
      "needs_background": "light"
     }
    }
   ],
   "source": [
    "title = 'Average speed of bicycle models for different intervals of time and travel distances'\n",
    "xlabel = 'Duration(min) / Distance(km)'\n",
    "\n",
    "ax = avg_speed.T.plot(kind='bar', figsize=(15, 7), xlabel=xlabel, ylabel='Speed in ' + unit, colormap='tab20b', rot=0, title=title)\n",
    "for p in ax.patches:                 \n",
    "    ax.annotate(round(p.get_height(),3), (p.get_x()+p.get_width()/2., p.get_height()), ha='center', va='center', xytext=(0, 10), textcoords='offset points')\n",
    "ax.grid(linestyle=':', axis='y')"
   ]
  },
  {
   "cell_type": "markdown",
   "metadata": {},
   "source": [
    "it is noticeable that electric bicycles have a certain \"advantage\" over ordinary ones as the distance and duration of the rides increases"
   ]
  },
  {
   "cell_type": "markdown",
   "metadata": {},
   "source": [
    "#### Normalize the frequency of rides for each unique pair of (start|end) station"
   ]
  },
  {
   "cell_type": "code",
   "execution_count": 19,
   "metadata": {
    "tags": []
   },
   "outputs": [],
   "source": [
    "# Ignore rides that end at same station and calculate total ocurrences by each ride\n",
    "group = ['start_station', 'end_station', 'distance']\n",
    "stations = df.loc[df.start_station != df.end_station].groupby(group).size().reset_index(name='occurs')\n",
    "\n",
    "# Normalize weights by each group (i.e. each start_station)\n",
    "stations['norm_rides'] = stations['occurs'] / stations.groupby('start_station')['occurs'].transform('sum')\n",
    "stations = stations.drop_duplicates(['start_station', 'end_station'])"
   ]
  },
  {
   "cell_type": "markdown",
   "metadata": {},
   "source": [
    "#### Create frequency and distance matrices"
   ]
  },
  {
   "cell_type": "code",
   "execution_count": 20,
   "metadata": {},
   "outputs": [
    {
     "output_type": "execute_result",
     "data": {
      "text/plain": [
       "end_station        3005      3006      3007      3008      3010      3011  \\\n",
       "start_station                                                               \n",
       "3005           0.000000  0.048855  0.012598  0.019051  0.004916  0.010908   \n",
       "3006           0.112666  0.000000  0.021170  0.024758  0.002512  0.003229   \n",
       "3007           0.079093  0.041692  0.000000  0.005518  0.000000  0.009197   \n",
       "3008           0.086839  0.034520  0.005933  0.000000  0.001618  0.019957   \n",
       "3010           0.087542  0.070707  0.003367  0.050505  0.000000  0.000000   \n",
       "3011           0.058628  0.035398  0.002212  0.048673  0.002212  0.000000   \n",
       "3014           0.017170  0.009615  0.002404  0.001374  0.003777  0.002747   \n",
       "3016           0.031211  0.004994  0.004994  0.002497  0.003745  0.001248   \n",
       "3018           0.117417  0.060665  0.020548  0.029354  0.009785  0.004892   \n",
       "3019           0.052866  0.049682  0.008917  0.019108  0.007006  0.005732   \n",
       "\n",
       "end_station        3014      3016      3018      3019  ...  4568  4569  4570  \\\n",
       "start_station                                          ...                     \n",
       "3005           0.006606  0.000154  0.017821  0.014902  ...   0.0   0.0   0.0   \n",
       "3006           0.011482  0.001076  0.019017  0.020811  ...   0.0   0.0   0.0   \n",
       "3007           0.007971  0.001226  0.025138  0.012876  ...   0.0   0.0   0.0   \n",
       "3008           0.004315  0.000000  0.008630  0.008091  ...   0.0   0.0   0.0   \n",
       "3010           0.023569  0.003367  0.016835  0.016835  ...   0.0   0.0   0.0   \n",
       "3011           0.006637  0.000000  0.013274  0.018805  ...   0.0   0.0   0.0   \n",
       "3014           0.000000  0.093750  0.000687  0.013049  ...   0.0   0.0   0.0   \n",
       "3016           0.365793  0.000000  0.003745  0.007491  ...   0.0   0.0   0.0   \n",
       "3018           0.000000  0.001957  0.000000  0.027397  ...   0.0   0.0   0.0   \n",
       "3019           0.018471  0.005096  0.011465  0.000000  ...   0.0   0.0   0.0   \n",
       "\n",
       "end_station    4571  4572  4573  4577  4580  4582  4583  \n",
       "start_station                                            \n",
       "3005            0.0   0.0   0.0   0.0   0.0   0.0   0.0  \n",
       "3006            0.0   0.0   0.0   0.0   0.0   0.0   0.0  \n",
       "3007            0.0   0.0   0.0   0.0   0.0   0.0   0.0  \n",
       "3008            0.0   0.0   0.0   0.0   0.0   0.0   0.0  \n",
       "3010            0.0   0.0   0.0   0.0   0.0   0.0   0.0  \n",
       "3011            0.0   0.0   0.0   0.0   0.0   0.0   0.0  \n",
       "3014            0.0   0.0   0.0   0.0   0.0   0.0   0.0  \n",
       "3016            0.0   0.0   0.0   0.0   0.0   0.0   0.0  \n",
       "3018            0.0   0.0   0.0   0.0   0.0   0.0   0.0  \n",
       "3019            0.0   0.0   0.0   0.0   0.0   0.0   0.0  \n",
       "\n",
       "[10 rows x 263 columns]"
      ],
      "text/html": "<div>\n<style scoped>\n    .dataframe tbody tr th:only-of-type {\n        vertical-align: middle;\n    }\n\n    .dataframe tbody tr th {\n        vertical-align: top;\n    }\n\n    .dataframe thead th {\n        text-align: right;\n    }\n</style>\n<table border=\"1\" class=\"dataframe\">\n  <thead>\n    <tr style=\"text-align: right;\">\n      <th>end_station</th>\n      <th>3005</th>\n      <th>3006</th>\n      <th>3007</th>\n      <th>3008</th>\n      <th>3010</th>\n      <th>3011</th>\n      <th>3014</th>\n      <th>3016</th>\n      <th>3018</th>\n      <th>3019</th>\n      <th>...</th>\n      <th>4568</th>\n      <th>4569</th>\n      <th>4570</th>\n      <th>4571</th>\n      <th>4572</th>\n      <th>4573</th>\n      <th>4577</th>\n      <th>4580</th>\n      <th>4582</th>\n      <th>4583</th>\n    </tr>\n    <tr>\n      <th>start_station</th>\n      <th></th>\n      <th></th>\n      <th></th>\n      <th></th>\n      <th></th>\n      <th></th>\n      <th></th>\n      <th></th>\n      <th></th>\n      <th></th>\n      <th></th>\n      <th></th>\n      <th></th>\n      <th></th>\n      <th></th>\n      <th></th>\n      <th></th>\n      <th></th>\n      <th></th>\n      <th></th>\n      <th></th>\n    </tr>\n  </thead>\n  <tbody>\n    <tr>\n      <th>3005</th>\n      <td>0.000000</td>\n      <td>0.048855</td>\n      <td>0.012598</td>\n      <td>0.019051</td>\n      <td>0.004916</td>\n      <td>0.010908</td>\n      <td>0.006606</td>\n      <td>0.000154</td>\n      <td>0.017821</td>\n      <td>0.014902</td>\n      <td>...</td>\n      <td>0.0</td>\n      <td>0.0</td>\n      <td>0.0</td>\n      <td>0.0</td>\n      <td>0.0</td>\n      <td>0.0</td>\n      <td>0.0</td>\n      <td>0.0</td>\n      <td>0.0</td>\n      <td>0.0</td>\n    </tr>\n    <tr>\n      <th>3006</th>\n      <td>0.112666</td>\n      <td>0.000000</td>\n      <td>0.021170</td>\n      <td>0.024758</td>\n      <td>0.002512</td>\n      <td>0.003229</td>\n      <td>0.011482</td>\n      <td>0.001076</td>\n      <td>0.019017</td>\n      <td>0.020811</td>\n      <td>...</td>\n      <td>0.0</td>\n      <td>0.0</td>\n      <td>0.0</td>\n      <td>0.0</td>\n      <td>0.0</td>\n      <td>0.0</td>\n      <td>0.0</td>\n      <td>0.0</td>\n      <td>0.0</td>\n      <td>0.0</td>\n    </tr>\n    <tr>\n      <th>3007</th>\n      <td>0.079093</td>\n      <td>0.041692</td>\n      <td>0.000000</td>\n      <td>0.005518</td>\n      <td>0.000000</td>\n      <td>0.009197</td>\n      <td>0.007971</td>\n      <td>0.001226</td>\n      <td>0.025138</td>\n      <td>0.012876</td>\n      <td>...</td>\n      <td>0.0</td>\n      <td>0.0</td>\n      <td>0.0</td>\n      <td>0.0</td>\n      <td>0.0</td>\n      <td>0.0</td>\n      <td>0.0</td>\n      <td>0.0</td>\n      <td>0.0</td>\n      <td>0.0</td>\n    </tr>\n    <tr>\n      <th>3008</th>\n      <td>0.086839</td>\n      <td>0.034520</td>\n      <td>0.005933</td>\n      <td>0.000000</td>\n      <td>0.001618</td>\n      <td>0.019957</td>\n      <td>0.004315</td>\n      <td>0.000000</td>\n      <td>0.008630</td>\n      <td>0.008091</td>\n      <td>...</td>\n      <td>0.0</td>\n      <td>0.0</td>\n      <td>0.0</td>\n      <td>0.0</td>\n      <td>0.0</td>\n      <td>0.0</td>\n      <td>0.0</td>\n      <td>0.0</td>\n      <td>0.0</td>\n      <td>0.0</td>\n    </tr>\n    <tr>\n      <th>3010</th>\n      <td>0.087542</td>\n      <td>0.070707</td>\n      <td>0.003367</td>\n      <td>0.050505</td>\n      <td>0.000000</td>\n      <td>0.000000</td>\n      <td>0.023569</td>\n      <td>0.003367</td>\n      <td>0.016835</td>\n      <td>0.016835</td>\n      <td>...</td>\n      <td>0.0</td>\n      <td>0.0</td>\n      <td>0.0</td>\n      <td>0.0</td>\n      <td>0.0</td>\n      <td>0.0</td>\n      <td>0.0</td>\n      <td>0.0</td>\n      <td>0.0</td>\n      <td>0.0</td>\n    </tr>\n    <tr>\n      <th>3011</th>\n      <td>0.058628</td>\n      <td>0.035398</td>\n      <td>0.002212</td>\n      <td>0.048673</td>\n      <td>0.002212</td>\n      <td>0.000000</td>\n      <td>0.006637</td>\n      <td>0.000000</td>\n      <td>0.013274</td>\n      <td>0.018805</td>\n      <td>...</td>\n      <td>0.0</td>\n      <td>0.0</td>\n      <td>0.0</td>\n      <td>0.0</td>\n      <td>0.0</td>\n      <td>0.0</td>\n      <td>0.0</td>\n      <td>0.0</td>\n      <td>0.0</td>\n      <td>0.0</td>\n    </tr>\n    <tr>\n      <th>3014</th>\n      <td>0.017170</td>\n      <td>0.009615</td>\n      <td>0.002404</td>\n      <td>0.001374</td>\n      <td>0.003777</td>\n      <td>0.002747</td>\n      <td>0.000000</td>\n      <td>0.093750</td>\n      <td>0.000687</td>\n      <td>0.013049</td>\n      <td>...</td>\n      <td>0.0</td>\n      <td>0.0</td>\n      <td>0.0</td>\n      <td>0.0</td>\n      <td>0.0</td>\n      <td>0.0</td>\n      <td>0.0</td>\n      <td>0.0</td>\n      <td>0.0</td>\n      <td>0.0</td>\n    </tr>\n    <tr>\n      <th>3016</th>\n      <td>0.031211</td>\n      <td>0.004994</td>\n      <td>0.004994</td>\n      <td>0.002497</td>\n      <td>0.003745</td>\n      <td>0.001248</td>\n      <td>0.365793</td>\n      <td>0.000000</td>\n      <td>0.003745</td>\n      <td>0.007491</td>\n      <td>...</td>\n      <td>0.0</td>\n      <td>0.0</td>\n      <td>0.0</td>\n      <td>0.0</td>\n      <td>0.0</td>\n      <td>0.0</td>\n      <td>0.0</td>\n      <td>0.0</td>\n      <td>0.0</td>\n      <td>0.0</td>\n    </tr>\n    <tr>\n      <th>3018</th>\n      <td>0.117417</td>\n      <td>0.060665</td>\n      <td>0.020548</td>\n      <td>0.029354</td>\n      <td>0.009785</td>\n      <td>0.004892</td>\n      <td>0.000000</td>\n      <td>0.001957</td>\n      <td>0.000000</td>\n      <td>0.027397</td>\n      <td>...</td>\n      <td>0.0</td>\n      <td>0.0</td>\n      <td>0.0</td>\n      <td>0.0</td>\n      <td>0.0</td>\n      <td>0.0</td>\n      <td>0.0</td>\n      <td>0.0</td>\n      <td>0.0</td>\n      <td>0.0</td>\n    </tr>\n    <tr>\n      <th>3019</th>\n      <td>0.052866</td>\n      <td>0.049682</td>\n      <td>0.008917</td>\n      <td>0.019108</td>\n      <td>0.007006</td>\n      <td>0.005732</td>\n      <td>0.018471</td>\n      <td>0.005096</td>\n      <td>0.011465</td>\n      <td>0.000000</td>\n      <td>...</td>\n      <td>0.0</td>\n      <td>0.0</td>\n      <td>0.0</td>\n      <td>0.0</td>\n      <td>0.0</td>\n      <td>0.0</td>\n      <td>0.0</td>\n      <td>0.0</td>\n      <td>0.0</td>\n      <td>0.0</td>\n    </tr>\n  </tbody>\n</table>\n<p>10 rows × 263 columns</p>\n</div>"
     },
     "metadata": {},
     "execution_count": 20
    }
   ],
   "source": [
    "# Pivot to create rides frequency matrix\n",
    "freq_matrix = stations.pivot(index='start_station', columns='end_station', values='norm_rides').fillna(0)\n",
    "freq_matrix.head(10)"
   ]
  },
  {
   "cell_type": "code",
   "execution_count": 21,
   "metadata": {},
   "outputs": [
    {
     "output_type": "execute_result",
     "data": {
      "text/plain": [
       "end_station        3005      3006      3007      3008      3010      3011  \\\n",
       "start_station                                                               \n",
       "3005           0.000000  0.370922  0.425258  0.440409  1.314694  1.195366   \n",
       "3006           0.370922  0.000000  0.580489  0.572496  0.956511  1.153563   \n",
       "3007           0.425258  0.580489  0.000000  0.865427  0.000000  1.613698   \n",
       "3008           0.440409  0.572496  0.865427  0.000000  1.285645  0.777609   \n",
       "3010           1.314694  0.956511  1.490136  1.285645  0.000000  0.000000   \n",
       "\n",
       "end_station        3014      3016      3018      3019  ...  4568  4569  4570  \\\n",
       "start_station                                          ...                     \n",
       "3005           2.164585  1.641468  0.549178  1.117860  ...   0.0   0.0   0.0   \n",
       "3006           2.175862  1.616011  0.378074  0.860632  ...   0.0   0.0   0.0   \n",
       "3007           1.742760  1.232670  0.906916  1.438201  ...   0.0   0.0   0.0   \n",
       "3008           2.604177  0.000000  0.399279  0.904462  ...   0.0   0.0   0.0   \n",
       "3010           2.714000  2.144889  0.886902  0.579519  ...   0.0   0.0   0.0   \n",
       "\n",
       "end_station    4571  4572  4573  4577  4580  4582  4583  \n",
       "start_station                                            \n",
       "3005            0.0   0.0   0.0   0.0   0.0   0.0   0.0  \n",
       "3006            0.0   0.0   0.0   0.0   0.0   0.0   0.0  \n",
       "3007            0.0   0.0   0.0   0.0   0.0   0.0   0.0  \n",
       "3008            0.0   0.0   0.0   0.0   0.0   0.0   0.0  \n",
       "3010            0.0   0.0   0.0   0.0   0.0   0.0   0.0  \n",
       "\n",
       "[5 rows x 263 columns]"
      ],
      "text/html": "<div>\n<style scoped>\n    .dataframe tbody tr th:only-of-type {\n        vertical-align: middle;\n    }\n\n    .dataframe tbody tr th {\n        vertical-align: top;\n    }\n\n    .dataframe thead th {\n        text-align: right;\n    }\n</style>\n<table border=\"1\" class=\"dataframe\">\n  <thead>\n    <tr style=\"text-align: right;\">\n      <th>end_station</th>\n      <th>3005</th>\n      <th>3006</th>\n      <th>3007</th>\n      <th>3008</th>\n      <th>3010</th>\n      <th>3011</th>\n      <th>3014</th>\n      <th>3016</th>\n      <th>3018</th>\n      <th>3019</th>\n      <th>...</th>\n      <th>4568</th>\n      <th>4569</th>\n      <th>4570</th>\n      <th>4571</th>\n      <th>4572</th>\n      <th>4573</th>\n      <th>4577</th>\n      <th>4580</th>\n      <th>4582</th>\n      <th>4583</th>\n    </tr>\n    <tr>\n      <th>start_station</th>\n      <th></th>\n      <th></th>\n      <th></th>\n      <th></th>\n      <th></th>\n      <th></th>\n      <th></th>\n      <th></th>\n      <th></th>\n      <th></th>\n      <th></th>\n      <th></th>\n      <th></th>\n      <th></th>\n      <th></th>\n      <th></th>\n      <th></th>\n      <th></th>\n      <th></th>\n      <th></th>\n      <th></th>\n    </tr>\n  </thead>\n  <tbody>\n    <tr>\n      <th>3005</th>\n      <td>0.000000</td>\n      <td>0.370922</td>\n      <td>0.425258</td>\n      <td>0.440409</td>\n      <td>1.314694</td>\n      <td>1.195366</td>\n      <td>2.164585</td>\n      <td>1.641468</td>\n      <td>0.549178</td>\n      <td>1.117860</td>\n      <td>...</td>\n      <td>0.0</td>\n      <td>0.0</td>\n      <td>0.0</td>\n      <td>0.0</td>\n      <td>0.0</td>\n      <td>0.0</td>\n      <td>0.0</td>\n      <td>0.0</td>\n      <td>0.0</td>\n      <td>0.0</td>\n    </tr>\n    <tr>\n      <th>3006</th>\n      <td>0.370922</td>\n      <td>0.000000</td>\n      <td>0.580489</td>\n      <td>0.572496</td>\n      <td>0.956511</td>\n      <td>1.153563</td>\n      <td>2.175862</td>\n      <td>1.616011</td>\n      <td>0.378074</td>\n      <td>0.860632</td>\n      <td>...</td>\n      <td>0.0</td>\n      <td>0.0</td>\n      <td>0.0</td>\n      <td>0.0</td>\n      <td>0.0</td>\n      <td>0.0</td>\n      <td>0.0</td>\n      <td>0.0</td>\n      <td>0.0</td>\n      <td>0.0</td>\n    </tr>\n    <tr>\n      <th>3007</th>\n      <td>0.425258</td>\n      <td>0.580489</td>\n      <td>0.000000</td>\n      <td>0.865427</td>\n      <td>0.000000</td>\n      <td>1.613698</td>\n      <td>1.742760</td>\n      <td>1.232670</td>\n      <td>0.906916</td>\n      <td>1.438201</td>\n      <td>...</td>\n      <td>0.0</td>\n      <td>0.0</td>\n      <td>0.0</td>\n      <td>0.0</td>\n      <td>0.0</td>\n      <td>0.0</td>\n      <td>0.0</td>\n      <td>0.0</td>\n      <td>0.0</td>\n      <td>0.0</td>\n    </tr>\n    <tr>\n      <th>3008</th>\n      <td>0.440409</td>\n      <td>0.572496</td>\n      <td>0.865427</td>\n      <td>0.000000</td>\n      <td>1.285645</td>\n      <td>0.777609</td>\n      <td>2.604177</td>\n      <td>0.000000</td>\n      <td>0.399279</td>\n      <td>0.904462</td>\n      <td>...</td>\n      <td>0.0</td>\n      <td>0.0</td>\n      <td>0.0</td>\n      <td>0.0</td>\n      <td>0.0</td>\n      <td>0.0</td>\n      <td>0.0</td>\n      <td>0.0</td>\n      <td>0.0</td>\n      <td>0.0</td>\n    </tr>\n    <tr>\n      <th>3010</th>\n      <td>1.314694</td>\n      <td>0.956511</td>\n      <td>1.490136</td>\n      <td>1.285645</td>\n      <td>0.000000</td>\n      <td>0.000000</td>\n      <td>2.714000</td>\n      <td>2.144889</td>\n      <td>0.886902</td>\n      <td>0.579519</td>\n      <td>...</td>\n      <td>0.0</td>\n      <td>0.0</td>\n      <td>0.0</td>\n      <td>0.0</td>\n      <td>0.0</td>\n      <td>0.0</td>\n      <td>0.0</td>\n      <td>0.0</td>\n      <td>0.0</td>\n      <td>0.0</td>\n    </tr>\n  </tbody>\n</table>\n<p>5 rows × 263 columns</p>\n</div>"
     },
     "metadata": {},
     "execution_count": 21
    }
   ],
   "source": [
    "# Stations distance matrix\n",
    "distance_matrix = stations.pivot(index='start_station', columns='end_station', values='distance').fillna(0)\n",
    "distance_matrix.head()"
   ]
  },
  {
   "cell_type": "markdown",
   "metadata": {},
   "source": [
    "***\n",
    "#### Simulation\n",
    "* 575 rides/day\n",
    "\n",
    "Create Stations"
   ]
  },
  {
   "source": [
    "import simpy\n",
    "import random\n",
    "\n",
    "STATIONS = freq_matrix.index\n",
    "BIKE_TYPE = df['bike_type'].unique()\n",
    "\n",
    "NUMBER_OF_RIDES = 575\n",
    "NUMBER_OF_BIKES = 3983\n",
    "NUMBER_OF_STATIONS = 263\n",
    "NUMBER_OF_BIKES_PER_STATION = NUMBER_OF_BIKES // NUMBER_OF_STATIONS\n",
    "INTERVALS = intervals\n",
    "\n",
    "class Station(object):\n",
    "    def __init__(self, env, station_id):\n",
    "        self.env = env\n",
    "        self.id = station_id\n",
    "        self.capacity = NUMBER_OF_BIKES_PER_STATION * 2\n",
    "        self.resources = simpy.Resource(env, capacity=self.capacity)\n",
    "        \n",
    "def get_station(stations):\n",
    "    station_id = random.choice(STATIONS)\n",
    "    # select the first object from the list that has same id\n",
    "    station = next((x for x in stations if x.id == station_id))\n",
    "    return station\n",
    "\n",
    "def get_duration(start_station, end_station, bike_type):\n",
    "    distance = distance_matrix[start_station.id][end_station.id]\n",
    "    \n",
    "    for index, item in enumerate(intervals):\n",
    "        print(y[1])\n",
    "        if index == 0:\n",
    "            if 0 < distance <= item[1]:\n",
    "                # Distance is between 0 and interval[0](15km)\n",
    "                pass\n",
    "        else:\n",
    "            if intervals[index-1][1] < distance <= item[1]:\n",
    "                # Distance is between interval[-1] and interval (15-30km)\n",
    "                pass\n",
    "            \n",
    "        # OBS: acessing avg_speed['bike_type'][interval] isn't working for some reason\n",
    "        # I managed to 'fix' it by acessing avg_speed.T[interval]['bike_type']\n",
    "        # (using df.T -> transpose matrix)\n",
    "        \n",
    "    # After getting the bike speed by bike_type~interval, it's just necessary to return\n",
    "    # distance / speed \n",
    "\n",
    "def ride(env, start_station, end_station, bike_type):\n",
    "    duration = get_duration(start_station, end_station, bike_type)\n",
    "    \n",
    "def cyclist_arrivals(env, stations):\n",
    "    while True:\n",
    "        yield env.timeout(random.expovariate(1 / 0.5))\n",
    "        distance = 0\n",
    "        while distance == 0:\n",
    "            start_station = get_station(stations)\n",
    "            end_station = get_station(stations)\n",
    "            distance = distance_matrix[start_station.id][end_station.id]\n",
    "        bike_type = random.choice(BIKE_TYPE)\n",
    "        \n",
    "        # Pick a bike of choosen model from start_station and 'send' to end_station\n",
    "        ride(env, start_station, end_station, bike_type)\n",
    "        \n",
    "def setup(env):\n",
    "    stations = []\n",
    "    for station_id in STATIONS:\n",
    "        stations.append(Station(env, station_id))\n",
    "    while True:\n",
    "        yield env.timeout(random.randint(3 - 2, 3 + 2))\n",
    "        env.process(cyclist_arrivals(env, stations))\n",
    "    \n",
    "    \n",
    "env = simpy.Environment()\n",
    "env.process(setup(env))\n",
    "env.run(until=10)"
   ],
   "cell_type": "code",
   "metadata": {},
   "execution_count": 22,
   "outputs": [
    {
     "output_type": "stream",
     "name": "stdout",
     "text": [
      "12\n12\n12\n12\n12\n12\n12\n12\n12\n12\n12\n12\n12\n12\n12\n12\n12\n12\n12\n12\n12\n12\n12\n12\n12\n12\n12\n12\n12\n12\n12\n12\n12\n12\n12\n12\n12\n12\n12\n12\n"
     ]
    }
   ]
  },
  {
   "cell_type": "code",
   "execution_count": 23,
   "metadata": {},
   "outputs": [],
   "source": [
    "def random_weighted(station_destinations):\n",
    "    PRECISION = 10**6\n",
    "    integer_station_destinations = round(station_destinations * PRECISION)\n",
    "    pool_size = integer_station_destinations.sum()\n",
    "\n",
    "    random_number = random.randrange(0, pool_size)\n",
    "\n",
    "    accumulated_probability = 0\n",
    "    for index, destination in enumerate(integer_station_destinations):\n",
    "        accumulated_probability += destination\n",
    "        if (random_number < accumulated_probability):\n",
    "            return index"
   ]
  },
  {
   "cell_type": "code",
   "execution_count": 41,
   "metadata": {
    "tags": []
   },
   "outputs": [
    {
     "output_type": "stream",
     "name": "stdout",
     "text": [
      "New Ciclist arrives! 3007 -> 3005\nBike requested at station 3007 - 8 / 18\nNew Ciclist arrives! 3008 -> 3005\nBike requested at station 3008 - 8 / 18\nBike arrived at station 3005 - 10 / 18\nNew Ciclist arrives! 3005 -> 3006\nBike requested at station 3005 - 9 / 18\nBike arrived at station 3005 - 10 / 18\nBike arrived at station 3006 - 10 / 18\nNew Ciclist arrives! 3007 -> 3005\nBike requested at station 3007 - 7 / 18\nNew Ciclist arrives! 3006 -> 3005\nBike requested at station 3006 - 9 / 18\nBike arrived at station 3005 - 11 / 18\nNew Ciclist arrives! 3007 -> 3005\nBike requested at station 3007 - 6 / 18\nBike arrived at station 3005 - 12 / 18\nNew Ciclist arrives! 3006 -> 3005\nBike requested at station 3006 - 8 / 18\nBike arrived at station 3005 - 13 / 18\nBike arrived at station 3005 - 14 / 18\nNew Ciclist arrives! 3006 -> 3005\nBike requested at station 3006 - 7 / 18\nNew Ciclist arrives! 3006 -> 3005\nBike requested at station 3006 - 6 / 18\nBike arrived at station 3005 - 15 / 18\nBike arrived at station 3005 - 16 / 18\nNew Ciclist arrives! 3006 -> 3008\nBike requested at station 3006 - 5 / 18\nNew Ciclist arrives! 3006 -> 3005\nBike requested at station 3006 - 4 / 18\nBike arrived at station 3008 - 9 / 18\nNew Ciclist arrives! 3008 -> 3005\nBike requested at station 3008 - 8 / 18\nBike arrived at station 3005 - 17 / 18\nNew Ciclist arrives! 3007 -> 3005\nBike requested at station 3007 - 5 / 18\nBike arrived at station 3005 - 18 / 18\nBike arrived at station 3005 - 19 / 18\nNew Ciclist arrives! 3005 -> 3007\nBike requested at station 3005 - 17 / 18\nNew Ciclist arrives! 3005 -> 3006\nBike requested at station 3005 - 17 / 18\nBike arrived at station 3007 - 6 / 18\nNew Ciclist arrives! 3007 -> 3005\nBike requested at station 3007 - 5 / 18\nBike arrived at station 3006 - 5 / 18\nNew Ciclist arrives! 3008 -> 3006\nBike requested at station 3008 - 7 / 18\nNew Ciclist arrives! 3007 -> 3005\nBike requested at station 3007 - 4 / 18\nBike arrived at station 3005 - 18 / 18\nBike arrived at station 3006 - 6 / 18\nBike arrived at station 3005 - 19 / 18\nNew Ciclist arrives! 3007 -> 3005\nBike requested at station 3007 - 3 / 18\nNew Ciclist arrives! 3006 -> 3005\nBike requested at station 3006 - 5 / 18\nBike arrived at station 3005 - 19 / 18\nBike arrived at station 3005 - 19 / 18\nNew Ciclist arrives! 3005 -> 3006\nBike requested at station 3005 - 17 / 18\nBike arrived at station 3006 - 6 / 18\nNew Ciclist arrives! 3005 -> 3007\nBike requested at station 3005 - 17 / 18\nNew Ciclist arrives! 3007 -> 3005\nBike requested at station 3007 - 2 / 18\nBike arrived at station 3007 - 3 / 18\nNew Ciclist arrives! 3005 -> 3006\nBike requested at station 3005 - 17 / 18\nBike arrived at station 3005 - 19 / 18\nBike arrived at station 3006 - 7 / 18\nNew Ciclist arrives! 3007 -> 3005\nBike requested at station 3007 - 2 / 18\nNew Ciclist arrives! 3005 -> 3008\nBike requested at station 3005 - 17 / 18\nBike arrived at station 3005 - 18 / 18\nBike arrived at station 3008 - 8 / 18\nNew Ciclist arrives! 3008 -> 3007\nBike requested at station 3008 - 7 / 18\nNew Ciclist arrives! 3006 -> 3005\nBike requested at station 3006 - 6 / 18\nNew Ciclist arrives! 3005 -> 3007\nBike requested at station 3005 - 17 / 18\nBike arrived at station 3005 - 18 / 18\nBike arrived at station 3007 - 3 / 18\nNew Ciclist arrives! 3008 -> 3005\nBike requested at station 3008 - 6 / 18\nBike arrived at station 3007 - 4 / 18\nNew Ciclist arrives! 3007 -> 3005\nBike requested at station 3007 - 3 / 18\nBike arrived at station 3005 - 19 / 18\nNew Ciclist arrives! 3007 -> 3005\nBike requested at station 3007 - 2 / 18\nBike arrived at station 3005 - 19 / 18\nNew Ciclist arrives! 3005 -> 3006\nBike requested at station 3005 - 17 / 18\nBike arrived at station 3005 - 18 / 18\nNew Ciclist arrives! 3005 -> 3006\nBike requested at station 3005 - 17 / 18\nBike arrived at station 3006 - 7 / 18\nNew Ciclist arrives! 3006 -> 3008\nBike requested at station 3006 - 6 / 18\nBike arrived at station 3006 - 7 / 18\nNew Ciclist arrives! 3007 -> 3006\nBike requested at station 3007 - 1 / 18\nBike arrived at station 3008 - 7 / 18\nNew Ciclist arrives! 3005 -> 3006\nBike requested at station 3005 - 17 / 18\nBike arrived at station 3006 - 8 / 18\nBike arrived at station 3006 - 9 / 18\nNew Ciclist arrives! 3007 -> 3005\nBike requested at station 3007 - 0 / 18\nNew Ciclist arrives! 3005 -> 3006\nBike requested at station 3005 - 17 / 18\nBike arrived at station 3005 - 18 / 18\nNew Ciclist arrives! 3005 -> 3006\nBike requested at station 3005 - 17 / 18\nBike arrived at station 3006 - 10 / 18\nBike arrived at station 3006 - 11 / 18\nNew Ciclist arrives! 3007 -> 3005\nNo more bikes at station 3007. Waiting 1...\nNo more bikes at station 3007. Waiting 2...\nNo more bikes at station 3007. Waiting 3...\nNo more bikes at station 3007. Waiting 4...\nNew Ciclist arrives! 3008 -> 3005\nBike requested at station 3008 - 6 / 18\nBike arrived at station 3005 - 19 / 18\nNo more bikes at station 3007. Waiting 5...\nNo more bikes at station 3007. Waiting 6...\nNo more bikes at station 3007. Waiting 7...\nNo more bikes at station 3007. Waiting 8...\nNew Ciclist arrives! 3007 -> 3006\nNo more bikes at station 3007. Waiting 1...\nBike arrived at station 3005 - 19 / 18\nNo more bikes at station 3007. Waiting 9...\nNo more bikes at station 3007. Waiting 2...\nNo more bikes at station 3007. Waiting 10...\nNo more bikes at station 3007. Waiting 3...\n#-#-#  I'm out of here! Trash company!  #-#-#\nNo more bikes at station 3007. Waiting 4...\nNew Ciclist arrives! 3005 -> 3007\nBike requested at station 3005 - 17 / 18\nNo more bikes at station 3007. Waiting 5...\nBike arrived at station 3006 - 12 / 18\nNo more bikes at station 3007. Waiting 6...\nNo more bikes at station 3007. Waiting 7...\nNo more bikes at station 3007. Waiting 8...\nNew Ciclist arrives! 3005 -> 3006\nBike requested at station 3005 - 17 / 18\nBike arrived at station 3007 - 1 / 18\nBike requested at station 3007 - 0 / 18\n\n\n\nTotal wait time: 18\n"
     ]
    }
   ],
   "source": [
    "import simpy\n",
    "import random\n",
    "\n",
    "STATIONS = freq_matrix.index[0:4]\n",
    "destinations_matrix = freq_matrix.loc[STATIONS, STATIONS]\n",
    "BIKE_TYPE = df['bike_type'].unique()\n",
    "\n",
    "NUMBER_OF_RIDES = 24\n",
    "NUMBER_OF_BIKES = 36\n",
    "NUMBER_OF_STATIONS = len(STATIONS)\n",
    "NUMBER_OF_BIKES_PER_STATION = NUMBER_OF_BIKES // NUMBER_OF_STATIONS\n",
    "\n",
    "\n",
    "class BikeDock:\n",
    "    def __init__(self, env, init, capacity):\n",
    "        self.env = env\n",
    "        self._container = simpy.Container(self.env, init=init, capacity=capacity)\n",
    "\n",
    "    @property\n",
    "    def capacity(self):\n",
    "        return self._container.capacity\n",
    "\n",
    "    @property\n",
    "    def available_bikes(self):\n",
    "        return self._container.level\n",
    "\n",
    "    @property\n",
    "    def has_available(self):\n",
    "        return self._container.level > 0\n",
    "\n",
    "    @property\n",
    "    def is_full(self):\n",
    "        return self._container.level >= self._container.capacity\n",
    "\n",
    "    def rent_bike(self):\n",
    "        return self._container.get(1)\n",
    "\n",
    "    def return_bike(self):\n",
    "        return self._container.put(1)\n",
    "\n",
    "\n",
    "class Ride:\n",
    "    def __init__(self, env, start_station, end_station):\n",
    "        self.start_station = start_station\n",
    "        self.end_station = end_station\n",
    "        self.env = env\n",
    "\n",
    "    @property\n",
    "    def distance(self):\n",
    "        return distance_matrix[self.start_station.id][self.end_station.id]\n",
    "\n",
    "    @property\n",
    "    def duration(self):\n",
    "        standard_bike_velocity_mean = 0.12\n",
    "        return round(self.distance / standard_bike_velocity_mean)\n",
    "\n",
    "    def start(self):\n",
    "        env.process(self.start_station.get_bike())\n",
    "        yield env.timeout(self.duration)\n",
    "        env.process(self.end_station.put_bike())\n",
    "\n",
    "\n",
    "class Station(object):\n",
    "    def __init__(self, env, station_id):\n",
    "        self.env = env\n",
    "        self.id = station_id\n",
    "        self.dock = BikeDock(env, init=NUMBER_OF_BIKES_PER_STATION, capacity=NUMBER_OF_BIKES_PER_STATION * 2)\n",
    "        self.overflow_count = 0\n",
    "        self.client_wait_time = 0\n",
    "\n",
    "    def get_bike(self):\n",
    "        wait_time = 0\n",
    "        while (wait_time < 10):\n",
    "            if (self.dock.has_available):\n",
    "                print(f'Bike requested at station {self.id} - {self.dock.available_bikes - 1} / {self.dock.capacity}')\n",
    "                return self.dock.rent_bike()\n",
    "            else: \n",
    "                wait_time += 1\n",
    "                self.client_wait_time += 1\n",
    "                print(f'No more bikes at station {self.id}. Waiting {wait_time}...')\n",
    "                yield env.timeout(1)\n",
    "        print('#-#-#  I\\'m out of here! Trash company!  #-#-#')\n",
    "        \n",
    "\n",
    "    def put_bike(self):\n",
    "        if (self.dock.is_full):\n",
    "            self.overflow_count += 1\n",
    "\n",
    "        print(f'Bike arrived at station {self.id} - {self.dock.available_bikes + 1} / {self.dock.capacity}')\n",
    "        yield self.dock.return_bike()\n",
    "\n",
    "def cyclist_arrivals(env, stations):\n",
    "    random_station_index = random.randint(0, len(stations) - 1)\n",
    "    start_station = stations[random_station_index]\n",
    "\n",
    "    random_destination_index = random_weighted(destinations_matrix.loc[start_station.id])\n",
    "    final_station = stations[random_destination_index]\n",
    "    print(f'New Ciclist arrives! {start_station.id} -> {final_station.id}')\n",
    "\n",
    "    ride = Ride(env, start_station, final_station)\n",
    "    yield env.process(ride.start())\n",
    "\n",
    "stations = []\n",
    "def setup(env):\n",
    "    for station_id in STATIONS:\n",
    "        stations.append(Station(env, station_id))\n",
    "    while True:\n",
    "        yield env.timeout(random.randint(1, 5))\n",
    "        env.process(cyclist_arrivals(env, stations))\n",
    "\n",
    "env = simpy.Environment()\n",
    "env.process(setup(env))\n",
    "env.run(until=150)\n",
    "\n",
    "print('\\n\\n')\n",
    "total_wait_time = 0\n",
    "for station in stations:\n",
    "    total_wait_time += station.client_wait_time\n",
    "print(f'Total wait time: {total_wait_time}')"
   ]
  }
 ],
 "metadata": {
  "kernelspec": {
   "name": "python3",
   "display_name": "Python 3.8.0 32-bit",
   "metadata": {
    "interpreter": {
     "hash": "031a90354c9442deed1ab356849c1861fcb2b3b5c5a0e1d174736fd16a1bde37"
    }
   }
  },
  "language_info": {
   "codemirror_mode": {
    "name": "ipython",
    "version": 3
   },
   "file_extension": ".py",
   "mimetype": "text/x-python",
   "name": "python",
   "nbconvert_exporter": "python",
   "pygments_lexer": "ipython3",
   "version": "3.8.0-final"
  }
 },
 "nbformat": 4,
 "nbformat_minor": 2
}