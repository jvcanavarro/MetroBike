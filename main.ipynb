{
 "metadata": {
  "language_info": {
   "codemirror_mode": {
    "name": "ipython",
    "version": 3
   },
   "file_extension": ".py",
   "mimetype": "text/x-python",
   "name": "python",
   "nbconvert_exporter": "python",
   "pygments_lexer": "ipython3",
   "version": "3.8.5-final"
  },
  "orig_nbformat": 2,
  "kernelspec": {
   "name": "python3",
   "display_name": "Python 3",
   "language": "python"
  }
 },
 "nbformat": 4,
 "nbformat_minor": 2,
 "cells": [
  {
   "cell_type": "code",
   "execution_count": 1,
   "metadata": {},
   "outputs": [],
   "source": [
    "import pandas as pd\n",
    "import geopy.distance as gd"
   ]
  },
  {
   "cell_type": "code",
   "execution_count": 2,
   "metadata": {},
   "outputs": [
    {
     "output_type": "execute_result",
     "data": {
      "text/plain": [
       "     trip_id  duration     start_time       end_time  start_station  \\\n",
       "0  134867493        25  1/1/2020 0:16  1/1/2020 0:41           3063   \n",
       "1  134867799        35  1/1/2020 0:24  1/1/2020 0:59           4285   \n",
       "2  134868104        37  1/1/2020 0:31  1/1/2020 1:08           4344   \n",
       "3  134868103        36  1/1/2020 0:32  1/1/2020 1:08           4344   \n",
       "4  134868102        35  1/1/2020 0:33  1/1/2020 1:08           4344   \n",
       "\n",
       "   start_lat   start_lon  end_station    end_lat     end_lon bike_id  \\\n",
       "0  34.048038 -118.253738         4491  34.047440 -118.247940   18419   \n",
       "1        NaN         NaN         4354  34.017681 -118.409081   15661   \n",
       "2  34.014309 -118.491341         4322  34.005871 -118.429161   15848   \n",
       "3  34.014309 -118.491341         4322  34.005871 -118.429161   16053   \n",
       "4  34.014309 -118.491341         4322  34.005871 -118.429161   15694   \n",
       "\n",
       "   plan_duration trip_route_category passholder_type bike_type  \n",
       "0             30             One Way    Monthly Pass  electric  \n",
       "1              1             One Way    One Day Pass     smart  \n",
       "2              1             One Way         Walk-up     smart  \n",
       "3              1             One Way         Walk-up     smart  \n",
       "4              1             One Way         Walk-up     smart  "
      ],
      "text/html": "<div>\n<style scoped>\n    .dataframe tbody tr th:only-of-type {\n        vertical-align: middle;\n    }\n\n    .dataframe tbody tr th {\n        vertical-align: top;\n    }\n\n    .dataframe thead th {\n        text-align: right;\n    }\n</style>\n<table border=\"1\" class=\"dataframe\">\n  <thead>\n    <tr style=\"text-align: right;\">\n      <th></th>\n      <th>trip_id</th>\n      <th>duration</th>\n      <th>start_time</th>\n      <th>end_time</th>\n      <th>start_station</th>\n      <th>start_lat</th>\n      <th>start_lon</th>\n      <th>end_station</th>\n      <th>end_lat</th>\n      <th>end_lon</th>\n      <th>bike_id</th>\n      <th>plan_duration</th>\n      <th>trip_route_category</th>\n      <th>passholder_type</th>\n      <th>bike_type</th>\n    </tr>\n  </thead>\n  <tbody>\n    <tr>\n      <th>0</th>\n      <td>134867493</td>\n      <td>25</td>\n      <td>1/1/2020 0:16</td>\n      <td>1/1/2020 0:41</td>\n      <td>3063</td>\n      <td>34.048038</td>\n      <td>-118.253738</td>\n      <td>4491</td>\n      <td>34.047440</td>\n      <td>-118.247940</td>\n      <td>18419</td>\n      <td>30</td>\n      <td>One Way</td>\n      <td>Monthly Pass</td>\n      <td>electric</td>\n    </tr>\n    <tr>\n      <th>1</th>\n      <td>134867799</td>\n      <td>35</td>\n      <td>1/1/2020 0:24</td>\n      <td>1/1/2020 0:59</td>\n      <td>4285</td>\n      <td>NaN</td>\n      <td>NaN</td>\n      <td>4354</td>\n      <td>34.017681</td>\n      <td>-118.409081</td>\n      <td>15661</td>\n      <td>1</td>\n      <td>One Way</td>\n      <td>One Day Pass</td>\n      <td>smart</td>\n    </tr>\n    <tr>\n      <th>2</th>\n      <td>134868104</td>\n      <td>37</td>\n      <td>1/1/2020 0:31</td>\n      <td>1/1/2020 1:08</td>\n      <td>4344</td>\n      <td>34.014309</td>\n      <td>-118.491341</td>\n      <td>4322</td>\n      <td>34.005871</td>\n      <td>-118.429161</td>\n      <td>15848</td>\n      <td>1</td>\n      <td>One Way</td>\n      <td>Walk-up</td>\n      <td>smart</td>\n    </tr>\n    <tr>\n      <th>3</th>\n      <td>134868103</td>\n      <td>36</td>\n      <td>1/1/2020 0:32</td>\n      <td>1/1/2020 1:08</td>\n      <td>4344</td>\n      <td>34.014309</td>\n      <td>-118.491341</td>\n      <td>4322</td>\n      <td>34.005871</td>\n      <td>-118.429161</td>\n      <td>16053</td>\n      <td>1</td>\n      <td>One Way</td>\n      <td>Walk-up</td>\n      <td>smart</td>\n    </tr>\n    <tr>\n      <th>4</th>\n      <td>134868102</td>\n      <td>35</td>\n      <td>1/1/2020 0:33</td>\n      <td>1/1/2020 1:08</td>\n      <td>4344</td>\n      <td>34.014309</td>\n      <td>-118.491341</td>\n      <td>4322</td>\n      <td>34.005871</td>\n      <td>-118.429161</td>\n      <td>15694</td>\n      <td>1</td>\n      <td>One Way</td>\n      <td>Walk-up</td>\n      <td>smart</td>\n    </tr>\n  </tbody>\n</table>\n</div>"
     },
     "metadata": {},
     "execution_count": 2
    }
   ],
   "source": [
    "df = pd.read_csv('metrobike-2020.csv')\n",
    "df.head()"
   ]
  },
  {
   "cell_type": "code",
   "execution_count": 3,
   "metadata": {},
   "outputs": [
    {
     "output_type": "execute_result",
     "data": {
      "text/plain": [
       "209974"
      ]
     },
     "metadata": {},
     "execution_count": 3
    }
   ],
   "source": [
    "# Number of rides in 2020\n",
    "df.shape[0]"
   ]
  },
  {
   "cell_type": "code",
   "execution_count": 4,
   "metadata": {},
   "outputs": [
    {
     "output_type": "execute_result",
     "data": {
      "text/plain": [
       "Index(['trip_id', 'duration', 'start_time', 'end_time', 'start_station',\n",
       "       'start_lat', 'start_lon', 'end_station', 'end_lat', 'end_lon',\n",
       "       'bike_id', 'plan_duration', 'trip_route_category', 'passholder_type',\n",
       "       'bike_type'],\n",
       "      dtype='object')"
      ]
     },
     "metadata": {},
     "execution_count": 4
    }
   ],
   "source": [
    "df.columns"
   ]
  },
  {
   "cell_type": "code",
   "execution_count": 5,
   "metadata": {},
   "outputs": [
    {
     "output_type": "execute_result",
     "data": {
      "text/plain": [
       "   duration     start_time       end_time  start_station  start_lat  \\\n",
       "0        25  1/1/2020 0:16  1/1/2020 0:41           3063  34.048038   \n",
       "1        35  1/1/2020 0:24  1/1/2020 0:59           4285        NaN   \n",
       "2        37  1/1/2020 0:31  1/1/2020 1:08           4344  34.014309   \n",
       "3        36  1/1/2020 0:32  1/1/2020 1:08           4344  34.014309   \n",
       "4        35  1/1/2020 0:33  1/1/2020 1:08           4344  34.014309   \n",
       "\n",
       "    start_lon  end_station    end_lat     end_lon bike_id bike_type  \n",
       "0 -118.253738         4491  34.047440 -118.247940   18419  electric  \n",
       "1         NaN         4354  34.017681 -118.409081   15661     smart  \n",
       "2 -118.491341         4322  34.005871 -118.429161   15848     smart  \n",
       "3 -118.491341         4322  34.005871 -118.429161   16053     smart  \n",
       "4 -118.491341         4322  34.005871 -118.429161   15694     smart  "
      ],
      "text/html": "<div>\n<style scoped>\n    .dataframe tbody tr th:only-of-type {\n        vertical-align: middle;\n    }\n\n    .dataframe tbody tr th {\n        vertical-align: top;\n    }\n\n    .dataframe thead th {\n        text-align: right;\n    }\n</style>\n<table border=\"1\" class=\"dataframe\">\n  <thead>\n    <tr style=\"text-align: right;\">\n      <th></th>\n      <th>duration</th>\n      <th>start_time</th>\n      <th>end_time</th>\n      <th>start_station</th>\n      <th>start_lat</th>\n      <th>start_lon</th>\n      <th>end_station</th>\n      <th>end_lat</th>\n      <th>end_lon</th>\n      <th>bike_id</th>\n      <th>bike_type</th>\n    </tr>\n  </thead>\n  <tbody>\n    <tr>\n      <th>0</th>\n      <td>25</td>\n      <td>1/1/2020 0:16</td>\n      <td>1/1/2020 0:41</td>\n      <td>3063</td>\n      <td>34.048038</td>\n      <td>-118.253738</td>\n      <td>4491</td>\n      <td>34.047440</td>\n      <td>-118.247940</td>\n      <td>18419</td>\n      <td>electric</td>\n    </tr>\n    <tr>\n      <th>1</th>\n      <td>35</td>\n      <td>1/1/2020 0:24</td>\n      <td>1/1/2020 0:59</td>\n      <td>4285</td>\n      <td>NaN</td>\n      <td>NaN</td>\n      <td>4354</td>\n      <td>34.017681</td>\n      <td>-118.409081</td>\n      <td>15661</td>\n      <td>smart</td>\n    </tr>\n    <tr>\n      <th>2</th>\n      <td>37</td>\n      <td>1/1/2020 0:31</td>\n      <td>1/1/2020 1:08</td>\n      <td>4344</td>\n      <td>34.014309</td>\n      <td>-118.491341</td>\n      <td>4322</td>\n      <td>34.005871</td>\n      <td>-118.429161</td>\n      <td>15848</td>\n      <td>smart</td>\n    </tr>\n    <tr>\n      <th>3</th>\n      <td>36</td>\n      <td>1/1/2020 0:32</td>\n      <td>1/1/2020 1:08</td>\n      <td>4344</td>\n      <td>34.014309</td>\n      <td>-118.491341</td>\n      <td>4322</td>\n      <td>34.005871</td>\n      <td>-118.429161</td>\n      <td>16053</td>\n      <td>smart</td>\n    </tr>\n    <tr>\n      <th>4</th>\n      <td>35</td>\n      <td>1/1/2020 0:33</td>\n      <td>1/1/2020 1:08</td>\n      <td>4344</td>\n      <td>34.014309</td>\n      <td>-118.491341</td>\n      <td>4322</td>\n      <td>34.005871</td>\n      <td>-118.429161</td>\n      <td>15694</td>\n      <td>smart</td>\n    </tr>\n  </tbody>\n</table>\n</div>"
     },
     "metadata": {},
     "execution_count": 5
    }
   ],
   "source": [
    "# Clean unecessary columns\n",
    "columns = ['duration', 'start_time', 'end_time', 'start_station', 'start_lat', 'start_lon', 'end_station', 'end_lat', 'end_lon', 'bike_id', 'bike_type']\n",
    "df = df[columns]\n",
    "df.head()"
   ]
  },
  {
   "cell_type": "code",
   "execution_count": 6,
   "metadata": {},
   "outputs": [
    {
     "output_type": "execute_result",
     "data": {
      "text/plain": [
       "array([4285, 4286, 3000])"
      ]
     },
     "metadata": {},
     "execution_count": 6
    }
   ],
   "source": [
    "# According to station info dataset:\n",
    "# 4285,Metro Bike Share Free Bikes,2/27/2019,Free Bikes,Active\n",
    "# 4286,Metro Bike Share Out of Service Area Smart Bike,2/27/2019,Free Bikes,Active\n",
    "# 3000,Virtual Station,7/7/2016,N/A,Active\n",
    "# I suppose those are virtual and free bike stations (?)\n",
    "\n",
    "df_null = df[df.isnull().any(axis=1)]\n",
    "nan_stations = df_null.start_station[df_null['start_lat'].isnull()].unique()\n",
    "nan_stations"
   ]
  },
  {
   "cell_type": "code",
   "execution_count": 7,
   "metadata": {},
   "outputs": [],
   "source": [
    "# Remove stations without geolocation\n",
    "df = df.dropna()"
   ]
  },
  {
   "cell_type": "code",
   "execution_count": 8,
   "metadata": {},
   "outputs": [
    {
     "output_type": "stream",
     "name": "stdout",
     "text": [
      "3983\n"
     ]
    },
    {
     "output_type": "execute_result",
     "data": {
      "text/plain": [
       "263"
      ]
     },
     "metadata": {},
     "execution_count": 8
    }
   ],
   "source": [
    "# Total bikes within all stations and Nº of stations\n",
    "print(len(df['bike_id'].unique()))\n",
    "df['start_station'].unique().shape[0]"
   ]
  },
  {
   "cell_type": "code",
   "execution_count": 9,
   "metadata": {},
   "outputs": [
    {
     "output_type": "execute_result",
     "data": {
      "text/plain": [
       "standard    0.511699\n",
       "electric    0.394669\n",
       "smart       0.093633\n",
       "Name: bike_type, dtype: float64"
      ]
     },
     "metadata": {},
     "execution_count": 9
    }
   ],
   "source": [
    "# Percentage of rides with each model of bike\n",
    "df['bike_type'].value_counts(normalize=True)"
   ]
  },
  {
   "cell_type": "code",
   "execution_count": 10,
   "metadata": {},
   "outputs": [
    {
     "output_type": "execute_result",
     "data": {
      "text/plain": [
       "31.95790634851989"
      ]
     },
     "metadata": {},
     "execution_count": 10
    }
   ],
   "source": [
    "# Mean duration of a bike ride\n",
    "df['duration'].mean()"
   ]
  },
  {
   "cell_type": "code",
   "execution_count": 11,
   "metadata": {},
   "outputs": [
    {
     "output_type": "execute_result",
     "data": {
      "text/plain": [
       "3005    0.049584\n",
       "3035    0.031012\n",
       "3030    0.026005\n",
       "3006    0.020219\n",
       "3014    0.019950\n",
       "          ...   \n",
       "4557    0.000094\n",
       "4573    0.000069\n",
       "4577    0.000069\n",
       "4569    0.000063\n",
       "4559    0.000044\n",
       "Name: start_station, Length: 263, dtype: float64"
      ]
     },
     "metadata": {},
     "execution_count": 11
    }
   ],
   "source": [
    "# Percentage of rides starting at all stations\n",
    "df['start_station'].value_counts(normalize=True)"
   ]
  },
  {
   "cell_type": "code",
   "execution_count": 12,
   "metadata": {},
   "outputs": [
    {
     "output_type": "execute_result",
     "data": {
      "text/plain": [
       "3005    0.051351\n",
       "3035    0.031269\n",
       "3014    0.024243\n",
       "3030    0.020157\n",
       "3006    0.020107\n",
       "          ...   \n",
       "4577    0.000088\n",
       "4573    0.000075\n",
       "4557    0.000069\n",
       "4569    0.000069\n",
       "4559    0.000063\n",
       "Name: end_station, Length: 263, dtype: float64"
      ]
     },
     "metadata": {},
     "execution_count": 12
    }
   ],
   "source": [
    "# Percentage of rides ending at all stations\n",
    "df['end_station'].value_counts(normalize=True)"
   ]
  },
  {
   "cell_type": "code",
   "execution_count": 13,
   "metadata": {},
   "outputs": [],
   "source": [
    "# Calculate distance using lat-long\n",
    "def get_distance(coords):\n",
    "    return gd.geodesic((coords[0], coords[1]), (coords[2], coords[3])).km"
   ]
  },
  {
   "cell_type": "code",
   "execution_count": 14,
   "metadata": {
    "tags": []
   },
   "outputs": [],
   "source": [
    "# Create new distance column\n",
    "columns = ['start_lat', 'start_lon', 'end_lat', 'end_lon']\n",
    "df['distance'] = df.apply(lambda x: get_distance(x[columns]), axis=1)"
   ]
  },
  {
   "cell_type": "code",
   "execution_count": 73,
   "metadata": {},
   "outputs": [
    {
     "output_type": "execute_result",
     "data": {
      "text/plain": [
       "            duration       distance\n",
       "count  159549.000000  159549.000000\n",
       "mean       31.957906       2.855966\n",
       "std        96.622064     125.211155\n",
       "min         1.000000       0.000000\n",
       "25%         7.000000       0.401246\n",
       "50%        14.000000       0.915194\n",
       "75%        26.000000       1.711136\n",
       "max      1440.000000    9812.232301"
      ],
      "text/html": "<div>\n<style scoped>\n    .dataframe tbody tr th:only-of-type {\n        vertical-align: middle;\n    }\n\n    .dataframe tbody tr th {\n        vertical-align: top;\n    }\n\n    .dataframe thead th {\n        text-align: right;\n    }\n</style>\n<table border=\"1\" class=\"dataframe\">\n  <thead>\n    <tr style=\"text-align: right;\">\n      <th></th>\n      <th>duration</th>\n      <th>distance</th>\n    </tr>\n  </thead>\n  <tbody>\n    <tr>\n      <th>count</th>\n      <td>159549.000000</td>\n      <td>159549.000000</td>\n    </tr>\n    <tr>\n      <th>mean</th>\n      <td>31.957906</td>\n      <td>2.855966</td>\n    </tr>\n    <tr>\n      <th>std</th>\n      <td>96.622064</td>\n      <td>125.211155</td>\n    </tr>\n    <tr>\n      <th>min</th>\n      <td>1.000000</td>\n      <td>0.000000</td>\n    </tr>\n    <tr>\n      <th>25%</th>\n      <td>7.000000</td>\n      <td>0.401246</td>\n    </tr>\n    <tr>\n      <th>50%</th>\n      <td>14.000000</td>\n      <td>0.915194</td>\n    </tr>\n    <tr>\n      <th>75%</th>\n      <td>26.000000</td>\n      <td>1.711136</td>\n    </tr>\n    <tr>\n      <th>max</th>\n      <td>1440.000000</td>\n      <td>9812.232301</td>\n    </tr>\n  </tbody>\n</table>\n</div>"
     },
     "metadata": {},
     "execution_count": 73
    }
   ],
   "source": [
    "# The duration and distance values of rides are very discrepant, specially because some rides start and end at same station. Eventually there are cases where people stay with the bike an entire day and then return then to a station, which doesn't reflect the real time they spending at the ride.\n",
    "# In this sense, we decided to ignore those cases when calculating the mean speed of each bycicle model.\n",
    "time_space = df.iloc[:, [0, 10, 11]]\n",
    "time_space.describe()"
   ]
  },
  {
   "cell_type": "code",
   "execution_count": 141,
   "metadata": {},
   "outputs": [],
   "source": [
    "# Filtering discrepant cases, now standard deviation and mean are more precise\n",
    "time_space_filtered = time_space.loc[(df['duration'] >= 5) & (df['duration'] <= 10) & (df['distance'] > 0) & (df['distance'] < 25)]\n",
    "# a = time_space_filtered.groupby('duration').count()\n",
    "# a.sort_values(by='distance')"
   ]
  },
  {
   "cell_type": "code",
   "execution_count": 101,
   "metadata": {},
   "outputs": [],
   "source": [
    "def get_speed(space, time, unit):\n",
    "\n",
    "    if unit == 'km/min': return space / time\n",
    "    if unit == 'km/h': return space / (time / 60)\n",
    "    if unit == 'm/s': return (space * 1000) / (time * 60)"
   ]
  },
  {
   "cell_type": "code",
   "execution_count": 142,
   "metadata": {},
   "outputs": [
    {
     "output_type": "execute_result",
     "data": {
      "text/plain": [
       "           duration  distance  speed m/s\n",
       "bike_type                               \n",
       "electric   7.396594  1.160703   2.648501\n",
       "smart      7.443369  1.212357   2.739964\n",
       "standard   7.178053  1.027067   2.404306"
      ],
      "text/html": "<div>\n<style scoped>\n    .dataframe tbody tr th:only-of-type {\n        vertical-align: middle;\n    }\n\n    .dataframe tbody tr th {\n        vertical-align: top;\n    }\n\n    .dataframe thead th {\n        text-align: right;\n    }\n</style>\n<table border=\"1\" class=\"dataframe\">\n  <thead>\n    <tr style=\"text-align: right;\">\n      <th></th>\n      <th>duration</th>\n      <th>distance</th>\n      <th>speed m/s</th>\n    </tr>\n    <tr>\n      <th>bike_type</th>\n      <th></th>\n      <th></th>\n      <th></th>\n    </tr>\n  </thead>\n  <tbody>\n    <tr>\n      <th>electric</th>\n      <td>7.396594</td>\n      <td>1.160703</td>\n      <td>2.648501</td>\n    </tr>\n    <tr>\n      <th>smart</th>\n      <td>7.443369</td>\n      <td>1.212357</td>\n      <td>2.739964</td>\n    </tr>\n    <tr>\n      <th>standard</th>\n      <td>7.178053</td>\n      <td>1.027067</td>\n      <td>2.404306</td>\n    </tr>\n  </tbody>\n</table>\n</div>"
     },
     "metadata": {},
     "execution_count": 142
    }
   ],
   "source": [
    "# Calculate the average speed of each bike model: V = ΔS/ΔT\n",
    "unit = 'm/s'\n",
    "\n",
    "time_space_filtered['speed '+ unit] = time_space_filtered.apply(lambda x: get_speed(x['distance'], x['duration'], unit=unit), axis=1)\n",
    "time_space_filtered.groupby('bike_type').mean()"
   ]
  },
  {
   "cell_type": "code",
   "execution_count": 18,
   "metadata": {},
   "outputs": [],
   "source": [
    "# Create frequency matrix of start-end stations"
   ]
  }
 ]
}