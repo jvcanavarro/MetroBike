{
 "metadata": {
  "language_info": {
   "codemirror_mode": {
    "name": "ipython",
    "version": 3
   },
   "file_extension": ".py",
   "mimetype": "text/x-python",
   "name": "python",
   "nbconvert_exporter": "python",
   "pygments_lexer": "ipython3",
   "version": "3.8.5-final"
  },
  "orig_nbformat": 2,
  "kernelspec": {
   "name": "python3",
   "display_name": "Python 3",
   "language": "python"
  }
 },
 "nbformat": 4,
 "nbformat_minor": 2,
 "cells": [
  {
   "cell_type": "code",
   "execution_count": 3,
   "metadata": {},
   "outputs": [],
   "source": [
    "import pandas as pd"
   ]
  },
  {
   "cell_type": "code",
   "execution_count": 21,
   "metadata": {},
   "outputs": [
    {
     "output_type": "execute_result",
     "data": {
      "text/plain": [
       "     trip_id duration     start_time       end_time start_station start_lat  \\\n",
       "0  134867493       25  1/1/2020 0:16  1/1/2020 0:41          3063    34.048   \n",
       "1  134867799       35  1/1/2020 0:24  1/1/2020 0:59          4285       NaN   \n",
       "2  134868104       37  1/1/2020 0:31  1/1/2020 1:08          4344   34.0143   \n",
       "3  134868103       36  1/1/2020 0:32  1/1/2020 1:08          4344   34.0143   \n",
       "4  134868102       35  1/1/2020 0:33  1/1/2020 1:08          4344   34.0143   \n",
       "\n",
       "  start_lon end_station  end_lat  end_lon bike_id plan_duration  \\\n",
       "0  -118.254        4491  34.0474 -118.248   18419            30   \n",
       "1       NaN        4354  34.0177 -118.409   15661             1   \n",
       "2  -118.491        4322  34.0059 -118.429   15848             1   \n",
       "3  -118.491        4322  34.0059 -118.429   16053             1   \n",
       "4  -118.491        4322  34.0059 -118.429   15694             1   \n",
       "\n",
       "  trip_route_category passholder_type bike_type  \n",
       "0             One Way    Monthly Pass  electric  \n",
       "1             One Way    One Day Pass     smart  \n",
       "2             One Way         Walk-up     smart  \n",
       "3             One Way         Walk-up     smart  \n",
       "4             One Way         Walk-up     smart  "
      ],
      "text/html": "<div>\n<style scoped>\n    .dataframe tbody tr th:only-of-type {\n        vertical-align: middle;\n    }\n\n    .dataframe tbody tr th {\n        vertical-align: top;\n    }\n\n    .dataframe thead th {\n        text-align: right;\n    }\n</style>\n<table border=\"1\" class=\"dataframe\">\n  <thead>\n    <tr style=\"text-align: right;\">\n      <th></th>\n      <th>trip_id</th>\n      <th>duration</th>\n      <th>start_time</th>\n      <th>end_time</th>\n      <th>start_station</th>\n      <th>start_lat</th>\n      <th>start_lon</th>\n      <th>end_station</th>\n      <th>end_lat</th>\n      <th>end_lon</th>\n      <th>bike_id</th>\n      <th>plan_duration</th>\n      <th>trip_route_category</th>\n      <th>passholder_type</th>\n      <th>bike_type</th>\n    </tr>\n  </thead>\n  <tbody>\n    <tr>\n      <th>0</th>\n      <td>134867493</td>\n      <td>25</td>\n      <td>1/1/2020 0:16</td>\n      <td>1/1/2020 0:41</td>\n      <td>3063</td>\n      <td>34.048</td>\n      <td>-118.254</td>\n      <td>4491</td>\n      <td>34.0474</td>\n      <td>-118.248</td>\n      <td>18419</td>\n      <td>30</td>\n      <td>One Way</td>\n      <td>Monthly Pass</td>\n      <td>electric</td>\n    </tr>\n    <tr>\n      <th>1</th>\n      <td>134867799</td>\n      <td>35</td>\n      <td>1/1/2020 0:24</td>\n      <td>1/1/2020 0:59</td>\n      <td>4285</td>\n      <td>NaN</td>\n      <td>NaN</td>\n      <td>4354</td>\n      <td>34.0177</td>\n      <td>-118.409</td>\n      <td>15661</td>\n      <td>1</td>\n      <td>One Way</td>\n      <td>One Day Pass</td>\n      <td>smart</td>\n    </tr>\n    <tr>\n      <th>2</th>\n      <td>134868104</td>\n      <td>37</td>\n      <td>1/1/2020 0:31</td>\n      <td>1/1/2020 1:08</td>\n      <td>4344</td>\n      <td>34.0143</td>\n      <td>-118.491</td>\n      <td>4322</td>\n      <td>34.0059</td>\n      <td>-118.429</td>\n      <td>15848</td>\n      <td>1</td>\n      <td>One Way</td>\n      <td>Walk-up</td>\n      <td>smart</td>\n    </tr>\n    <tr>\n      <th>3</th>\n      <td>134868103</td>\n      <td>36</td>\n      <td>1/1/2020 0:32</td>\n      <td>1/1/2020 1:08</td>\n      <td>4344</td>\n      <td>34.0143</td>\n      <td>-118.491</td>\n      <td>4322</td>\n      <td>34.0059</td>\n      <td>-118.429</td>\n      <td>16053</td>\n      <td>1</td>\n      <td>One Way</td>\n      <td>Walk-up</td>\n      <td>smart</td>\n    </tr>\n    <tr>\n      <th>4</th>\n      <td>134868102</td>\n      <td>35</td>\n      <td>1/1/2020 0:33</td>\n      <td>1/1/2020 1:08</td>\n      <td>4344</td>\n      <td>34.0143</td>\n      <td>-118.491</td>\n      <td>4322</td>\n      <td>34.0059</td>\n      <td>-118.429</td>\n      <td>15694</td>\n      <td>1</td>\n      <td>One Way</td>\n      <td>Walk-up</td>\n      <td>smart</td>\n    </tr>\n  </tbody>\n</table>\n</div>"
     },
     "metadata": {},
     "execution_count": 21
    }
   ],
   "source": [
    "df = pd.read_csv('metrobike-2020.csv')\n",
    "df.head()"
   ]
  },
  {
   "cell_type": "code",
   "execution_count": 25,
   "metadata": {},
   "outputs": [
    {
     "output_type": "execute_result",
     "data": {
      "text/plain": [
       "Index(['trip_id', 'duration', 'start_time', 'end_time', 'start_station',\n",
       "       'start_lat', 'start_lon', 'end_station', 'end_lat', 'end_lon',\n",
       "       'bike_id', 'plan_duration', 'trip_route_category', 'passholder_type',\n",
       "       'bike_type'],\n",
       "      dtype='object')"
      ]
     },
     "metadata": {},
     "execution_count": 25
    }
   ],
   "source": [
    "df.columns"
   ]
  },
  {
   "cell_type": "code",
   "execution_count": 37,
   "metadata": {},
   "outputs": [
    {
     "output_type": "execute_result",
     "data": {
      "text/plain": [
       "standard     98580\n",
       "electric     82207\n",
       "smart        29187\n",
       "bike_type        3\n",
       "Name: bike_type, dtype: int64"
      ]
     },
     "metadata": {},
     "execution_count": 37
    }
   ],
   "source": [
    "# Calculate number of rides by bicycle type \n",
    "a = df['bike_type'].value_counts()\n",
    "# a.value_counts(normalize=True)\n",
    "a\n",
    "# Calculate number of unique bicycles by type \n"
   ]
  }
 ]
}